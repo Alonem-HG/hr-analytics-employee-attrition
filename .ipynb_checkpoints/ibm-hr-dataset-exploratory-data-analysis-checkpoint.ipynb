{
 "cells": [
  {
   "cell_type": "markdown",
   "metadata": {
    "_cell_guid": "3d515079-1b10-4c1e-8135-bb6c65ee8191",
    "_uuid": "8ad191d0ba730e521c75e5f3c49d5001d8632f0a"
   },
   "source": [
    "# IBM HR Dataset: Exploratory Data Analysis\n",
    "\n",
    "Source data available here:\n",
    "https://www.kaggle.com/pavansubhasht/ibm-hr-analytics-attrition-dataset\n",
    "\n",
    "This is the first of a set of these I will be working on to show off some of the analytic skills I've gained over the past 12 months. It's not a polished report and the graphs are stock Seaborn graphs but hopefully it gives you an idea of how I think about data and the sorts of things I can do.\n",
    "\n",
    "This dataset isn't as `dirty` as I would like to show off some of my cleaning skills but alas that'll have to wait for another day. \n",
    "\n",
    "For this analysis I'm going to assume it's for a fictional company called TechCo! Which of course is the name of some real companies but it's too late to turn back now.\n",
    "\n",
    "![](http://www.techco.ab.ca/logotech.gif)\n",
    "\n",
    "## Part 1: Cleaning the Data\n",
    "## Part 2: Who leaves TechCo?\n",
    "## Part 3: Gender Equality at TechCo\n",
    "## Part 4: Predicting attrition at TechCo"
   ]
  },
  {
   "cell_type": "code",
   "execution_count": 37,
   "metadata": {
    "_cell_guid": "2172e829-87db-4da8-84c9-101de7405646",
    "_uuid": "3e55eaadb8a6927bde4ac49d409b5b84cc805084",
    "collapsed": true
   },
   "outputs": [],
   "source": [
    "# REQUIRES PYTHON 3.6\n",
    "\n",
    "import pandas as pd\n",
    "import seaborn as sns\n",
    "import numpy as np\n",
    "import matplotlib.pyplot as plt\n",
    "import matplotlib\n",
    "import re\n",
    "\n",
    "from scipy import stats\n",
    "from functools import reduce\n",
    "\n",
    "# Some matplotlib options\n",
    "%matplotlib inline\n",
    "matplotlib.style.use(\"ggplot\")\n",
    "\n",
    "# General pandas options\n",
    "pd.set_option('display.max_colwidth', -1)  # Show the entire column \n",
    "pd.options.display.max_columns = 100 \n",
    "pd.options.display.max_rows = 10000 \n",
    "\n",
    "# Seaborn options\n",
    "sns.set_style(\"whitegrid\")"
   ]
  },
  {
   "cell_type": "code",
   "execution_count": 38,
   "metadata": {
    "_cell_guid": "3d3d3145-e110-48c3-836f-3c4ea0f256f3",
    "_uuid": "b573474e79065f9e17f3380ab5f61a90c3a9e4c5"
   },
   "outputs": [],
   "source": [
    "# Load the data in\n",
    "hr = pd.read_csv(\"../input/ibm-hr-wmore-rows/IBM HR Data.csv\")\n",
    "\n",
    "# Lets see what it looks like\n",
    "print(hr.shape)\n",
    "before_dedup = hr.shape[0]\n",
    "hr.describe(include='all')"
   ]
  },
  {
   "cell_type": "markdown",
   "metadata": {
    "_cell_guid": "abef37af-e3ea-49b8-82bd-479c0801f95f",
    "_uuid": "a231c6f81ac3101ef021facb1cb429da029a4e0b"
   },
   "source": [
    "## Initial Brainstorm\n",
    "\n",
    "- Might have some interesting clusters \n",
    "- Correlation plot would be nice\n",
    "- Can we train a model to predict attrition? Can get some feature importances.\n",
    "- What role does gender and age play in this workplace?\n",
    "- How much does income matter?\n",
    "- Are more educated people more likely to leave?\n",
    "- Which Education Field is more likely to leave?\n",
    "- Does the source of the employee matter? Which website produces the best employees?\n",
    "- Is JobLevel equivalent to performance? Can we create a feature to measure this?\n",
    "- Is there a difference in gender?\n",
    "- People who live more than 25 minutes away from work tend to be less happy than those who don't. Lets see whether this is the case.\n",
    "- What sources are best for high performing employees?\n",
    "- What factors contribute to retaining high performing employees?\n",
    "- How does satisfaction and work-life balance relate to employee retention?\n",
    "- How many new hires leave in less than a year and why?"
   ]
  },
  {
   "cell_type": "code",
   "execution_count": 39,
   "metadata": {
    "_cell_guid": "65e13e62-47a9-4b8d-b23f-bfa4272e7e8b",
    "_uuid": "c996f548c528d1eb58d928cde2f5a4f5c3be1e9b"
   },
   "outputs": [],
   "source": [
    "hr.head()"
   ]
  },
  {
   "cell_type": "markdown",
   "metadata": {
    "_cell_guid": "9cff3a04-2163-4c0e-b6fe-17cf60b7f16d",
    "_uuid": "a57167204d886c9f89cf6c2e5d19310d12759d7d"
   },
   "source": [
    "## Part 1: Cleaning the Data\n",
    "\n",
    "- Some of the rows are misaligned at different places but it appears the last row always gets filled\n",
    "- Few missing values but appears to only be a small fraction of the entire dataset\n",
    "- Might have some duplicates"
   ]
  },
  {
   "cell_type": "code",
   "execution_count": 40,
   "metadata": {
    "_cell_guid": "b6d5dad5-cff3-46e7-9935-6ccc7de3e370",
    "_uuid": "88d81b2cf9704e99778cbb058f5a65aab848695b"
   },
   "outputs": [],
   "source": [
    "# Check for missings\n",
    "print(np.count_nonzero(hr.isnull().values))\n",
    "print(hr.isnull().any())\n",
    "\n",
    "# Check for duplicates\n",
    "print(hr[hr.duplicated(keep=False)].shape)\n",
    "\n",
    "# Strip whitespaces\n",
    "hr = hr.apply(lambda x: x.str.strip() if x.dtype == \"object\" else x)\n",
    "\n",
    "# Check for conflicting types\n",
    "hr.dtypes"
   ]
  },
  {
   "cell_type": "code",
   "execution_count": 41,
   "metadata": {
    "_cell_guid": "b7bd2979-1f07-440f-a4a5-122ba5b9eaed",
    "_uuid": "22baff39a68b4b5b27b47f41e24634fd94d8db2b"
   },
   "outputs": [],
   "source": [
    "# Hate to throw away data but it's only 353 values out of over 23 thousand\n",
    "hr.dropna(axis=0, inplace=True)\n",
    "\n",
    "# Get rid of all the duplicates\n",
    "hr.drop_duplicates(inplace=True)\n",
    "\n",
    "# Lets see what it looks like now\n",
    "print(\"Duplicates Removed: \" + str(before_dedup - hr.shape[0]))\n",
    "hr.describe()"
   ]
  },
  {
   "cell_type": "markdown",
   "metadata": {
    "_cell_guid": "628e6252-da01-468e-96ba-29f26b65c5d4",
    "_uuid": "ff64bc1338cffb601409fb4f091b7d98d51a1a32"
   },
   "source": [
    "### Holy Moly! Lots of duplicates in here.\n",
    "![alt text](http://theinfosphere.org/images/6/6a/Bender_duplicates.png \"Yay\")\n",
    "From looking at the dtypes I know there must be some issues with HourlyRate, JobSatisfaction, MonthlyIncome, and PercentSalaryHike because they all should be floats "
   ]
  },
  {
   "cell_type": "code",
   "execution_count": 42,
   "metadata": {
    "_cell_guid": "5c62183f-5690-4740-b8c9-63cf6f70bcb5",
    "_uuid": "779009196797a09e2173dffd9f5377d1a46c30da"
   },
   "outputs": [],
   "source": [
    "hr['JobSatisfaction'].value_counts()"
   ]
  },
  {
   "cell_type": "code",
   "execution_count": 43,
   "metadata": {
    "_cell_guid": "9b550b37-21b9-4b3c-bba3-04490f1276b2",
    "_uuid": "fd909b49c7b6987c62b5a30ccfdb1460d70026a8"
   },
   "outputs": [],
   "source": [
    "hr['JobSatisfaction'].unique()"
   ]
  },
  {
   "cell_type": "code",
   "execution_count": 44,
   "metadata": {
    "_cell_guid": "3f11ec14-683a-483e-9ef4-c9d7cfdedc96",
    "_uuid": "73e614d86a14d083da11c8d61d0c6fbb67f820f8",
    "collapsed": true
   },
   "outputs": [],
   "source": [
    "# Half the rows in JobSatisfaction seem to be strings. \n",
    "# It's the same for the other columns. Let's cast them to floats.\n",
    "cols = ['JobSatisfaction', 'HourlyRate', 'MonthlyIncome', 'PercentSalaryHike']\n",
    "hr[cols] = hr[cols].applymap(np.float64)"
   ]
  },
  {
   "cell_type": "code",
   "execution_count": 45,
   "metadata": {
    "_cell_guid": "83e01e91-75c6-4eee-a1ac-57e615dda38c",
    "_uuid": "1d436f1c5c1f1507909a9e5306b541aa2f85b56c",
    "collapsed": true
   },
   "outputs": [],
   "source": [
    "# I know from looking in Excel that certain fields are useless so lets get rid of them\n",
    "hr = hr.drop(['EmployeeCount', 'Over18', \"StandardHours\", \"EmployeeNumber\"], 1)"
   ]
  },
  {
   "cell_type": "code",
   "execution_count": 46,
   "metadata": {
    "_cell_guid": "0e5f0939-60e6-4148-a82b-bfdc2c7c9bd9",
    "_uuid": "6325945d969f685735b3978bf2ffd6b3dde01fdf"
   },
   "outputs": [],
   "source": [
    "# Lets try find some more funky rows\n",
    "for col in hr:\n",
    "    print(col)\n",
    "    print(hr[col].unique())"
   ]
  },
  {
   "cell_type": "code",
   "execution_count": 47,
   "metadata": {
    "_cell_guid": "12145172-2317-4918-bba4-e3444873efbb",
    "_uuid": "5dc7bb824966015e3b3c5c69d1fa0f5d6f409817",
    "collapsed": true
   },
   "outputs": [],
   "source": [
    "hr.to_csv(\"hr-clean.csv\")"
   ]
  },
  {
   "cell_type": "markdown",
   "metadata": {
    "_cell_guid": "ef24ba76-ef06-4ba9-8a59-3099edea3a3e",
    "_uuid": "69e5b53a5a37bec4a872bd6898275156370aa00c"
   },
   "source": [
    "## YAY ITS PRETTY MUCH ALL CLEAN\n",
    "![alt text](https://s1.qwant.com/thumbr/0x0/9/e/a72e8a67a8f50c338ab166942d1eac/b_1_q_0_p_0.jpg?u=https%3A%2F%2Fwww.yay.com%2Fstatic%2Fimg%2Fabout-01.png&q=0&b=1&p=0&a=1 \"Yay\")\n",
    "\n",
    "That was too easy. It's almost as if this dataset isn't real O_o.\n",
    "\n",
    "## Finding correlations\n",
    "\n",
    "Before I move any further I'd like to check over the data broadly to see if anything in the data catches my eye. Plotting a correlation heatmap, which is a measure of the strength of a relationship between two variables, can tell me quite a lot about the data in a short amount of time. "
   ]
  },
  {
   "cell_type": "code",
   "execution_count": 48,
   "metadata": {
    "_cell_guid": "cb35c309-bcbc-42f7-bc9d-c6a80894c04e",
    "_uuid": "3a121e1bd17cf4543d947924171a8593aa1e8c2c"
   },
   "outputs": [],
   "source": [
    "# Subset the dataset into all the numerical values\n",
    "numeric_hr = hr.select_dtypes(include=[np.number])\n",
    "\n",
    "# Compete the correlation matrix\n",
    "corr = numeric_hr._get_numeric_data().corr()\n",
    "\n",
    "# Generate a mask for the upper triangle\n",
    "mask = np.zeros_like(corr, dtype=np.bool)\n",
    "mask[np.triu_indices_from(mask)] = True\n",
    "\n",
    "# Set up the matplotlib figure\n",
    "f, ax = plt.subplots(figsize=(11, 9))\n",
    "\n",
    "# Generate a custom diverging colormap\n",
    "cmap = sns.diverging_palette(220, 10, as_cmap=True)\n",
    "\n",
    "# Draw the heatmap with the mask and correct aspect ratio\n",
    "heatmap = sns.heatmap(corr, mask=mask, cmap=cmap, center=0.0,\n",
    "                      vmax = 1, square=True, linewidths=.5, ax=ax)\n",
    "plt.savefig('corr-heat.png')\n",
    "plt.show()"
   ]
  },
  {
   "cell_type": "markdown",
   "metadata": {
    "_cell_guid": "ebd41e6b-1a90-4d86-ba24-fd22b5dc1db1",
    "_uuid": "b660fe6c4a3651c2aa928c1e5b0f18c0c6aad073"
   },
   "source": [
    "## Interesting!\n",
    "\n",
    "Most of the values appear to be weakly correlated with each other. But there's lots of insights here to be had.\n",
    "\n",
    "Takeaways\n",
    "- Perhaps unsurprisingly TotalWorkingYears is highly correlated to Job Level (i.e., the longer you work the higher job level you achieve)\n",
    "- HourlyRate, DailyRate, and MonthlyRate are completely uncorrelated with each other which makes no sense. As MonthlyIncome is highly correlated to Job Level i'm inclined to keep using that over any of these. \n",
    "- Age is correlated JobLevel and Education (i.e., the older you are the more educated and successful you are)\n",
    "- Work life Balance correlates to pretty much none of the numeric values \n",
    "- Number of companies you've worked at is weakly correlated with the time you've spent at the company (might indicate you're likely the leave)\n",
    "- If your performance rating is high you'll get a bigger raise! \n",
    "\n",
    "Now lets look at some numbers:"
   ]
  },
  {
   "cell_type": "code",
   "execution_count": 49,
   "metadata": {
    "_cell_guid": "62d43c90-cb18-4fe1-9b6c-325677079428",
    "_uuid": "3ec31d8730e4facd3371ee55eef785cd478cb6f6",
    "collapsed": true
   },
   "outputs": [],
   "source": [
    "# Lets drop the rates from the numerics dataframe\n",
    "numeric_hr = numeric_hr.drop([\"HourlyRate\",\"DailyRate\", \"MonthlyRate\"], 1)"
   ]
  },
  {
   "cell_type": "code",
   "execution_count": 50,
   "metadata": {
    "_cell_guid": "fc366c90-e85f-4405-9c36-b74f5d537e86",
    "_uuid": "2fd82da2a0327676b9fd7c5e21554457910c7ca4"
   },
   "outputs": [],
   "source": [
    "hr.describe()"
   ]
  },
  {
   "cell_type": "markdown",
   "metadata": {
    "_cell_guid": "c28049f6-162d-4909-82d2-aa41e58283d7",
    "_uuid": "fbd916011d830e403e83f41c4ea24fc9002fe3a0"
   },
   "source": [
    "Some nice summary statistics to be had here:\n",
    "\n",
    "- Mean age of TechCo employees is 37\n",
    "- Most people get a promotion in 2-5 years\n",
    "- Average time employed at TechCo is 7 years\n",
    "- No one has a performance rating under 3\n",
    "- Lots of training times at TechCo: seems like most people get training 2-3 times a year\n",
    "\n",
    "So everyone is performing well, getting training, and is staying at their jobs for quite a while. Who does leave then?\n",
    "\n",
    "## Part 2: Who leaves TechCo?\n",
    "\n",
    "There are lots of ways to approach this, I could spend a long time digging into this thoroughly, looking at the impact of travel, the department you're in, gender, income, & work life balance. Given this is already rather long I'm only going to focus on age, the time spent at TechCo, and whether you worked overtime or not."
   ]
  },
  {
   "cell_type": "code",
   "execution_count": 51,
   "metadata": {
    "_cell_guid": "31ee0d75-0bdf-4840-9fb9-929c32a31907",
    "_uuid": "835d5cb59561406faa8f5fb37c03e52d79a6ec9b"
   },
   "outputs": [],
   "source": [
    "print(hr.Attrition.value_counts())\n",
    "\n",
    "# Easier to join all leaver together for my analyses considering there are very few terminations\n",
    "hr['Attrition'] = hr['Attrition'].replace(\"Termination\", \"Voluntary Resignation\")\n",
    "hr['Attrition'] = hr['Attrition'].replace(\"Voluntary Resignation\", \"Former Employees\")\n",
    "hr['Attrition'] = hr['Attrition'].replace(\"Current employee\", \"Current Employees\")\n",
    "\n",
    "plt.figure(figsize=(12,8))\n",
    "plt.title('Number of Former/Current Employees at TechCo')\n",
    "sns.countplot(x=\"Attrition\", data=hr)\n",
    "hr['Attrition'].value_counts()/hr['Attrition'].count()*100"
   ]
  },
  {
   "cell_type": "markdown",
   "metadata": {
    "_cell_guid": "27b79989-2152-405f-97f0-e3fb8ac153ba",
    "_uuid": "defd3d17598213289103e7bb7f4214b326944d3c"
   },
   "source": [
    "It appears that barely anyone has left! Considering we have people who have worked at TechCo for 40 years I would expect there to be more former than current employees. Perhaps TechCo has suddenly had a rapid expansion. \n",
    "\n",
    "Lets see whether age is a factor."
   ]
  },
  {
   "cell_type": "code",
   "execution_count": 52,
   "metadata": {
    "_cell_guid": "29c40b63-fe6d-4d0c-a930-9e43b97e4e4e",
    "_uuid": "a10261b74ae8cda9c79e879a72eb1e02389a4033"
   },
   "outputs": [],
   "source": [
    "temp3 = pd.crosstab([hr.Department,hr.Gender,hr.MaritalStatus,hr.WorkLifeBalance], hr['Attrition'])\n",
    "print(temp3)\n",
    "income_pivot = hr.pivot_table(values=[\"MonthlyIncome\"], index=[\"Gender\",\"MaritalStatus\",\"WorkLifeBalance\"], aggfunc=[np.mean, np.std])\n",
    "print(income_pivot)"
   ]
  },
  {
   "cell_type": "code",
   "execution_count": 53,
   "metadata": {
    "_cell_guid": "708352e7-b217-469f-b7dd-e148429683a2",
    "_uuid": "ecc684308074a30624c10bddef0e735e410cb1c5"
   },
   "outputs": [],
   "source": [
    "# Plot the distribution of age by Attrition Factor\n",
    "plt.figure(figsize=(12,8))\n",
    "plt.title('Age distribution of Employees at Telco by Attrition')\n",
    "sns.distplot(hr.Age[hr.Attrition == 'Former Employees'], bins = np.linspace(1,70,35))\n",
    "sns.distplot(hr.Age[hr.Attrition == 'Current Employees'], bins = np.linspace(1,70,35))\n",
    "#sns.distplot(hr.Age[hr.Attrition == 'Termination'], bins = np.linspace(0,70,35))\n",
    "plt.legend(['Former Emploees','Current Employees'])"
   ]
  },
  {
   "cell_type": "markdown",
   "metadata": {
    "_cell_guid": "73e65ecb-602f-4d98-bf00-646e7e322118",
    "_uuid": "a7b94f854f78e18c7d82e30d3ff9f2e3f3bb9f75"
   },
   "source": [
    "Looks like most people leave TechCo in their early 30's. Maybe TechCorp has trouble retaining young employees? How long do employees tend to stick around at TechCo for? When do the majority of employees leave? In their first year perhaps?"
   ]
  },
  {
   "cell_type": "code",
   "execution_count": 54,
   "metadata": {
    "_cell_guid": "84e2bd2d-1c52-40f1-ba19-6ac338d7e660",
    "_uuid": "3ed290dd6f36290bb19c7de214fc56213114d2c8"
   },
   "outputs": [],
   "source": [
    "# Plot the distribution of Years at Company by Attrition\n",
    "plt.figure(figsize=(12,8))\n",
    "plt.title('Distribution of the Number of Years Employees Spend at Telco by Attrition')\n",
    "#sns.distplot(hr.YearsAtCompany, bins = np.linspace(0,40,40))\n",
    "sns.distplot(hr.YearsAtCompany[hr.Attrition == 'Former Employees'], bins = np.linspace(0,40,40))\n",
    "sns.distplot(hr.YearsAtCompany[hr.Attrition == 'Current Employees'], bins = np.linspace(0,40,40))\n",
    "plt.legend(['Former Emploees','Current Employees'])"
   ]
  },
  {
   "cell_type": "markdown",
   "metadata": {
    "_cell_guid": "17b29b27-d22a-4a05-813a-881a893eaf93",
    "_uuid": "731cab3112fff372fa8964c690cee371f765883e"
   },
   "source": [
    "Two takeaways:\n",
    "\n",
    "- The highest attrition rate occurs in the first year of the job. Over 20% of all employees who left did so in their first year. \n",
    "- The vast majority of the workforce has been at TechCo for under 10 years. Perhaps only the best and brightest get the privledge to continue on after 10 years.\n",
    "\n",
    "I suspect if you're over worked you should be more likely to leave. Lets see if that's the case."
   ]
  },
  {
   "cell_type": "code",
   "execution_count": 55,
   "metadata": {
    "_cell_guid": "8f1264b1-d9c0-4533-9d85-a4fa9b401d53",
    "_uuid": "b0a551466332f849f2f98c0aeac88ecf5f7cb4bc"
   },
   "outputs": [],
   "source": [
    "# Plot out the counts of OverTime\n",
    "sns.factorplot(\"Attrition\", col=\"OverTime\", data=hr, kind=\"count\", col_wrap=2, size=5)\n",
    "plt.subplots_adjust(top=.85)\n",
    "plt.suptitle('Attrition Counts by whether an Employee worked Over Time')\n",
    "\n",
    "# Chi squared test of independence\n",
    "# H0: Overtime and Attrition are independent of each other\n",
    "res_1 = hr.OverTime[hr.Attrition == 'Current Employees'].value_counts()\n",
    "res_2 = hr.OverTime[hr.Attrition == 'Former Employees'].value_counts()\n",
    "obs = np.array([res_1, res_2])\n",
    "stats.chi2_contingency(obs)"
   ]
  },
  {
   "cell_type": "markdown",
   "metadata": {
    "_cell_guid": "14b869f7-3b0a-4ccb-a2af-a62751680a18",
    "_uuid": "50fc97a3b2be6ab39e6e7e992c6e1200a5484f9b"
   },
   "source": [
    "By eyeballing this plot I can see the employees who work over time leave at a higher rate than those who do not. But since I was unsure I did a Chi Squared Test of Independence to see whether this is true. Turns out with a p-value of 4.2^-85 (p < 0.05), I can confidently say over time is related to attrition.\n",
    "\n",
    "Given this assoication and that of age: perhaps over worked employees are more likely to be under 30?"
   ]
  },
  {
   "cell_type": "code",
   "execution_count": 56,
   "metadata": {
    "_cell_guid": "3b89a1a7-7e2f-4be7-92e7-78f43f17098c",
    "_uuid": "8109faf28b4f949b1bee27f34a6df7d668dda3fa"
   },
   "outputs": [],
   "source": [
    "# Plot the distribution of Years at Company by Attrition\n",
    "plt.figure(figsize=(12,8))\n",
    "plt.title('Age Distribution of Employees who have worked Over Time')\n",
    "#sns.distplot(hr.YearsAtCompany, bins = np.linspace(0,40,40))\n",
    "sns.distplot(hr.Age[hr.OverTime == 'Yes'], bins = np.linspace(0,70,35))"
   ]
  },
  {
   "cell_type": "markdown",
   "metadata": {
    "_cell_guid": "9eea00e3-3e08-4480-acab-91a0f0190f21",
    "_uuid": "c3f23f9aa5ee93531c7c043c64a858dd1511b846"
   },
   "source": [
    "It turns out TechCo doesn't discriminate on who works overtime. It appears to be distributed equally throughout all ages. I feel sorry for the 60 year olds putting in the hard yards. \n",
    "\n",
    "Now let's look at the hard hitting question:\n",
    "\n",
    "## Part 3: Gender Equality at TechCo"
   ]
  },
  {
   "cell_type": "code",
   "execution_count": 57,
   "metadata": {
    "_cell_guid": "0226f23c-bcec-48a0-a683-19ecfa01e83e",
    "_uuid": "9bab3024e249f9c3b536aeba37728b8a4bb8f6dd"
   },
   "outputs": [],
   "source": [
    "plt.figure(figsize=(12,8))\n",
    "sns.countplot(x=\"Gender\", data=hr)\n",
    "# Proportion of males\n",
    "plt.title('Frequency of Gender at TechCo')\n",
    "hr['Gender'].value_counts().Male/hr['Gender'].count()*100"
   ]
  },
  {
   "cell_type": "markdown",
   "metadata": {
    "_cell_guid": "d09341d1-952d-492d-b880-cfa486fdf941",
    "_uuid": "60c19ab1dfc89e7744306d9e086622d9871c7ac0"
   },
   "source": [
    "Clearly there's a gender imbalance (58% Male/42% Female) at TechCo. Perhaps there's a gender imbalance in attrition too?"
   ]
  },
  {
   "cell_type": "code",
   "execution_count": 58,
   "metadata": {
    "_cell_guid": "2e534203-e573-4c9a-96b9-b3d7474a9c17",
    "_uuid": "60c63613f20dfb3afb4fdaa8139b2cd8c1e84e5c"
   },
   "outputs": [],
   "source": [
    "# First lets cast these string columns into categories\n",
    "cats = ['Attrition', 'BusinessTravel', 'Department', 'EducationField', 'Gender', 'JobRole', 'MaritalStatus', 'OverTime']\n",
    "for col in cats:\n",
    "    hr[col] = hr[col].astype('category')\n",
    "\n",
    "group_hr = hr.groupby(cats)\n",
    "\n",
    "# Plot the distribution of females in this workplace\n",
    "plt.figure(figsize=(12,8))\n",
    "#sns.countplot(x=\"Gender\", hue=\"Attrition\", data=hr[hr['Attrition'].isin(['Voluntary Resignation', 'Termination'])])\n",
    "\n",
    "attrition_counts = (hr.groupby(['Gender'])['Attrition']\n",
    "                     .value_counts(normalize=True)\n",
    "                     .rename('percentage')\n",
    "                     .mul(100)\n",
    "                     .reset_index()\n",
    "                     .sort_values('Attrition'))\n",
    "plt.title('Percent Distribution of Gender by Attrition at TechCo')\n",
    "sns.barplot(x=\"Gender\", y=\"percentage\", hue=\"Attrition\", data=attrition_counts)\n",
    "\n",
    "# It's the same, looks suss\n",
    "print(attrition_counts)\n",
    "\n",
    "# Nope my code is alright"
   ]
  },
  {
   "cell_type": "markdown",
   "metadata": {
    "_cell_guid": "c2b22b07-13be-47df-839e-f00758469262",
    "_uuid": "486b4e10631e6ddfaed98740df8178bf5df0ada5"
   },
   "source": [
    "It's rather odd that the proportion of attrition rates is almost exactly the same for men and women. Let's see if women travel more?"
   ]
  },
  {
   "cell_type": "code",
   "execution_count": 59,
   "metadata": {
    "_cell_guid": "b888f47b-5770-42f8-8196-fec7207f5ede",
    "_uuid": "5485dfe73d8d26e413ce6c9d58c13babbc462ad2"
   },
   "outputs": [],
   "source": [
    "# Plot the distribution of females in this workplace\n",
    "plt.figure(figsize=(12,8))\n",
    "#sns.countplot(x=\"Gender\", hue=\"Attrition\", data=hr[hr['Attrition'].isin(['Voluntary Resignation', 'Termination'])])\n",
    "\n",
    "attrition_counts = (hr.groupby(['Gender'])['BusinessTravel']\n",
    "                     .value_counts(normalize=True)\n",
    "                     .rename('percentage')\n",
    "                     .mul(100)\n",
    "                     .reset_index()\n",
    "                     .sort_values('BusinessTravel'))\n",
    "plt.title('Percent Distribution of Gender by Business Travel Frequency')\n",
    "sns.barplot(x=\"Gender\", y=\"percentage\", hue=\"BusinessTravel\", data=attrition_counts) \n",
    "\n",
    "#sns.countplot(x=\"Gender\", data=hr, palette=\"Greens_d\")"
   ]
  },
  {
   "cell_type": "markdown",
   "metadata": {
    "_cell_guid": "daf2c3b8-0787-4e44-923f-63ec928bed92",
    "_uuid": "132f7fbcaabc03310bf7d26b536c524b6f90521d"
   },
   "source": [
    "Same again. What about across departments?"
   ]
  },
  {
   "cell_type": "code",
   "execution_count": 60,
   "metadata": {
    "_cell_guid": "d189a416-1bd3-456a-8a09-f5029b750dc6",
    "_uuid": "78bf528cb6e83b68420b95795707ee8aa78c37e2"
   },
   "outputs": [],
   "source": [
    "# Plot the distribution of females in this workplace\n",
    "plt.figure(figsize=(12,8))\n",
    "#sns.countplot(x=\"Gender\", hue=\"Attrition\", data=hr[hr['Attrition'].isin(['Voluntary Resignation', 'Termination'])])\n",
    "\n",
    "attrition_counts = (hr.groupby(['Gender'])['Department']\n",
    "                     .value_counts(normalize=True)\n",
    "                     .rename('percentage')\n",
    "                     .mul(100)\n",
    "                     .reset_index()\n",
    "                     .sort_values('Department'))\n",
    "plt.title('Distribution of Gender across Departments')\n",
    "sns.barplot(x=\"Gender\", y=\"percentage\", hue=\"Department\", data=attrition_counts) "
   ]
  },
  {
   "cell_type": "markdown",
   "metadata": {
    "_cell_guid": "c1672200-9ad5-4787-bc27-c757d9a8c6a4",
    "_uuid": "4fce00de0a11c3e2e57d332510da656f33a9d939"
   },
   "source": [
    "Same thing! Freaky if it was real. It's likely gender was assigned randomly over the whole dataset. "
   ]
  },
  {
   "cell_type": "code",
   "execution_count": 61,
   "metadata": {
    "_cell_guid": "311d54fd-59da-4ee6-9d4f-7f4c148c3336",
    "_uuid": "561d5f48c29cb6e02e0b66728f41f439da1fb486"
   },
   "outputs": [],
   "source": [
    "# Plot the distribution of age by gender\n",
    "plt.figure(figsize=(12,8))\n",
    "sns.distplot(hr.Age[hr.Gender == 'Male'], bins = np.linspace(0,70,35))\n",
    "sns.distplot(hr.Age[hr.Gender == 'Female'], bins = np.linspace(0,70,35))\n",
    "plt.title('Distribution of Age by Gender')\n",
    "plt.legend(['Males','Females'])"
   ]
  },
  {
   "cell_type": "markdown",
   "metadata": {
    "_cell_guid": "f1db9c43-4d57-4753-a620-384a17634285",
    "_uuid": "d102a666307069bf17415d25c4c34563643993ba"
   },
   "source": [
    "The distribution of ages at this company is mostly equal, but 36-38 year old middle-aged males (of which there are roughly 670) outnumber the rest of the age brackets.\n",
    "\n",
    "Do males earn more at TechCo than females?"
   ]
  },
  {
   "cell_type": "code",
   "execution_count": 62,
   "metadata": {
    "_cell_guid": "899944f1-9b85-461c-949b-fa77d6c75762",
    "_uuid": "e7a6c9f9580ab99b48c1462edaacfee1562f4216"
   },
   "outputs": [],
   "source": [
    "# It appears women are under-represented at this company. Let's see if they get paid less.\n",
    "plt.figure(figsize=(15,10))\n",
    "plt.title('Average Monthly Income by Gender')\n",
    "sns.barplot(x=\"Gender\", y=\"MonthlyIncome\", data=hr)\n",
    "\n",
    "# T-Test\n",
    "cat1 = hr[hr['Gender']=='Male']\n",
    "cat2 = hr[hr['Gender']=='Female']\n",
    "\n",
    "print(stats.ttest_ind(cat1['MonthlyIncome'], cat2['MonthlyIncome']))"
   ]
  },
  {
   "cell_type": "markdown",
   "metadata": {
    "_cell_guid": "e68ffcc0-0680-4d3b-8460-83c3493e02f4",
    "_uuid": "3cdd7d40b480b467c72bbf6847f94023fdd08f37"
   },
   "source": [
    "Females have a slightly higher monthly income than males. A t-test confirms that this is the case.\n",
    "\n",
    "Let's look at the distribution"
   ]
  },
  {
   "cell_type": "code",
   "execution_count": 63,
   "metadata": {
    "_cell_guid": "47f99a5f-61cb-4b2f-a344-b3b0d81ca06c",
    "_uuid": "998661cedd1d3686c2aa9e8ce779f8d09dc4d584"
   },
   "outputs": [],
   "source": [
    "plt.figure(figsize=(15,10))\n",
    "plt.title('Distribution of Monthly Income by Gender')\n",
    "sns.distplot(hr.MonthlyIncome[hr.Gender == 'Male'], bins = np.linspace(0,20000,20))\n",
    "sns.distplot(hr.MonthlyIncome[hr.Gender == 'Female'], bins = np.linspace(0,20000,20))\n",
    "plt.legend(['Males','Females'])"
   ]
  },
  {
   "cell_type": "markdown",
   "metadata": {
    "_cell_guid": "437db019-575f-4ab2-ac45-fa548a7070f5",
    "_uuid": "999bbe4a015a88f51141acb6931c07e637c3ec78"
   },
   "source": [
    "The most common monthly wage comes in the 2-3K mark. There are noticeably more males in this wage bracket than females.\n",
    "\n",
    "Does martial status have an effect? Married people might have a more stable personal life which leads to better performance in their jobs."
   ]
  },
  {
   "cell_type": "code",
   "execution_count": 64,
   "metadata": {
    "_cell_guid": "21d984db-636b-4237-b995-45fe86933c8a",
    "_uuid": "ab9014d25a3ceead13850dd4d28aa17b39850f09"
   },
   "outputs": [],
   "source": [
    "# What about all the single ladies?\n",
    "plt.figure(figsize=(15,10))\n",
    "plt.title('Average Monthly Income by Gender and Maritial Status')\n",
    "sns.barplot(x=\"MaritalStatus\", y=\"MonthlyIncome\", hue=\"Gender\", data=hr)"
   ]
  },
  {
   "cell_type": "markdown",
   "metadata": {
    "_cell_guid": "590770ae-4425-45c0-964b-40a11563f0e3",
    "_uuid": "cbfa5b702863c8388fac3072cfa66ef62f2db497"
   },
   "source": [
    "It appears that while there are less females in the workplace, they earn more than the males, but leave at the same rates. Married people have clear advantage over single people but it might be correlated simply to age.\n",
    "\n",
    "Let's do a rough check on the age distributions to be sure."
   ]
  },
  {
   "cell_type": "code",
   "execution_count": 65,
   "metadata": {
    "_cell_guid": "ddf0bc60-885e-42bc-b0c4-32e0d29ac3f3",
    "_uuid": "1a59a632345c4dd3c8c411e40741aeb9896a9dd9"
   },
   "outputs": [],
   "source": [
    "# Age by Gender and Martial Status \n",
    "plt.figure(figsize=(15,15))\n",
    "plt.title('Average Monthly Income by Gender and Maritial Status')\n",
    "sns.boxplot(x=\"MaritalStatus\", y=\"Age\", hue=\"Gender\", data=hr, width=.5) "
   ]
  },
  {
   "cell_type": "markdown",
   "metadata": {
    "_cell_guid": "d1fba3c3-cc73-45f4-9009-0e86c5c51ee3",
    "_uuid": "c21f813e25f059cea21f4833660cfa5ef376dee1",
    "collapsed": true
   },
   "source": [
    "Ha! There's no real difference in the distribution of age over these categories. Lets split up the entire dataset based on age brackets."
   ]
  },
  {
   "cell_type": "code",
   "execution_count": 66,
   "metadata": {
    "_cell_guid": "4ba5c44d-f3c2-4f44-b663-70e46ddefb74",
    "_uuid": "050d87c5a473def3364b95371c0b0816740b9142"
   },
   "outputs": [],
   "source": [
    "# Trying to get a binned distribution in of Age by MonthlyIncome in Seaborn\n",
    "plt.figure(figsize=(15,15))\n",
    "bins=[18, 25, 35, 50, 70]\n",
    "out = hr.groupby(pd.cut(hr['Age'], bins=bins, include_lowest=True)).aggregate(np.mean)\n",
    "print(out.head())\n",
    "#out[['Age']] = out[['Age']].applymap(str)\n",
    "out['Age Bracket'] = ['18-25', '26-35', '36-50', '51-70']\n",
    "\n",
    "# Fixed X-axis labels currently looking awful!\n",
    "plt.title('Average Monthly Income by Age Bracket')\n",
    "sns.barplot('Age Bracket', 'MonthlyIncome', data=out, palette=\"muted\")\n",
    "out.head()"
   ]
  },
  {
   "cell_type": "markdown",
   "metadata": {
    "_cell_guid": "708e5fd6-2bee-4959-ba61-737243ab0b8b",
    "_uuid": "8c0267703c32c6e6f71b29418f4291f630e98c40"
   },
   "source": [
    "We can see that wage seems to increase linearly as you move through the age brackets. This could be correlated to how long you've been working at TechCo."
   ]
  },
  {
   "cell_type": "code",
   "execution_count": 67,
   "metadata": {
    "_cell_guid": "953461b9-7d46-4672-bb31-ca4c44f4b163",
    "_uuid": "93cd3a15b230e62e346144944fb7bcedaae683e4",
    "scrolled": true
   },
   "outputs": [],
   "source": [
    "# Trying to get a binned distribution in of Age by MonthlyIncome in Seaborn\n",
    "plt.figure(figsize=(15,15))\n",
    "bins=[0, 10, 20, 30, 40]\n",
    "out = hr.groupby(pd.cut(hr['YearsAtCompany'], bins=bins, include_lowest=True)).aggregate(np.mean)\n",
    "out[['YearsAtCompany']] = out[['YearsAtCompany']].applymap(str)\n",
    "out['Years at Company Bracket'] = ['0-10', '11-20', '21-30', '31-40']\n",
    "\n",
    "# Fixed X-axis labels currently looking awful!\n",
    "plt.title('Average Monthly Income by Years Worked at TechCo')\n",
    "sns.barplot('Years at Company Bracket', 'MonthlyIncome', data=out, palette=\"muted\")\n",
    "out.head()"
   ]
  },
  {
   "cell_type": "code",
   "execution_count": 68,
   "metadata": {
    "_cell_guid": "1f6f61cd-a09d-4f9b-9821-f3e2857bea63",
    "_uuid": "448be3a2c6d2316bc5c90d7b191a458f41a31182"
   },
   "outputs": [],
   "source": [
    "plt.figure(figsize=(15,15))\n",
    "sns.lmplot(\"YearsAtCompany\", \"MonthlyIncome\", data=hr, size=10) "
   ]
  },
  {
   "cell_type": "markdown",
   "metadata": {
    "_cell_guid": "2f0522aa-0b16-47ff-939c-3bc56ed67588",
    "_uuid": "a868e600a490e0310efc61e4407f2b8620cad6f7"
   },
   "source": [
    "We can see that there's plenty of employees at TechCo earning over 10K a month regardless of how long they've been at the company. But after the 10 year mark there's an attrition of lower paid employees raising the average through the age brackets."
   ]
  },
  {
   "cell_type": "markdown",
   "metadata": {
    "_cell_guid": "393a9fa3-80af-4441-bd80-887bd25a41b5",
    "_uuid": "5dc788594a017e4018003d83721bf1e0e18819df"
   },
   "source": [
    "# MODELS!\n",
    "\n",
    "## Part 4: Predicting attrition at TechCo\n",
    "\n",
    "![alt text](https://static01.nyt.com/images/2016/12/18/magazine/18ai5/18mag-18ai-t_CA1-master675.jpg \"the man\")\n",
    "\n",
    "Not really going to do much here. R is a lot better for modelling with such a signifcant class imbalance. Lets extract some feature importances then see where a PCA leads us."
   ]
  },
  {
   "cell_type": "code",
   "execution_count": 69,
   "metadata": {
    "_cell_guid": "f25cea84-44ec-49db-b215-da2727a06c62",
    "_uuid": "9da88515db0bd3f72338ef5741912cd4cebba8c9"
   },
   "outputs": [],
   "source": [
    "hr[\"Attrition\"].value_counts() # Large class imbalance"
   ]
  },
  {
   "cell_type": "code",
   "execution_count": 70,
   "metadata": {
    "_cell_guid": "1a8ebfad-0f71-4194-92e3-82f576f25287",
    "_uuid": "a5ce3bf7d188702ae9ab3c77cbaf4bdee951ca23",
    "scrolled": false
   },
   "outputs": [],
   "source": [
    "from sklearn.ensemble import RandomForestClassifier\n",
    "from sklearn.preprocessing import StandardScaler, LabelEncoder\n",
    "from sklearn.pipeline import make_pipeline\n",
    "from sklearn.model_selection import cross_val_score\n",
    "from sklearn_pandas import DataFrameMapper, gen_features, cross_val_score\n",
    "\n",
    "# Encode the categorical variables so that scikit-learn can read them\n",
    "cat_cols = ['Attrition', 'BusinessTravel', 'Department', 'EducationField', 'Gender', 'JobRole', 'MaritalStatus', 'OverTime', 'Employee Source']\n",
    "feature_def = gen_features(\n",
    "    columns= cat_cols,\n",
    "    classes=[LabelEncoder]\n",
    ")\n",
    "mapper = DataFrameMapper(feature_def)\n",
    "hr[cat_cols] = mapper.fit_transform(hr)\n",
    "hr.head()"
   ]
  },
  {
   "cell_type": "code",
   "execution_count": 71,
   "metadata": {
    "_cell_guid": "27393d44-60c9-4f9c-afe1-0afdc707e617",
    "_uuid": "faf42968695f1aa70b45a04b908e73a37c1f30d7"
   },
   "outputs": [],
   "source": [
    "# Build a forest to predict attrition and compute the feature importances\n",
    "rf = RandomForestClassifier(class_weight=\"balanced\", n_estimators=500) \n",
    "rf.fit(hr.drop(['Attrition'],axis=1), hr.Attrition)\n",
    "importances = rf.feature_importances_\n",
    "names = hr.columns\n",
    "importances, names = zip(*sorted(zip(importances, names)))\n",
    "\n",
    "# Lets plot this\n",
    "plt.figure(figsize=(12,8))\n",
    "plt.barh(range(len(names)), importances, align = 'center')\n",
    "plt.yticks(range(len(names)), names)\n",
    "plt.xlabel('Importance of features')\n",
    "plt.ylabel('Features')\n",
    "plt.title('Importance of each feature')\n",
    "plt.show()"
   ]
  },
  {
   "cell_type": "code",
   "execution_count": 72,
   "metadata": {
    "_cell_guid": "ed149cd9-352c-489b-a997-889650fd5546",
    "_uuid": "b225f7ec8ce4ef25630eb4cd270b6f674e187801"
   },
   "outputs": [],
   "source": [
    "# Make predictions using 10-K-Fold-CV\n",
    "\n",
    "# Baseline:\n",
    "print((hr.Attrition.value_counts()/(hr.shape[0]))*100)\n",
    "\n",
    "# Accuracy\n",
    "scores = cross_val_score(rf, hr.drop(['Attrition'],axis=1), hr.Attrition, cv=10, scoring='accuracy')\n",
    "print(scores)\n",
    "print(\"Accuracy: %0.2f (+/- %0.2f)\" % (scores.mean(), scores.std() * 2))\n",
    "\n",
    "# ROC\n",
    "scores = cross_val_score(rf, hr.drop(['Attrition'],axis=1), hr.Attrition, cv=10, scoring='roc_auc')\n",
    "print(scores)\n",
    "print(\"ROC_AUC: %0.2f (+/- %0.2f)\" % (scores.mean(), scores.std() * 2))"
   ]
  },
  {
   "cell_type": "markdown",
   "metadata": {
    "_cell_guid": "378cd5c2-1a2d-45e8-87b3-8037d9eb6f0b",
    "_uuid": "2de8e1bd75806c47334b0d2f7d13b33461c332da"
   },
   "source": [
    "The feature importances look pretty good on the surface. In terms of attrition it appears age is the most important feature, followed by whether you travel, then what department you're in. However, my model doesn't look like it's performing any better than random chance, given the mean accuracy is 84% and 83.6% of my sample is made up of current employees. How important can these features be if they're making a model that's predicting nothing? More proof to the axiom that all models are bad but only some are useful.\n",
    "\n",
    "As a note, in scikit-learn, the feature importances are calculated as the \"gini importance\" or \"mean decrease impurity\" and is defined as the total decrease in node impurity (weighted by the probability of reaching that node (which is approximated by the proportion of samples reaching that node)) averaged over all trees of the ensemble. Gini impurity is a measure of how often a randomly chosen element from the set would be incorrectly labeled if it was randomly labeled according to the distribution of labels in the subset. \n",
    "\n",
    "Given there are a fair few features in the data why don't I do a PCA to find if constructing some new variables in my dataset can explain some variation in the dataset well."
   ]
  },
  {
   "cell_type": "code",
   "execution_count": 73,
   "metadata": {
    "_cell_guid": "573b9139-08a9-4ccd-ac5f-9dd769ff2862",
    "_uuid": "21b9e35d8a857423b3e244cc032f7f3a71a90a4c",
    "collapsed": true
   },
   "outputs": [],
   "source": [
    "from sklearn.decomposition import PCA\n",
    "\n",
    "# Normalise PCA as it can have a large effect on the result then fit\n",
    "std_clf = make_pipeline(StandardScaler(), PCA())\n",
    "std_clf.fit(hr.drop(['Attrition'], axis=1))\n",
    "existing_2d = std_clf.transform(hr.drop(['Attrition'],axis=1))"
   ]
  },
  {
   "cell_type": "code",
   "execution_count": 74,
   "metadata": {
    "_cell_guid": "a573406f-9570-405d-9398-14b079eee265",
    "_uuid": "f3539ecf588f130294c88e0e0c54113e31d0f2cc"
   },
   "outputs": [],
   "source": [
    "# Print out the ratio of explained variance for each principal component\n",
    "pca_std = std_clf.named_steps['pca']\n",
    "print(pca_std.explained_variance_ratio_.cumsum())"
   ]
  },
  {
   "cell_type": "code",
   "execution_count": 75,
   "metadata": {
    "_cell_guid": "d68f4d35-7ebe-4130-869e-009ee1a3a8d5",
    "_uuid": "df6e3cde5fe191dbfccf444314aaef95ce0ea00f"
   },
   "outputs": [],
   "source": [
    "# Convert result to dataframe, add the labels\n",
    "existing_hr_2d = pd.DataFrame(existing_2d)\n",
    "existing_hr_2d = pd.concat([existing_hr_2d, hr[['Attrition']]], axis = 1)\n",
    "existing_hr_2d.columns = ['PC' + str(i) for i in range(1, existing_hr_2d.shape[1])] + ['Attrition']\n",
    "di = {0.0: \"Current Employee\", 1.0: \"Former Employee\"}\n",
    "existing_hr_2d = existing_hr_2d.replace({\"Attrition\":di})\n",
    "#ax = existing_hr_2d.plot(kind='scatter', x='PC1', y='PC2', figsize=(16,8))\n",
    "\n",
    "# Plot with Seaborn\n",
    "plt.figure(figsize=(16,8))\n",
    "sns.lmplot(\"PC1\", \"PC2\", data=existing_hr_2d, hue='Attrition', fit_reg=False, size=15)"
   ]
  },
  {
   "cell_type": "markdown",
   "metadata": {
    "_cell_guid": "f94a2a53-2472-402a-86e4-e8dbd8f08333",
    "_uuid": "ace7585cd2c7eeba2bff1e2db70c2929b26af7c0",
    "collapsed": true
   },
   "source": [
    "This PCA doesn't tell me much other than there's no clear clustering for attirition along the two directions of most variation. There's a cluster of values to the right which tells me that there are more values that are similiar to each other than dissimilar which I already knew. Given PC1 describes only 13.8% of the variation in my dataset and PC2 describes 6.2% I can say it's going to be tough for any ML algorithm to create any decent predictions.\n",
    "\n",
    "# THANK YOU VERY MUCH\n",
    "\n",
    "This brings us to the end of this little EDA. I appreciate the time you took to read this. If you have any feedback I am more than welcome to receive it."
   ]
  },
  {
   "cell_type": "markdown",
   "metadata": {
    "_cell_guid": "75718823-277a-41c6-a131-032d6cdd7a72",
    "_uuid": "cf85733886ed55be59bcbbe9599c0394d2976153"
   },
   "source": [
    "### Retrospective\n",
    "\n",
    "With more time:\n",
    "\n",
    "- Try creating graphs in Bokeh or Plotly\n",
    "- Use R instead :D\n",
    "- Conduct statistical tests to see if these distributions are significantly different from each other\n",
    "- Radar plots would be nice\n",
    "- Linear Regression using categories"
   ]
  }
 ],
 "metadata": {
  "kernelspec": {
   "display_name": "Python 3",
   "language": "python",
   "name": "python3"
  },
  "language_info": {
   "codemirror_mode": {
    "name": "ipython",
    "version": 3
   },
   "file_extension": ".py",
   "mimetype": "text/x-python",
   "name": "python",
   "nbconvert_exporter": "python",
   "pygments_lexer": "ipython3",
   "version": "3.8.3"
  }
 },
 "nbformat": 4,
 "nbformat_minor": 1
}
