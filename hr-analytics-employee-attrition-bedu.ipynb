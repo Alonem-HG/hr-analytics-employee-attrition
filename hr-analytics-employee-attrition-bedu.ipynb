{
 "cells": [
  {
   "cell_type": "code",
   "execution_count": 1,
   "metadata": {
    "execution": {
     "iopub.execute_input": "2021-03-23T01:59:10.692074Z",
     "iopub.status.busy": "2021-03-23T01:59:10.691357Z",
     "iopub.status.idle": "2021-03-23T01:59:11.677114Z",
     "shell.execute_reply": "2021-03-23T01:59:11.676551Z"
    },
    "papermill": {
     "duration": 1.024134,
     "end_time": "2021-03-23T01:59:11.677240",
     "exception": false,
     "start_time": "2021-03-23T01:59:10.653106",
     "status": "completed"
    },
    "tags": []
   },
   "outputs": [
    {
     "name": "stderr",
     "output_type": "stream",
     "text": [
      "C:\\ProgramData\\Anaconda3\\lib\\site-packages\\sklearn\\utils\\deprecation.py:143: FutureWarning: The sklearn.datasets.samples_generator module is  deprecated in version 0.22 and will be removed in version 0.24. The corresponding classes / functions should instead be imported from sklearn.datasets. Anything that cannot be imported from sklearn.datasets is now part of the private API.\n",
      "  warnings.warn(message, FutureWarning)\n",
      "<ipython-input-1-4b962c79f783>:24: FutureWarning: Passing a negative integer is deprecated in version 1.0 and will not be supported in future version. Instead, use None to not limit the column width.\n",
      "  pd.set_option('display.max_colwidth', -1)  # Show the entire column\n"
     ]
    }
   ],
   "source": [
    "import os\n",
    "import pandas as pd\n",
    "import numpy as np\n",
    "import seaborn as sns\n",
    "import re\n",
    "import matplotlib.pyplot as plt\n",
    "import matplotlib\n",
    "\n",
    "from sklearn.datasets.samples_generator import make_blobs\n",
    "from sklearn.model_selection import train_test_split\n",
    "from matplotlib import pyplot as plt\n",
    "from sklearn.svm import LinearSVC\n",
    "from sklearn.metrics import confusion_matrix\n",
    "from sklearn import svm\n",
    "from sklearn.svm import SVC\n",
    "from scipy import stats\n",
    "from functools import reduce\n",
    "\n",
    "# Some matplotlib options\n",
    "%matplotlib inline\n",
    "matplotlib.style.use(\"ggplot\")\n",
    "\n",
    "# General pandas options\n",
    "pd.set_option('display.max_colwidth', -1)  # Show the entire column \n",
    "pd.options.display.max_columns = 100 \n",
    "pd.options.display.max_rows = 500\n",
    "\n",
    "\n"
   ]
  },
  {
   "cell_type": "code",
   "execution_count": 2,
   "metadata": {
    "execution": {
     "iopub.execute_input": "2021-03-23T01:59:11.746723Z",
     "iopub.status.busy": "2021-03-23T01:59:11.745896Z",
     "iopub.status.idle": "2021-03-23T01:59:11.749350Z",
     "shell.execute_reply": "2021-03-23T01:59:11.749827Z"
    },
    "papermill": {
     "duration": 0.041031,
     "end_time": "2021-03-23T01:59:11.749945",
     "exception": false,
     "start_time": "2021-03-23T01:59:11.708914",
     "status": "completed"
    },
    "tags": []
   },
   "outputs": [
    {
     "data": {
      "text/plain": [
       "'C:\\\\Users\\\\HP-Pendragon\\\\Bedu_python\\\\IBM HR'"
      ]
     },
     "execution_count": 2,
     "metadata": {},
     "output_type": "execute_result"
    }
   ],
   "source": [
    "pwd"
   ]
  },
  {
   "cell_type": "code",
   "execution_count": 3,
   "metadata": {
    "execution": {
     "iopub.execute_input": "2021-03-23T01:59:11.824034Z",
     "iopub.status.busy": "2021-03-23T01:59:11.823503Z",
     "iopub.status.idle": "2021-03-23T01:59:11.845491Z",
     "shell.execute_reply": "2021-03-23T01:59:11.844818Z"
    },
    "papermill": {
     "duration": 0.063359,
     "end_time": "2021-03-23T01:59:11.845589",
     "exception": false,
     "start_time": "2021-03-23T01:59:11.782230",
     "status": "completed"
    },
    "tags": []
   },
   "outputs": [],
   "source": [
    "#Cargar el CSV\n",
    "ibm=pd.read_csv('data/WA_Fn-UseC_-HR-Employee-Attrition.csv')"
   ]
  },
  {
   "cell_type": "code",
   "execution_count": 4,
   "metadata": {},
   "outputs": [
    {
     "name": "stdout",
     "output_type": "stream",
     "text": [
      "<class 'pandas.core.frame.DataFrame'>\n",
      "RangeIndex: 1470 entries, 0 to 1469\n",
      "Data columns (total 35 columns):\n",
      " #   Column                    Non-Null Count  Dtype \n",
      "---  ------                    --------------  ----- \n",
      " 0   Age                       1470 non-null   int64 \n",
      " 1   Attrition                 1470 non-null   object\n",
      " 2   BusinessTravel            1470 non-null   object\n",
      " 3   DailyRate                 1470 non-null   int64 \n",
      " 4   Department                1470 non-null   object\n",
      " 5   DistanceFromHome          1470 non-null   int64 \n",
      " 6   Education                 1470 non-null   int64 \n",
      " 7   EducationField            1470 non-null   object\n",
      " 8   EmployeeCount             1470 non-null   int64 \n",
      " 9   EmployeeNumber            1470 non-null   int64 \n",
      " 10  EnvironmentSatisfaction   1470 non-null   int64 \n",
      " 11  Gender                    1470 non-null   object\n",
      " 12  HourlyRate                1470 non-null   int64 \n",
      " 13  JobInvolvement            1470 non-null   int64 \n",
      " 14  JobLevel                  1470 non-null   int64 \n",
      " 15  JobRole                   1470 non-null   object\n",
      " 16  JobSatisfaction           1470 non-null   int64 \n",
      " 17  MaritalStatus             1470 non-null   object\n",
      " 18  MonthlyIncome             1470 non-null   int64 \n",
      " 19  MonthlyRate               1470 non-null   int64 \n",
      " 20  NumCompaniesWorked        1470 non-null   int64 \n",
      " 21  Over18                    1470 non-null   object\n",
      " 22  OverTime                  1470 non-null   object\n",
      " 23  PercentSalaryHike         1470 non-null   int64 \n",
      " 24  PerformanceRating         1470 non-null   int64 \n",
      " 25  RelationshipSatisfaction  1470 non-null   int64 \n",
      " 26  StandardHours             1470 non-null   int64 \n",
      " 27  StockOptionLevel          1470 non-null   int64 \n",
      " 28  TotalWorkingYears         1470 non-null   int64 \n",
      " 29  TrainingTimesLastYear     1470 non-null   int64 \n",
      " 30  WorkLifeBalance           1470 non-null   int64 \n",
      " 31  YearsAtCompany            1470 non-null   int64 \n",
      " 32  YearsInCurrentRole        1470 non-null   int64 \n",
      " 33  YearsSinceLastPromotion   1470 non-null   int64 \n",
      " 34  YearsWithCurrManager      1470 non-null   int64 \n",
      "dtypes: int64(26), object(9)\n",
      "memory usage: 402.1+ KB\n"
     ]
    }
   ],
   "source": [
    "ibm.info()"
   ]
  },
  {
   "cell_type": "code",
   "execution_count": 5,
   "metadata": {
    "execution": {
     "iopub.execute_input": "2021-03-23T01:59:11.945093Z",
     "iopub.status.busy": "2021-03-23T01:59:11.944348Z",
     "iopub.status.idle": "2021-03-23T01:59:11.947904Z",
     "shell.execute_reply": "2021-03-23T01:59:11.947474Z"
    },
    "papermill": {
     "duration": 0.039654,
     "end_time": "2021-03-23T01:59:11.947997",
     "exception": false,
     "start_time": "2021-03-23T01:59:11.908343",
     "status": "completed"
    },
    "tags": []
   },
   "outputs": [
    {
     "data": {
      "text/plain": [
       "(1470, 35)"
      ]
     },
     "execution_count": 5,
     "metadata": {},
     "output_type": "execute_result"
    }
   ],
   "source": [
    "#Dimension del dataframe.\n",
    "ibm.shape"
   ]
  },
  {
   "cell_type": "code",
   "execution_count": 6,
   "metadata": {
    "execution": {
     "iopub.execute_input": "2021-03-23T01:59:12.023830Z",
     "iopub.status.busy": "2021-03-23T01:59:12.023060Z",
     "iopub.status.idle": "2021-03-23T01:59:12.089449Z",
     "shell.execute_reply": "2021-03-23T01:59:12.089879Z"
    },
    "papermill": {
     "duration": 0.110319,
     "end_time": "2021-03-23T01:59:12.089995",
     "exception": false,
     "start_time": "2021-03-23T01:59:11.979676",
     "status": "completed"
    },
    "tags": []
   },
   "outputs": [
    {
     "data": {
      "text/html": [
       "<div>\n",
       "<style scoped>\n",
       "    .dataframe tbody tr th:only-of-type {\n",
       "        vertical-align: middle;\n",
       "    }\n",
       "\n",
       "    .dataframe tbody tr th {\n",
       "        vertical-align: top;\n",
       "    }\n",
       "\n",
       "    .dataframe thead th {\n",
       "        text-align: right;\n",
       "    }\n",
       "</style>\n",
       "<table border=\"1\" class=\"dataframe\">\n",
       "  <thead>\n",
       "    <tr style=\"text-align: right;\">\n",
       "      <th></th>\n",
       "      <th>Age</th>\n",
       "      <th>DailyRate</th>\n",
       "      <th>DistanceFromHome</th>\n",
       "      <th>Education</th>\n",
       "      <th>EmployeeCount</th>\n",
       "      <th>EmployeeNumber</th>\n",
       "      <th>EnvironmentSatisfaction</th>\n",
       "      <th>HourlyRate</th>\n",
       "      <th>JobInvolvement</th>\n",
       "      <th>JobLevel</th>\n",
       "      <th>JobSatisfaction</th>\n",
       "      <th>MonthlyIncome</th>\n",
       "      <th>MonthlyRate</th>\n",
       "      <th>NumCompaniesWorked</th>\n",
       "      <th>PercentSalaryHike</th>\n",
       "      <th>PerformanceRating</th>\n",
       "      <th>RelationshipSatisfaction</th>\n",
       "      <th>StandardHours</th>\n",
       "      <th>StockOptionLevel</th>\n",
       "      <th>TotalWorkingYears</th>\n",
       "      <th>TrainingTimesLastYear</th>\n",
       "      <th>WorkLifeBalance</th>\n",
       "      <th>YearsAtCompany</th>\n",
       "      <th>YearsInCurrentRole</th>\n",
       "      <th>YearsSinceLastPromotion</th>\n",
       "      <th>YearsWithCurrManager</th>\n",
       "    </tr>\n",
       "  </thead>\n",
       "  <tbody>\n",
       "    <tr>\n",
       "      <th>count</th>\n",
       "      <td>1470.000000</td>\n",
       "      <td>1470.000000</td>\n",
       "      <td>1470.000000</td>\n",
       "      <td>1470.000000</td>\n",
       "      <td>1470.0</td>\n",
       "      <td>1470.000000</td>\n",
       "      <td>1470.000000</td>\n",
       "      <td>1470.000000</td>\n",
       "      <td>1470.000000</td>\n",
       "      <td>1470.000000</td>\n",
       "      <td>1470.000000</td>\n",
       "      <td>1470.000000</td>\n",
       "      <td>1470.000000</td>\n",
       "      <td>1470.000000</td>\n",
       "      <td>1470.000000</td>\n",
       "      <td>1470.000000</td>\n",
       "      <td>1470.000000</td>\n",
       "      <td>1470.0</td>\n",
       "      <td>1470.000000</td>\n",
       "      <td>1470.000000</td>\n",
       "      <td>1470.000000</td>\n",
       "      <td>1470.000000</td>\n",
       "      <td>1470.000000</td>\n",
       "      <td>1470.000000</td>\n",
       "      <td>1470.000000</td>\n",
       "      <td>1470.000000</td>\n",
       "    </tr>\n",
       "    <tr>\n",
       "      <th>mean</th>\n",
       "      <td>36.923810</td>\n",
       "      <td>802.485714</td>\n",
       "      <td>9.192517</td>\n",
       "      <td>2.912925</td>\n",
       "      <td>1.0</td>\n",
       "      <td>1024.865306</td>\n",
       "      <td>2.721769</td>\n",
       "      <td>65.891156</td>\n",
       "      <td>2.729932</td>\n",
       "      <td>2.063946</td>\n",
       "      <td>2.728571</td>\n",
       "      <td>6502.931293</td>\n",
       "      <td>14313.103401</td>\n",
       "      <td>2.693197</td>\n",
       "      <td>15.209524</td>\n",
       "      <td>3.153741</td>\n",
       "      <td>2.712245</td>\n",
       "      <td>80.0</td>\n",
       "      <td>0.793878</td>\n",
       "      <td>11.279592</td>\n",
       "      <td>2.799320</td>\n",
       "      <td>2.761224</td>\n",
       "      <td>7.008163</td>\n",
       "      <td>4.229252</td>\n",
       "      <td>2.187755</td>\n",
       "      <td>4.123129</td>\n",
       "    </tr>\n",
       "    <tr>\n",
       "      <th>std</th>\n",
       "      <td>9.135373</td>\n",
       "      <td>403.509100</td>\n",
       "      <td>8.106864</td>\n",
       "      <td>1.024165</td>\n",
       "      <td>0.0</td>\n",
       "      <td>602.024335</td>\n",
       "      <td>1.093082</td>\n",
       "      <td>20.329428</td>\n",
       "      <td>0.711561</td>\n",
       "      <td>1.106940</td>\n",
       "      <td>1.102846</td>\n",
       "      <td>4707.956783</td>\n",
       "      <td>7117.786044</td>\n",
       "      <td>2.498009</td>\n",
       "      <td>3.659938</td>\n",
       "      <td>0.360824</td>\n",
       "      <td>1.081209</td>\n",
       "      <td>0.0</td>\n",
       "      <td>0.852077</td>\n",
       "      <td>7.780782</td>\n",
       "      <td>1.289271</td>\n",
       "      <td>0.706476</td>\n",
       "      <td>6.126525</td>\n",
       "      <td>3.623137</td>\n",
       "      <td>3.222430</td>\n",
       "      <td>3.568136</td>\n",
       "    </tr>\n",
       "    <tr>\n",
       "      <th>min</th>\n",
       "      <td>18.000000</td>\n",
       "      <td>102.000000</td>\n",
       "      <td>1.000000</td>\n",
       "      <td>1.000000</td>\n",
       "      <td>1.0</td>\n",
       "      <td>1.000000</td>\n",
       "      <td>1.000000</td>\n",
       "      <td>30.000000</td>\n",
       "      <td>1.000000</td>\n",
       "      <td>1.000000</td>\n",
       "      <td>1.000000</td>\n",
       "      <td>1009.000000</td>\n",
       "      <td>2094.000000</td>\n",
       "      <td>0.000000</td>\n",
       "      <td>11.000000</td>\n",
       "      <td>3.000000</td>\n",
       "      <td>1.000000</td>\n",
       "      <td>80.0</td>\n",
       "      <td>0.000000</td>\n",
       "      <td>0.000000</td>\n",
       "      <td>0.000000</td>\n",
       "      <td>1.000000</td>\n",
       "      <td>0.000000</td>\n",
       "      <td>0.000000</td>\n",
       "      <td>0.000000</td>\n",
       "      <td>0.000000</td>\n",
       "    </tr>\n",
       "    <tr>\n",
       "      <th>25%</th>\n",
       "      <td>30.000000</td>\n",
       "      <td>465.000000</td>\n",
       "      <td>2.000000</td>\n",
       "      <td>2.000000</td>\n",
       "      <td>1.0</td>\n",
       "      <td>491.250000</td>\n",
       "      <td>2.000000</td>\n",
       "      <td>48.000000</td>\n",
       "      <td>2.000000</td>\n",
       "      <td>1.000000</td>\n",
       "      <td>2.000000</td>\n",
       "      <td>2911.000000</td>\n",
       "      <td>8047.000000</td>\n",
       "      <td>1.000000</td>\n",
       "      <td>12.000000</td>\n",
       "      <td>3.000000</td>\n",
       "      <td>2.000000</td>\n",
       "      <td>80.0</td>\n",
       "      <td>0.000000</td>\n",
       "      <td>6.000000</td>\n",
       "      <td>2.000000</td>\n",
       "      <td>2.000000</td>\n",
       "      <td>3.000000</td>\n",
       "      <td>2.000000</td>\n",
       "      <td>0.000000</td>\n",
       "      <td>2.000000</td>\n",
       "    </tr>\n",
       "    <tr>\n",
       "      <th>50%</th>\n",
       "      <td>36.000000</td>\n",
       "      <td>802.000000</td>\n",
       "      <td>7.000000</td>\n",
       "      <td>3.000000</td>\n",
       "      <td>1.0</td>\n",
       "      <td>1020.500000</td>\n",
       "      <td>3.000000</td>\n",
       "      <td>66.000000</td>\n",
       "      <td>3.000000</td>\n",
       "      <td>2.000000</td>\n",
       "      <td>3.000000</td>\n",
       "      <td>4919.000000</td>\n",
       "      <td>14235.500000</td>\n",
       "      <td>2.000000</td>\n",
       "      <td>14.000000</td>\n",
       "      <td>3.000000</td>\n",
       "      <td>3.000000</td>\n",
       "      <td>80.0</td>\n",
       "      <td>1.000000</td>\n",
       "      <td>10.000000</td>\n",
       "      <td>3.000000</td>\n",
       "      <td>3.000000</td>\n",
       "      <td>5.000000</td>\n",
       "      <td>3.000000</td>\n",
       "      <td>1.000000</td>\n",
       "      <td>3.000000</td>\n",
       "    </tr>\n",
       "    <tr>\n",
       "      <th>75%</th>\n",
       "      <td>43.000000</td>\n",
       "      <td>1157.000000</td>\n",
       "      <td>14.000000</td>\n",
       "      <td>4.000000</td>\n",
       "      <td>1.0</td>\n",
       "      <td>1555.750000</td>\n",
       "      <td>4.000000</td>\n",
       "      <td>83.750000</td>\n",
       "      <td>3.000000</td>\n",
       "      <td>3.000000</td>\n",
       "      <td>4.000000</td>\n",
       "      <td>8379.000000</td>\n",
       "      <td>20461.500000</td>\n",
       "      <td>4.000000</td>\n",
       "      <td>18.000000</td>\n",
       "      <td>3.000000</td>\n",
       "      <td>4.000000</td>\n",
       "      <td>80.0</td>\n",
       "      <td>1.000000</td>\n",
       "      <td>15.000000</td>\n",
       "      <td>3.000000</td>\n",
       "      <td>3.000000</td>\n",
       "      <td>9.000000</td>\n",
       "      <td>7.000000</td>\n",
       "      <td>3.000000</td>\n",
       "      <td>7.000000</td>\n",
       "    </tr>\n",
       "    <tr>\n",
       "      <th>max</th>\n",
       "      <td>60.000000</td>\n",
       "      <td>1499.000000</td>\n",
       "      <td>29.000000</td>\n",
       "      <td>5.000000</td>\n",
       "      <td>1.0</td>\n",
       "      <td>2068.000000</td>\n",
       "      <td>4.000000</td>\n",
       "      <td>100.000000</td>\n",
       "      <td>4.000000</td>\n",
       "      <td>5.000000</td>\n",
       "      <td>4.000000</td>\n",
       "      <td>19999.000000</td>\n",
       "      <td>26999.000000</td>\n",
       "      <td>9.000000</td>\n",
       "      <td>25.000000</td>\n",
       "      <td>4.000000</td>\n",
       "      <td>4.000000</td>\n",
       "      <td>80.0</td>\n",
       "      <td>3.000000</td>\n",
       "      <td>40.000000</td>\n",
       "      <td>6.000000</td>\n",
       "      <td>4.000000</td>\n",
       "      <td>40.000000</td>\n",
       "      <td>18.000000</td>\n",
       "      <td>15.000000</td>\n",
       "      <td>17.000000</td>\n",
       "    </tr>\n",
       "  </tbody>\n",
       "</table>\n",
       "</div>"
      ],
      "text/plain": [
       "               Age    DailyRate  DistanceFromHome    Education  EmployeeCount  \\\n",
       "count  1470.000000  1470.000000  1470.000000       1470.000000  1470.0          \n",
       "mean   36.923810    802.485714   9.192517          2.912925     1.0             \n",
       "std    9.135373     403.509100   8.106864          1.024165     0.0             \n",
       "min    18.000000    102.000000   1.000000          1.000000     1.0             \n",
       "25%    30.000000    465.000000   2.000000          2.000000     1.0             \n",
       "50%    36.000000    802.000000   7.000000          3.000000     1.0             \n",
       "75%    43.000000    1157.000000  14.000000         4.000000     1.0             \n",
       "max    60.000000    1499.000000  29.000000         5.000000     1.0             \n",
       "\n",
       "       EmployeeNumber  EnvironmentSatisfaction   HourlyRate  JobInvolvement  \\\n",
       "count  1470.000000     1470.000000              1470.000000  1470.000000      \n",
       "mean   1024.865306     2.721769                 65.891156    2.729932         \n",
       "std    602.024335      1.093082                 20.329428    0.711561         \n",
       "min    1.000000        1.000000                 30.000000    1.000000         \n",
       "25%    491.250000      2.000000                 48.000000    2.000000         \n",
       "50%    1020.500000     3.000000                 66.000000    3.000000         \n",
       "75%    1555.750000     4.000000                 83.750000    3.000000         \n",
       "max    2068.000000     4.000000                 100.000000   4.000000         \n",
       "\n",
       "          JobLevel  JobSatisfaction  MonthlyIncome   MonthlyRate  \\\n",
       "count  1470.000000  1470.000000      1470.000000    1470.000000    \n",
       "mean   2.063946     2.728571         6502.931293    14313.103401   \n",
       "std    1.106940     1.102846         4707.956783    7117.786044    \n",
       "min    1.000000     1.000000         1009.000000    2094.000000    \n",
       "25%    1.000000     2.000000         2911.000000    8047.000000    \n",
       "50%    2.000000     3.000000         4919.000000    14235.500000   \n",
       "75%    3.000000     4.000000         8379.000000    20461.500000   \n",
       "max    5.000000     4.000000         19999.000000   26999.000000   \n",
       "\n",
       "       NumCompaniesWorked  PercentSalaryHike  PerformanceRating  \\\n",
       "count  1470.000000         1470.000000        1470.000000         \n",
       "mean   2.693197            15.209524          3.153741            \n",
       "std    2.498009            3.659938           0.360824            \n",
       "min    0.000000            11.000000          3.000000            \n",
       "25%    1.000000            12.000000          3.000000            \n",
       "50%    2.000000            14.000000          3.000000            \n",
       "75%    4.000000            18.000000          3.000000            \n",
       "max    9.000000            25.000000          4.000000            \n",
       "\n",
       "       RelationshipSatisfaction  StandardHours  StockOptionLevel  \\\n",
       "count  1470.000000               1470.0         1470.000000        \n",
       "mean   2.712245                  80.0           0.793878           \n",
       "std    1.081209                  0.0            0.852077           \n",
       "min    1.000000                  80.0           0.000000           \n",
       "25%    2.000000                  80.0           0.000000           \n",
       "50%    3.000000                  80.0           1.000000           \n",
       "75%    4.000000                  80.0           1.000000           \n",
       "max    4.000000                  80.0           3.000000           \n",
       "\n",
       "       TotalWorkingYears  TrainingTimesLastYear  WorkLifeBalance  \\\n",
       "count  1470.000000        1470.000000            1470.000000       \n",
       "mean   11.279592          2.799320               2.761224          \n",
       "std    7.780782           1.289271               0.706476          \n",
       "min    0.000000           0.000000               1.000000          \n",
       "25%    6.000000           2.000000               2.000000          \n",
       "50%    10.000000          3.000000               3.000000          \n",
       "75%    15.000000          3.000000               3.000000          \n",
       "max    40.000000          6.000000               4.000000          \n",
       "\n",
       "       YearsAtCompany  YearsInCurrentRole  YearsSinceLastPromotion  \\\n",
       "count  1470.000000     1470.000000         1470.000000               \n",
       "mean   7.008163        4.229252            2.187755                  \n",
       "std    6.126525        3.623137            3.222430                  \n",
       "min    0.000000        0.000000            0.000000                  \n",
       "25%    3.000000        2.000000            0.000000                  \n",
       "50%    5.000000        3.000000            1.000000                  \n",
       "75%    9.000000        7.000000            3.000000                  \n",
       "max    40.000000       18.000000           15.000000                 \n",
       "\n",
       "       YearsWithCurrManager  \n",
       "count  1470.000000           \n",
       "mean   4.123129              \n",
       "std    3.568136              \n",
       "min    0.000000              \n",
       "25%    2.000000              \n",
       "50%    3.000000              \n",
       "75%    7.000000              \n",
       "max    17.000000             "
      ]
     },
     "execution_count": 6,
     "metadata": {},
     "output_type": "execute_result"
    }
   ],
   "source": [
    "# Ver descripcion de los datos\n",
    "ibm.describe()"
   ]
  },
  {
   "cell_type": "code",
   "execution_count": 7,
   "metadata": {
    "execution": {
     "iopub.execute_input": "2021-03-23T01:59:12.175955Z",
     "iopub.status.busy": "2021-03-23T01:59:12.175110Z",
     "iopub.status.idle": "2021-03-23T01:59:12.178946Z",
     "shell.execute_reply": "2021-03-23T01:59:12.178490Z"
    },
    "papermill": {
     "duration": 0.056515,
     "end_time": "2021-03-23T01:59:12.179031",
     "exception": false,
     "start_time": "2021-03-23T01:59:12.122516",
     "status": "completed"
    },
    "tags": []
   },
   "outputs": [
    {
     "data": {
      "text/html": [
       "<div>\n",
       "<style scoped>\n",
       "    .dataframe tbody tr th:only-of-type {\n",
       "        vertical-align: middle;\n",
       "    }\n",
       "\n",
       "    .dataframe tbody tr th {\n",
       "        vertical-align: top;\n",
       "    }\n",
       "\n",
       "    .dataframe thead th {\n",
       "        text-align: right;\n",
       "    }\n",
       "</style>\n",
       "<table border=\"1\" class=\"dataframe\">\n",
       "  <thead>\n",
       "    <tr style=\"text-align: right;\">\n",
       "      <th></th>\n",
       "      <th>Age</th>\n",
       "      <th>Attrition</th>\n",
       "      <th>BusinessTravel</th>\n",
       "      <th>DailyRate</th>\n",
       "      <th>Department</th>\n",
       "      <th>DistanceFromHome</th>\n",
       "      <th>Education</th>\n",
       "      <th>EducationField</th>\n",
       "      <th>EmployeeCount</th>\n",
       "      <th>EmployeeNumber</th>\n",
       "      <th>EnvironmentSatisfaction</th>\n",
       "      <th>Gender</th>\n",
       "      <th>HourlyRate</th>\n",
       "      <th>JobInvolvement</th>\n",
       "      <th>JobLevel</th>\n",
       "      <th>JobRole</th>\n",
       "      <th>JobSatisfaction</th>\n",
       "      <th>MaritalStatus</th>\n",
       "      <th>MonthlyIncome</th>\n",
       "      <th>MonthlyRate</th>\n",
       "      <th>NumCompaniesWorked</th>\n",
       "      <th>Over18</th>\n",
       "      <th>OverTime</th>\n",
       "      <th>PercentSalaryHike</th>\n",
       "      <th>PerformanceRating</th>\n",
       "      <th>RelationshipSatisfaction</th>\n",
       "      <th>StandardHours</th>\n",
       "      <th>StockOptionLevel</th>\n",
       "      <th>TotalWorkingYears</th>\n",
       "      <th>TrainingTimesLastYear</th>\n",
       "      <th>WorkLifeBalance</th>\n",
       "      <th>YearsAtCompany</th>\n",
       "      <th>YearsInCurrentRole</th>\n",
       "      <th>YearsSinceLastPromotion</th>\n",
       "      <th>YearsWithCurrManager</th>\n",
       "    </tr>\n",
       "  </thead>\n",
       "  <tbody>\n",
       "    <tr>\n",
       "      <th>0</th>\n",
       "      <td>41</td>\n",
       "      <td>Yes</td>\n",
       "      <td>Travel_Rarely</td>\n",
       "      <td>1102</td>\n",
       "      <td>Sales</td>\n",
       "      <td>1</td>\n",
       "      <td>2</td>\n",
       "      <td>Life Sciences</td>\n",
       "      <td>1</td>\n",
       "      <td>1</td>\n",
       "      <td>2</td>\n",
       "      <td>Female</td>\n",
       "      <td>94</td>\n",
       "      <td>3</td>\n",
       "      <td>2</td>\n",
       "      <td>Sales Executive</td>\n",
       "      <td>4</td>\n",
       "      <td>Single</td>\n",
       "      <td>5993</td>\n",
       "      <td>19479</td>\n",
       "      <td>8</td>\n",
       "      <td>Y</td>\n",
       "      <td>Yes</td>\n",
       "      <td>11</td>\n",
       "      <td>3</td>\n",
       "      <td>1</td>\n",
       "      <td>80</td>\n",
       "      <td>0</td>\n",
       "      <td>8</td>\n",
       "      <td>0</td>\n",
       "      <td>1</td>\n",
       "      <td>6</td>\n",
       "      <td>4</td>\n",
       "      <td>0</td>\n",
       "      <td>5</td>\n",
       "    </tr>\n",
       "    <tr>\n",
       "      <th>1</th>\n",
       "      <td>49</td>\n",
       "      <td>No</td>\n",
       "      <td>Travel_Frequently</td>\n",
       "      <td>279</td>\n",
       "      <td>Research &amp; Development</td>\n",
       "      <td>8</td>\n",
       "      <td>1</td>\n",
       "      <td>Life Sciences</td>\n",
       "      <td>1</td>\n",
       "      <td>2</td>\n",
       "      <td>3</td>\n",
       "      <td>Male</td>\n",
       "      <td>61</td>\n",
       "      <td>2</td>\n",
       "      <td>2</td>\n",
       "      <td>Research Scientist</td>\n",
       "      <td>2</td>\n",
       "      <td>Married</td>\n",
       "      <td>5130</td>\n",
       "      <td>24907</td>\n",
       "      <td>1</td>\n",
       "      <td>Y</td>\n",
       "      <td>No</td>\n",
       "      <td>23</td>\n",
       "      <td>4</td>\n",
       "      <td>4</td>\n",
       "      <td>80</td>\n",
       "      <td>1</td>\n",
       "      <td>10</td>\n",
       "      <td>3</td>\n",
       "      <td>3</td>\n",
       "      <td>10</td>\n",
       "      <td>7</td>\n",
       "      <td>1</td>\n",
       "      <td>7</td>\n",
       "    </tr>\n",
       "    <tr>\n",
       "      <th>2</th>\n",
       "      <td>37</td>\n",
       "      <td>Yes</td>\n",
       "      <td>Travel_Rarely</td>\n",
       "      <td>1373</td>\n",
       "      <td>Research &amp; Development</td>\n",
       "      <td>2</td>\n",
       "      <td>2</td>\n",
       "      <td>Other</td>\n",
       "      <td>1</td>\n",
       "      <td>4</td>\n",
       "      <td>4</td>\n",
       "      <td>Male</td>\n",
       "      <td>92</td>\n",
       "      <td>2</td>\n",
       "      <td>1</td>\n",
       "      <td>Laboratory Technician</td>\n",
       "      <td>3</td>\n",
       "      <td>Single</td>\n",
       "      <td>2090</td>\n",
       "      <td>2396</td>\n",
       "      <td>6</td>\n",
       "      <td>Y</td>\n",
       "      <td>Yes</td>\n",
       "      <td>15</td>\n",
       "      <td>3</td>\n",
       "      <td>2</td>\n",
       "      <td>80</td>\n",
       "      <td>0</td>\n",
       "      <td>7</td>\n",
       "      <td>3</td>\n",
       "      <td>3</td>\n",
       "      <td>0</td>\n",
       "      <td>0</td>\n",
       "      <td>0</td>\n",
       "      <td>0</td>\n",
       "    </tr>\n",
       "    <tr>\n",
       "      <th>3</th>\n",
       "      <td>33</td>\n",
       "      <td>No</td>\n",
       "      <td>Travel_Frequently</td>\n",
       "      <td>1392</td>\n",
       "      <td>Research &amp; Development</td>\n",
       "      <td>3</td>\n",
       "      <td>4</td>\n",
       "      <td>Life Sciences</td>\n",
       "      <td>1</td>\n",
       "      <td>5</td>\n",
       "      <td>4</td>\n",
       "      <td>Female</td>\n",
       "      <td>56</td>\n",
       "      <td>3</td>\n",
       "      <td>1</td>\n",
       "      <td>Research Scientist</td>\n",
       "      <td>3</td>\n",
       "      <td>Married</td>\n",
       "      <td>2909</td>\n",
       "      <td>23159</td>\n",
       "      <td>1</td>\n",
       "      <td>Y</td>\n",
       "      <td>Yes</td>\n",
       "      <td>11</td>\n",
       "      <td>3</td>\n",
       "      <td>3</td>\n",
       "      <td>80</td>\n",
       "      <td>0</td>\n",
       "      <td>8</td>\n",
       "      <td>3</td>\n",
       "      <td>3</td>\n",
       "      <td>8</td>\n",
       "      <td>7</td>\n",
       "      <td>3</td>\n",
       "      <td>0</td>\n",
       "    </tr>\n",
       "    <tr>\n",
       "      <th>4</th>\n",
       "      <td>27</td>\n",
       "      <td>No</td>\n",
       "      <td>Travel_Rarely</td>\n",
       "      <td>591</td>\n",
       "      <td>Research &amp; Development</td>\n",
       "      <td>2</td>\n",
       "      <td>1</td>\n",
       "      <td>Medical</td>\n",
       "      <td>1</td>\n",
       "      <td>7</td>\n",
       "      <td>1</td>\n",
       "      <td>Male</td>\n",
       "      <td>40</td>\n",
       "      <td>3</td>\n",
       "      <td>1</td>\n",
       "      <td>Laboratory Technician</td>\n",
       "      <td>2</td>\n",
       "      <td>Married</td>\n",
       "      <td>3468</td>\n",
       "      <td>16632</td>\n",
       "      <td>9</td>\n",
       "      <td>Y</td>\n",
       "      <td>No</td>\n",
       "      <td>12</td>\n",
       "      <td>3</td>\n",
       "      <td>4</td>\n",
       "      <td>80</td>\n",
       "      <td>1</td>\n",
       "      <td>6</td>\n",
       "      <td>3</td>\n",
       "      <td>3</td>\n",
       "      <td>2</td>\n",
       "      <td>2</td>\n",
       "      <td>2</td>\n",
       "      <td>2</td>\n",
       "    </tr>\n",
       "  </tbody>\n",
       "</table>\n",
       "</div>"
      ],
      "text/plain": [
       "   Age Attrition     BusinessTravel  DailyRate              Department  \\\n",
       "0  41   Yes       Travel_Rarely      1102       Sales                    \n",
       "1  49   No        Travel_Frequently  279        Research & Development   \n",
       "2  37   Yes       Travel_Rarely      1373       Research & Development   \n",
       "3  33   No        Travel_Frequently  1392       Research & Development   \n",
       "4  27   No        Travel_Rarely      591        Research & Development   \n",
       "\n",
       "   DistanceFromHome  Education EducationField  EmployeeCount  EmployeeNumber  \\\n",
       "0  1                 2          Life Sciences  1              1                \n",
       "1  8                 1          Life Sciences  1              2                \n",
       "2  2                 2          Other          1              4                \n",
       "3  3                 4          Life Sciences  1              5                \n",
       "4  2                 1          Medical        1              7                \n",
       "\n",
       "   EnvironmentSatisfaction  Gender  HourlyRate  JobInvolvement  JobLevel  \\\n",
       "0  2                        Female  94          3               2          \n",
       "1  3                        Male    61          2               2          \n",
       "2  4                        Male    92          2               1          \n",
       "3  4                        Female  56          3               1          \n",
       "4  1                        Male    40          3               1          \n",
       "\n",
       "                 JobRole  JobSatisfaction MaritalStatus  MonthlyIncome  \\\n",
       "0  Sales Executive        4                Single        5993            \n",
       "1  Research Scientist     2                Married       5130            \n",
       "2  Laboratory Technician  3                Single        2090            \n",
       "3  Research Scientist     3                Married       2909            \n",
       "4  Laboratory Technician  2                Married       3468            \n",
       "\n",
       "   MonthlyRate  NumCompaniesWorked Over18 OverTime  PercentSalaryHike  \\\n",
       "0  19479        8                   Y      Yes      11                  \n",
       "1  24907        1                   Y      No       23                  \n",
       "2  2396         6                   Y      Yes      15                  \n",
       "3  23159        1                   Y      Yes      11                  \n",
       "4  16632        9                   Y      No       12                  \n",
       "\n",
       "   PerformanceRating  RelationshipSatisfaction  StandardHours  \\\n",
       "0  3                  1                         80              \n",
       "1  4                  4                         80              \n",
       "2  3                  2                         80              \n",
       "3  3                  3                         80              \n",
       "4  3                  4                         80              \n",
       "\n",
       "   StockOptionLevel  TotalWorkingYears  TrainingTimesLastYear  \\\n",
       "0  0                 8                  0                       \n",
       "1  1                 10                 3                       \n",
       "2  0                 7                  3                       \n",
       "3  0                 8                  3                       \n",
       "4  1                 6                  3                       \n",
       "\n",
       "   WorkLifeBalance  YearsAtCompany  YearsInCurrentRole  \\\n",
       "0  1                6               4                    \n",
       "1  3                10              7                    \n",
       "2  3                0               0                    \n",
       "3  3                8               7                    \n",
       "4  3                2               2                    \n",
       "\n",
       "   YearsSinceLastPromotion  YearsWithCurrManager  \n",
       "0  0                        5                     \n",
       "1  1                        7                     \n",
       "2  0                        0                     \n",
       "3  3                        0                     \n",
       "4  2                        2                     "
      ]
     },
     "execution_count": 7,
     "metadata": {},
     "output_type": "execute_result"
    }
   ],
   "source": [
    "ibm.head(5)"
   ]
  },
  {
   "cell_type": "code",
   "execution_count": 8,
   "metadata": {
    "execution": {
     "iopub.execute_input": "2021-03-23T01:59:12.264409Z",
     "iopub.status.busy": "2021-03-23T01:59:12.263567Z",
     "iopub.status.idle": "2021-03-23T01:59:12.267244Z",
     "shell.execute_reply": "2021-03-23T01:59:12.267739Z"
    },
    "papermill": {
     "duration": 0.055732,
     "end_time": "2021-03-23T01:59:12.267872",
     "exception": false,
     "start_time": "2021-03-23T01:59:12.212140",
     "status": "completed"
    },
    "tags": []
   },
   "outputs": [
    {
     "data": {
      "text/html": [
       "<div>\n",
       "<style scoped>\n",
       "    .dataframe tbody tr th:only-of-type {\n",
       "        vertical-align: middle;\n",
       "    }\n",
       "\n",
       "    .dataframe tbody tr th {\n",
       "        vertical-align: top;\n",
       "    }\n",
       "\n",
       "    .dataframe thead th {\n",
       "        text-align: right;\n",
       "    }\n",
       "</style>\n",
       "<table border=\"1\" class=\"dataframe\">\n",
       "  <thead>\n",
       "    <tr style=\"text-align: right;\">\n",
       "      <th></th>\n",
       "      <th>Age</th>\n",
       "      <th>Attrition</th>\n",
       "      <th>BusinessTravel</th>\n",
       "      <th>DailyRate</th>\n",
       "      <th>Department</th>\n",
       "      <th>DistanceFromHome</th>\n",
       "      <th>Education</th>\n",
       "      <th>EducationField</th>\n",
       "      <th>EmployeeCount</th>\n",
       "      <th>EmployeeNumber</th>\n",
       "      <th>EnvironmentSatisfaction</th>\n",
       "      <th>Gender</th>\n",
       "      <th>HourlyRate</th>\n",
       "      <th>JobInvolvement</th>\n",
       "      <th>JobLevel</th>\n",
       "      <th>JobRole</th>\n",
       "      <th>JobSatisfaction</th>\n",
       "      <th>MaritalStatus</th>\n",
       "      <th>MonthlyIncome</th>\n",
       "      <th>MonthlyRate</th>\n",
       "      <th>NumCompaniesWorked</th>\n",
       "      <th>Over18</th>\n",
       "      <th>OverTime</th>\n",
       "      <th>PercentSalaryHike</th>\n",
       "      <th>PerformanceRating</th>\n",
       "      <th>RelationshipSatisfaction</th>\n",
       "      <th>StandardHours</th>\n",
       "      <th>StockOptionLevel</th>\n",
       "      <th>TotalWorkingYears</th>\n",
       "      <th>TrainingTimesLastYear</th>\n",
       "      <th>WorkLifeBalance</th>\n",
       "      <th>YearsAtCompany</th>\n",
       "      <th>YearsInCurrentRole</th>\n",
       "      <th>YearsSinceLastPromotion</th>\n",
       "      <th>YearsWithCurrManager</th>\n",
       "    </tr>\n",
       "  </thead>\n",
       "  <tbody>\n",
       "    <tr>\n",
       "      <th>1465</th>\n",
       "      <td>36</td>\n",
       "      <td>No</td>\n",
       "      <td>Travel_Frequently</td>\n",
       "      <td>884</td>\n",
       "      <td>Research &amp; Development</td>\n",
       "      <td>23</td>\n",
       "      <td>2</td>\n",
       "      <td>Medical</td>\n",
       "      <td>1</td>\n",
       "      <td>2061</td>\n",
       "      <td>3</td>\n",
       "      <td>Male</td>\n",
       "      <td>41</td>\n",
       "      <td>4</td>\n",
       "      <td>2</td>\n",
       "      <td>Laboratory Technician</td>\n",
       "      <td>4</td>\n",
       "      <td>Married</td>\n",
       "      <td>2571</td>\n",
       "      <td>12290</td>\n",
       "      <td>4</td>\n",
       "      <td>Y</td>\n",
       "      <td>No</td>\n",
       "      <td>17</td>\n",
       "      <td>3</td>\n",
       "      <td>3</td>\n",
       "      <td>80</td>\n",
       "      <td>1</td>\n",
       "      <td>17</td>\n",
       "      <td>3</td>\n",
       "      <td>3</td>\n",
       "      <td>5</td>\n",
       "      <td>2</td>\n",
       "      <td>0</td>\n",
       "      <td>3</td>\n",
       "    </tr>\n",
       "    <tr>\n",
       "      <th>1466</th>\n",
       "      <td>39</td>\n",
       "      <td>No</td>\n",
       "      <td>Travel_Rarely</td>\n",
       "      <td>613</td>\n",
       "      <td>Research &amp; Development</td>\n",
       "      <td>6</td>\n",
       "      <td>1</td>\n",
       "      <td>Medical</td>\n",
       "      <td>1</td>\n",
       "      <td>2062</td>\n",
       "      <td>4</td>\n",
       "      <td>Male</td>\n",
       "      <td>42</td>\n",
       "      <td>2</td>\n",
       "      <td>3</td>\n",
       "      <td>Healthcare Representative</td>\n",
       "      <td>1</td>\n",
       "      <td>Married</td>\n",
       "      <td>9991</td>\n",
       "      <td>21457</td>\n",
       "      <td>4</td>\n",
       "      <td>Y</td>\n",
       "      <td>No</td>\n",
       "      <td>15</td>\n",
       "      <td>3</td>\n",
       "      <td>1</td>\n",
       "      <td>80</td>\n",
       "      <td>1</td>\n",
       "      <td>9</td>\n",
       "      <td>5</td>\n",
       "      <td>3</td>\n",
       "      <td>7</td>\n",
       "      <td>7</td>\n",
       "      <td>1</td>\n",
       "      <td>7</td>\n",
       "    </tr>\n",
       "    <tr>\n",
       "      <th>1467</th>\n",
       "      <td>27</td>\n",
       "      <td>No</td>\n",
       "      <td>Travel_Rarely</td>\n",
       "      <td>155</td>\n",
       "      <td>Research &amp; Development</td>\n",
       "      <td>4</td>\n",
       "      <td>3</td>\n",
       "      <td>Life Sciences</td>\n",
       "      <td>1</td>\n",
       "      <td>2064</td>\n",
       "      <td>2</td>\n",
       "      <td>Male</td>\n",
       "      <td>87</td>\n",
       "      <td>4</td>\n",
       "      <td>2</td>\n",
       "      <td>Manufacturing Director</td>\n",
       "      <td>2</td>\n",
       "      <td>Married</td>\n",
       "      <td>6142</td>\n",
       "      <td>5174</td>\n",
       "      <td>1</td>\n",
       "      <td>Y</td>\n",
       "      <td>Yes</td>\n",
       "      <td>20</td>\n",
       "      <td>4</td>\n",
       "      <td>2</td>\n",
       "      <td>80</td>\n",
       "      <td>1</td>\n",
       "      <td>6</td>\n",
       "      <td>0</td>\n",
       "      <td>3</td>\n",
       "      <td>6</td>\n",
       "      <td>2</td>\n",
       "      <td>0</td>\n",
       "      <td>3</td>\n",
       "    </tr>\n",
       "    <tr>\n",
       "      <th>1468</th>\n",
       "      <td>49</td>\n",
       "      <td>No</td>\n",
       "      <td>Travel_Frequently</td>\n",
       "      <td>1023</td>\n",
       "      <td>Sales</td>\n",
       "      <td>2</td>\n",
       "      <td>3</td>\n",
       "      <td>Medical</td>\n",
       "      <td>1</td>\n",
       "      <td>2065</td>\n",
       "      <td>4</td>\n",
       "      <td>Male</td>\n",
       "      <td>63</td>\n",
       "      <td>2</td>\n",
       "      <td>2</td>\n",
       "      <td>Sales Executive</td>\n",
       "      <td>2</td>\n",
       "      <td>Married</td>\n",
       "      <td>5390</td>\n",
       "      <td>13243</td>\n",
       "      <td>2</td>\n",
       "      <td>Y</td>\n",
       "      <td>No</td>\n",
       "      <td>14</td>\n",
       "      <td>3</td>\n",
       "      <td>4</td>\n",
       "      <td>80</td>\n",
       "      <td>0</td>\n",
       "      <td>17</td>\n",
       "      <td>3</td>\n",
       "      <td>2</td>\n",
       "      <td>9</td>\n",
       "      <td>6</td>\n",
       "      <td>0</td>\n",
       "      <td>8</td>\n",
       "    </tr>\n",
       "    <tr>\n",
       "      <th>1469</th>\n",
       "      <td>34</td>\n",
       "      <td>No</td>\n",
       "      <td>Travel_Rarely</td>\n",
       "      <td>628</td>\n",
       "      <td>Research &amp; Development</td>\n",
       "      <td>8</td>\n",
       "      <td>3</td>\n",
       "      <td>Medical</td>\n",
       "      <td>1</td>\n",
       "      <td>2068</td>\n",
       "      <td>2</td>\n",
       "      <td>Male</td>\n",
       "      <td>82</td>\n",
       "      <td>4</td>\n",
       "      <td>2</td>\n",
       "      <td>Laboratory Technician</td>\n",
       "      <td>3</td>\n",
       "      <td>Married</td>\n",
       "      <td>4404</td>\n",
       "      <td>10228</td>\n",
       "      <td>2</td>\n",
       "      <td>Y</td>\n",
       "      <td>No</td>\n",
       "      <td>12</td>\n",
       "      <td>3</td>\n",
       "      <td>1</td>\n",
       "      <td>80</td>\n",
       "      <td>0</td>\n",
       "      <td>6</td>\n",
       "      <td>3</td>\n",
       "      <td>4</td>\n",
       "      <td>4</td>\n",
       "      <td>3</td>\n",
       "      <td>1</td>\n",
       "      <td>2</td>\n",
       "    </tr>\n",
       "  </tbody>\n",
       "</table>\n",
       "</div>"
      ],
      "text/plain": [
       "      Age Attrition     BusinessTravel  DailyRate              Department  \\\n",
       "1465  36   No        Travel_Frequently  884        Research & Development   \n",
       "1466  39   No        Travel_Rarely      613        Research & Development   \n",
       "1467  27   No        Travel_Rarely      155        Research & Development   \n",
       "1468  49   No        Travel_Frequently  1023       Sales                    \n",
       "1469  34   No        Travel_Rarely      628        Research & Development   \n",
       "\n",
       "      DistanceFromHome  Education EducationField  EmployeeCount  \\\n",
       "1465  23                2          Medical        1               \n",
       "1466  6                 1          Medical        1               \n",
       "1467  4                 3          Life Sciences  1               \n",
       "1468  2                 3          Medical        1               \n",
       "1469  8                 3          Medical        1               \n",
       "\n",
       "      EmployeeNumber  EnvironmentSatisfaction Gender  HourlyRate  \\\n",
       "1465  2061            3                        Male   41           \n",
       "1466  2062            4                        Male   42           \n",
       "1467  2064            2                        Male   87           \n",
       "1468  2065            4                        Male   63           \n",
       "1469  2068            2                        Male   82           \n",
       "\n",
       "      JobInvolvement  JobLevel                    JobRole  JobSatisfaction  \\\n",
       "1465  4               2         Laboratory Technician      4                 \n",
       "1466  2               3         Healthcare Representative  1                 \n",
       "1467  4               2         Manufacturing Director     2                 \n",
       "1468  2               2         Sales Executive            2                 \n",
       "1469  4               2         Laboratory Technician      3                 \n",
       "\n",
       "     MaritalStatus  MonthlyIncome  MonthlyRate  NumCompaniesWorked Over18  \\\n",
       "1465  Married       2571           12290        4                   Y       \n",
       "1466  Married       9991           21457        4                   Y       \n",
       "1467  Married       6142           5174         1                   Y       \n",
       "1468  Married       5390           13243        2                   Y       \n",
       "1469  Married       4404           10228        2                   Y       \n",
       "\n",
       "     OverTime  PercentSalaryHike  PerformanceRating  RelationshipSatisfaction  \\\n",
       "1465  No       17                 3                  3                          \n",
       "1466  No       15                 3                  1                          \n",
       "1467  Yes      20                 4                  2                          \n",
       "1468  No       14                 3                  4                          \n",
       "1469  No       12                 3                  1                          \n",
       "\n",
       "      StandardHours  StockOptionLevel  TotalWorkingYears  \\\n",
       "1465  80             1                 17                  \n",
       "1466  80             1                 9                   \n",
       "1467  80             1                 6                   \n",
       "1468  80             0                 17                  \n",
       "1469  80             0                 6                   \n",
       "\n",
       "      TrainingTimesLastYear  WorkLifeBalance  YearsAtCompany  \\\n",
       "1465  3                      3                5                \n",
       "1466  5                      3                7                \n",
       "1467  0                      3                6                \n",
       "1468  3                      2                9                \n",
       "1469  3                      4                4                \n",
       "\n",
       "      YearsInCurrentRole  YearsSinceLastPromotion  YearsWithCurrManager  \n",
       "1465  2                   0                        3                     \n",
       "1466  7                   1                        7                     \n",
       "1467  2                   0                        3                     \n",
       "1468  6                   0                        8                     \n",
       "1469  3                   1                        2                     "
      ]
     },
     "execution_count": 8,
     "metadata": {},
     "output_type": "execute_result"
    }
   ],
   "source": [
    "ibm.tail(5)"
   ]
  },
  {
   "cell_type": "code",
   "execution_count": 9,
   "metadata": {},
   "outputs": [
    {
     "data": {
      "text/plain": [
       "Index(['Age', 'Attrition', 'BusinessTravel', 'DailyRate', 'Department',\n",
       "       'DistanceFromHome', 'Education', 'EducationField', 'EmployeeCount',\n",
       "       'EmployeeNumber', 'EnvironmentSatisfaction', 'Gender', 'HourlyRate',\n",
       "       'JobInvolvement', 'JobLevel', 'JobRole', 'JobSatisfaction',\n",
       "       'MaritalStatus', 'MonthlyIncome', 'MonthlyRate', 'NumCompaniesWorked',\n",
       "       'Over18', 'OverTime', 'PercentSalaryHike', 'PerformanceRating',\n",
       "       'RelationshipSatisfaction', 'StandardHours', 'StockOptionLevel',\n",
       "       'TotalWorkingYears', 'TrainingTimesLastYear', 'WorkLifeBalance',\n",
       "       'YearsAtCompany', 'YearsInCurrentRole', 'YearsSinceLastPromotion',\n",
       "       'YearsWithCurrManager'],\n",
       "      dtype='object')"
      ]
     },
     "execution_count": 9,
     "metadata": {},
     "output_type": "execute_result"
    }
   ],
   "source": [
    "ibm.columns"
   ]
  },
  {
   "cell_type": "code",
   "execution_count": 10,
   "metadata": {
    "execution": {
     "iopub.execute_input": "2021-03-23T01:59:12.420389Z",
     "iopub.status.busy": "2021-03-23T01:59:12.419591Z",
     "iopub.status.idle": "2021-03-23T01:59:12.423307Z",
     "shell.execute_reply": "2021-03-23T01:59:12.422873Z"
    },
    "papermill": {
     "duration": 0.044688,
     "end_time": "2021-03-23T01:59:12.423390",
     "exception": false,
     "start_time": "2021-03-23T01:59:12.378702",
     "status": "completed"
    },
    "tags": []
   },
   "outputs": [
    {
     "data": {
      "text/plain": [
       "Age                         int64 \n",
       "Attrition                   object\n",
       "BusinessTravel              object\n",
       "DailyRate                   int64 \n",
       "Department                  object\n",
       "DistanceFromHome            int64 \n",
       "Education                   int64 \n",
       "EducationField              object\n",
       "EmployeeCount               int64 \n",
       "EmployeeNumber              int64 \n",
       "EnvironmentSatisfaction     int64 \n",
       "Gender                      object\n",
       "HourlyRate                  int64 \n",
       "JobInvolvement              int64 \n",
       "JobLevel                    int64 \n",
       "JobRole                     object\n",
       "JobSatisfaction             int64 \n",
       "MaritalStatus               object\n",
       "MonthlyIncome               int64 \n",
       "MonthlyRate                 int64 \n",
       "NumCompaniesWorked          int64 \n",
       "Over18                      object\n",
       "OverTime                    object\n",
       "PercentSalaryHike           int64 \n",
       "PerformanceRating           int64 \n",
       "RelationshipSatisfaction    int64 \n",
       "StandardHours               int64 \n",
       "StockOptionLevel            int64 \n",
       "TotalWorkingYears           int64 \n",
       "TrainingTimesLastYear       int64 \n",
       "WorkLifeBalance             int64 \n",
       "YearsAtCompany              int64 \n",
       "YearsInCurrentRole          int64 \n",
       "YearsSinceLastPromotion     int64 \n",
       "YearsWithCurrManager        int64 \n",
       "dtype: object"
      ]
     },
     "execution_count": 10,
     "metadata": {},
     "output_type": "execute_result"
    }
   ],
   "source": [
    "#Exploramos los tipos de dato de cada columna\n",
    "ibm.dtypes"
   ]
  },
  {
   "cell_type": "code",
   "execution_count": 11,
   "metadata": {
    "execution": {
     "iopub.execute_input": "2021-03-23T01:59:12.497434Z",
     "iopub.status.busy": "2021-03-23T01:59:12.496712Z",
     "iopub.status.idle": "2021-03-23T01:59:12.499590Z",
     "shell.execute_reply": "2021-03-23T01:59:12.499100Z"
    },
    "papermill": {
     "duration": 0.041361,
     "end_time": "2021-03-23T01:59:12.499672",
     "exception": false,
     "start_time": "2021-03-23T01:59:12.458311",
     "status": "completed"
    },
    "tags": []
   },
   "outputs": [],
   "source": [
    "#quitar los espacios \n",
    "df_obj = ibm.select_dtypes(['object'])\n",
    "#df_obj\n",
    "ibm[df_obj.columns] = df_obj.apply(lambda x: x.str.strip())"
   ]
  },
  {
   "cell_type": "code",
   "execution_count": 12,
   "metadata": {
    "execution": {
     "iopub.execute_input": "2021-03-23T01:59:12.577160Z",
     "iopub.status.busy": "2021-03-23T01:59:12.576375Z",
     "iopub.status.idle": "2021-03-23T01:59:12.579579Z",
     "shell.execute_reply": "2021-03-23T01:59:12.580042Z"
    },
    "papermill": {
     "duration": 0.045183,
     "end_time": "2021-03-23T01:59:12.580152",
     "exception": false,
     "start_time": "2021-03-23T01:59:12.534969",
     "status": "completed"
    },
    "tags": []
   },
   "outputs": [
    {
     "data": {
      "text/plain": [
       "No     1233\n",
       "Yes    237 \n",
       "Name: Attrition, dtype: int64"
      ]
     },
     "execution_count": 12,
     "metadata": {},
     "output_type": "execute_result"
    }
   ],
   "source": [
    "ibm['Attrition'].value_counts()"
   ]
  },
  {
   "cell_type": "code",
   "execution_count": 13,
   "metadata": {},
   "outputs": [
    {
     "data": {
      "text/plain": [
       "Age                         0\n",
       "Attrition                   0\n",
       "BusinessTravel              0\n",
       "DailyRate                   0\n",
       "Department                  0\n",
       "DistanceFromHome            0\n",
       "Education                   0\n",
       "EducationField              0\n",
       "EmployeeCount               0\n",
       "EmployeeNumber              0\n",
       "EnvironmentSatisfaction     0\n",
       "Gender                      0\n",
       "HourlyRate                  0\n",
       "JobInvolvement              0\n",
       "JobLevel                    0\n",
       "JobRole                     0\n",
       "JobSatisfaction             0\n",
       "MaritalStatus               0\n",
       "MonthlyIncome               0\n",
       "MonthlyRate                 0\n",
       "NumCompaniesWorked          0\n",
       "Over18                      0\n",
       "OverTime                    0\n",
       "PercentSalaryHike           0\n",
       "PerformanceRating           0\n",
       "RelationshipSatisfaction    0\n",
       "StandardHours               0\n",
       "StockOptionLevel            0\n",
       "TotalWorkingYears           0\n",
       "TrainingTimesLastYear       0\n",
       "WorkLifeBalance             0\n",
       "YearsAtCompany              0\n",
       "YearsInCurrentRole          0\n",
       "YearsSinceLastPromotion     0\n",
       "YearsWithCurrManager        0\n",
       "dtype: int64"
      ]
     },
     "execution_count": 13,
     "metadata": {},
     "output_type": "execute_result"
    }
   ],
   "source": [
    "#Contar los NaN\n",
    "ibm.isna().sum() "
   ]
  },
  {
   "cell_type": "code",
   "execution_count": 14,
   "metadata": {
    "execution": {
     "iopub.execute_input": "2021-03-23T01:59:12.832555Z",
     "iopub.status.busy": "2021-03-23T01:59:12.831708Z",
     "iopub.status.idle": "2021-03-23T01:59:12.844981Z",
     "shell.execute_reply": "2021-03-23T01:59:12.845403Z"
    },
    "papermill": {
     "duration": 0.053875,
     "end_time": "2021-03-23T01:59:12.845526",
     "exception": false,
     "start_time": "2021-03-23T01:59:12.791651",
     "status": "completed"
    },
    "tags": []
   },
   "outputs": [
    {
     "data": {
      "text/plain": [
       "Age                         43  \n",
       "Attrition                   2   \n",
       "BusinessTravel              3   \n",
       "DailyRate                   886 \n",
       "Department                  3   \n",
       "DistanceFromHome            29  \n",
       "Education                   5   \n",
       "EducationField              6   \n",
       "EmployeeCount               1   \n",
       "EmployeeNumber              1470\n",
       "EnvironmentSatisfaction     4   \n",
       "Gender                      2   \n",
       "HourlyRate                  71  \n",
       "JobInvolvement              4   \n",
       "JobLevel                    5   \n",
       "JobRole                     9   \n",
       "JobSatisfaction             4   \n",
       "MaritalStatus               3   \n",
       "MonthlyIncome               1349\n",
       "MonthlyRate                 1427\n",
       "NumCompaniesWorked          10  \n",
       "Over18                      1   \n",
       "OverTime                    2   \n",
       "PercentSalaryHike           15  \n",
       "PerformanceRating           2   \n",
       "RelationshipSatisfaction    4   \n",
       "StandardHours               1   \n",
       "StockOptionLevel            4   \n",
       "TotalWorkingYears           40  \n",
       "TrainingTimesLastYear       7   \n",
       "WorkLifeBalance             4   \n",
       "YearsAtCompany              37  \n",
       "YearsInCurrentRole          19  \n",
       "YearsSinceLastPromotion     16  \n",
       "YearsWithCurrManager        18  \n",
       "dtype: int64"
      ]
     },
     "execution_count": 14,
     "metadata": {},
     "output_type": "execute_result"
    }
   ],
   "source": [
    "ibm.nunique()"
   ]
  },
  {
   "cell_type": "code",
   "execution_count": 15,
   "metadata": {
    "execution": {
     "iopub.execute_input": "2021-03-23T01:59:12.926134Z",
     "iopub.status.busy": "2021-03-23T01:59:12.925305Z",
     "iopub.status.idle": "2021-03-23T01:59:12.931474Z",
     "shell.execute_reply": "2021-03-23T01:59:12.931063Z"
    },
    "papermill": {
     "duration": 0.048703,
     "end_time": "2021-03-23T01:59:12.931563",
     "exception": false,
     "start_time": "2021-03-23T01:59:12.882860",
     "status": "completed"
    },
    "tags": []
   },
   "outputs": [
    {
     "data": {
      "text/plain": [
       "Age                         0\n",
       "Attrition                   0\n",
       "BusinessTravel              0\n",
       "DailyRate                   0\n",
       "Department                  0\n",
       "DistanceFromHome            0\n",
       "Education                   0\n",
       "EducationField              0\n",
       "EmployeeCount               0\n",
       "EmployeeNumber              0\n",
       "EnvironmentSatisfaction     0\n",
       "Gender                      0\n",
       "HourlyRate                  0\n",
       "JobInvolvement              0\n",
       "JobLevel                    0\n",
       "JobRole                     0\n",
       "JobSatisfaction             0\n",
       "MaritalStatus               0\n",
       "MonthlyIncome               0\n",
       "MonthlyRate                 0\n",
       "NumCompaniesWorked          0\n",
       "Over18                      0\n",
       "OverTime                    0\n",
       "PercentSalaryHike           0\n",
       "PerformanceRating           0\n",
       "RelationshipSatisfaction    0\n",
       "StandardHours               0\n",
       "StockOptionLevel            0\n",
       "TotalWorkingYears           0\n",
       "TrainingTimesLastYear       0\n",
       "WorkLifeBalance             0\n",
       "YearsAtCompany              0\n",
       "YearsInCurrentRole          0\n",
       "YearsSinceLastPromotion     0\n",
       "YearsWithCurrManager        0\n",
       "dtype: int64"
      ]
     },
     "execution_count": 15,
     "metadata": {},
     "output_type": "execute_result"
    }
   ],
   "source": [
    "ibm.isnull().sum()"
   ]
  },
  {
   "cell_type": "code",
   "execution_count": 16,
   "metadata": {},
   "outputs": [
    {
     "name": "stdout",
     "output_type": "stream",
     "text": [
      "(0, 35)\n"
     ]
    }
   ],
   "source": [
    "# Checar duplicados\n",
    "print(ibm[ibm.duplicated(keep=False)].shape)"
   ]
  },
  {
   "cell_type": "code",
   "execution_count": 17,
   "metadata": {},
   "outputs": [
    {
     "data": {
      "text/plain": [
       "0    1233\n",
       "1    237 \n",
       "Name: Attrition_ind, dtype: int64"
      ]
     },
     "execution_count": 17,
     "metadata": {},
     "output_type": "execute_result"
    }
   ],
   "source": [
    "#Convertir Atrattion a Numeros. \n",
    "#Remplazar \"No\" = 0 y \"Yes\" = 1. \n",
    "\n",
    "ibm['Attrition_ind'] = 0 \n",
    "ibm.loc[ibm['Attrition'] =='Yes', 'Attrition_ind'] = 1\n",
    "ibm['Attrition_ind'].value_counts()"
   ]
  },
  {
   "cell_type": "code",
   "execution_count": 18,
   "metadata": {},
   "outputs": [
    {
     "data": {
      "text/plain": [
       "count    1470.000000\n",
       "mean     0.161224   \n",
       "std      0.367863   \n",
       "min      0.000000   \n",
       "25%      0.000000   \n",
       "50%      0.000000   \n",
       "75%      0.000000   \n",
       "max      1.000000   \n",
       "Name: Attrition_ind, dtype: float64"
      ]
     },
     "execution_count": 18,
     "metadata": {},
     "output_type": "execute_result"
    }
   ],
   "source": [
    "ibm['Attrition_ind'].describe()"
   ]
  },
  {
   "cell_type": "code",
   "execution_count": 19,
   "metadata": {
    "execution": {
     "iopub.execute_input": "2021-03-23T01:59:13.265207Z",
     "iopub.status.busy": "2021-03-23T01:59:13.264372Z",
     "iopub.status.idle": "2021-03-23T01:59:13.266520Z",
     "shell.execute_reply": "2021-03-23T01:59:13.266986Z"
    },
    "papermill": {
     "duration": 0.045949,
     "end_time": "2021-03-23T01:59:13.267095",
     "exception": false,
     "start_time": "2021-03-23T01:59:13.221146",
     "status": "completed"
    },
    "tags": []
   },
   "outputs": [
    {
     "data": {
      "text/html": [
       "<div>\n",
       "<style scoped>\n",
       "    .dataframe tbody tr th:only-of-type {\n",
       "        vertical-align: middle;\n",
       "    }\n",
       "\n",
       "    .dataframe tbody tr th {\n",
       "        vertical-align: top;\n",
       "    }\n",
       "\n",
       "    .dataframe thead th {\n",
       "        text-align: right;\n",
       "    }\n",
       "</style>\n",
       "<table border=\"1\" class=\"dataframe\">\n",
       "  <thead>\n",
       "    <tr style=\"text-align: right;\">\n",
       "      <th></th>\n",
       "      <th>Age</th>\n",
       "      <th>BusinessTravel</th>\n",
       "      <th>Department</th>\n",
       "      <th>DistanceFromHome</th>\n",
       "      <th>Education</th>\n",
       "      <th>EducationField</th>\n",
       "      <th>EmployeeCount</th>\n",
       "      <th>EnvironmentSatisfaction</th>\n",
       "      <th>Gender</th>\n",
       "      <th>JobInvolvement</th>\n",
       "      <th>JobLevel</th>\n",
       "      <th>JobRole</th>\n",
       "      <th>JobSatisfaction</th>\n",
       "      <th>MaritalStatus</th>\n",
       "      <th>MonthlyIncome</th>\n",
       "      <th>NumCompaniesWorked</th>\n",
       "      <th>OverTime</th>\n",
       "      <th>PercentSalaryHike</th>\n",
       "      <th>PerformanceRating</th>\n",
       "      <th>RelationshipSatisfaction</th>\n",
       "      <th>StandardHours</th>\n",
       "      <th>StockOptionLevel</th>\n",
       "      <th>TotalWorkingYears</th>\n",
       "      <th>TrainingTimesLastYear</th>\n",
       "      <th>WorkLifeBalance</th>\n",
       "      <th>YearsAtCompany</th>\n",
       "      <th>YearsInCurrentRole</th>\n",
       "      <th>YearsSinceLastPromotion</th>\n",
       "      <th>YearsWithCurrManager</th>\n",
       "      <th>Attrition_ind</th>\n",
       "    </tr>\n",
       "  </thead>\n",
       "  <tbody>\n",
       "    <tr>\n",
       "      <th>0</th>\n",
       "      <td>41</td>\n",
       "      <td>Travel_Rarely</td>\n",
       "      <td>Sales</td>\n",
       "      <td>1</td>\n",
       "      <td>2</td>\n",
       "      <td>Life Sciences</td>\n",
       "      <td>1</td>\n",
       "      <td>2</td>\n",
       "      <td>Female</td>\n",
       "      <td>3</td>\n",
       "      <td>2</td>\n",
       "      <td>Sales Executive</td>\n",
       "      <td>4</td>\n",
       "      <td>Single</td>\n",
       "      <td>5993</td>\n",
       "      <td>8</td>\n",
       "      <td>Yes</td>\n",
       "      <td>11</td>\n",
       "      <td>3</td>\n",
       "      <td>1</td>\n",
       "      <td>80</td>\n",
       "      <td>0</td>\n",
       "      <td>8</td>\n",
       "      <td>0</td>\n",
       "      <td>1</td>\n",
       "      <td>6</td>\n",
       "      <td>4</td>\n",
       "      <td>0</td>\n",
       "      <td>5</td>\n",
       "      <td>1</td>\n",
       "    </tr>\n",
       "    <tr>\n",
       "      <th>1</th>\n",
       "      <td>49</td>\n",
       "      <td>Travel_Frequently</td>\n",
       "      <td>Research &amp; Development</td>\n",
       "      <td>8</td>\n",
       "      <td>1</td>\n",
       "      <td>Life Sciences</td>\n",
       "      <td>1</td>\n",
       "      <td>3</td>\n",
       "      <td>Male</td>\n",
       "      <td>2</td>\n",
       "      <td>2</td>\n",
       "      <td>Research Scientist</td>\n",
       "      <td>2</td>\n",
       "      <td>Married</td>\n",
       "      <td>5130</td>\n",
       "      <td>1</td>\n",
       "      <td>No</td>\n",
       "      <td>23</td>\n",
       "      <td>4</td>\n",
       "      <td>4</td>\n",
       "      <td>80</td>\n",
       "      <td>1</td>\n",
       "      <td>10</td>\n",
       "      <td>3</td>\n",
       "      <td>3</td>\n",
       "      <td>10</td>\n",
       "      <td>7</td>\n",
       "      <td>1</td>\n",
       "      <td>7</td>\n",
       "      <td>0</td>\n",
       "    </tr>\n",
       "    <tr>\n",
       "      <th>2</th>\n",
       "      <td>37</td>\n",
       "      <td>Travel_Rarely</td>\n",
       "      <td>Research &amp; Development</td>\n",
       "      <td>2</td>\n",
       "      <td>2</td>\n",
       "      <td>Other</td>\n",
       "      <td>1</td>\n",
       "      <td>4</td>\n",
       "      <td>Male</td>\n",
       "      <td>2</td>\n",
       "      <td>1</td>\n",
       "      <td>Laboratory Technician</td>\n",
       "      <td>3</td>\n",
       "      <td>Single</td>\n",
       "      <td>2090</td>\n",
       "      <td>6</td>\n",
       "      <td>Yes</td>\n",
       "      <td>15</td>\n",
       "      <td>3</td>\n",
       "      <td>2</td>\n",
       "      <td>80</td>\n",
       "      <td>0</td>\n",
       "      <td>7</td>\n",
       "      <td>3</td>\n",
       "      <td>3</td>\n",
       "      <td>0</td>\n",
       "      <td>0</td>\n",
       "      <td>0</td>\n",
       "      <td>0</td>\n",
       "      <td>1</td>\n",
       "    </tr>\n",
       "    <tr>\n",
       "      <th>3</th>\n",
       "      <td>33</td>\n",
       "      <td>Travel_Frequently</td>\n",
       "      <td>Research &amp; Development</td>\n",
       "      <td>3</td>\n",
       "      <td>4</td>\n",
       "      <td>Life Sciences</td>\n",
       "      <td>1</td>\n",
       "      <td>4</td>\n",
       "      <td>Female</td>\n",
       "      <td>3</td>\n",
       "      <td>1</td>\n",
       "      <td>Research Scientist</td>\n",
       "      <td>3</td>\n",
       "      <td>Married</td>\n",
       "      <td>2909</td>\n",
       "      <td>1</td>\n",
       "      <td>Yes</td>\n",
       "      <td>11</td>\n",
       "      <td>3</td>\n",
       "      <td>3</td>\n",
       "      <td>80</td>\n",
       "      <td>0</td>\n",
       "      <td>8</td>\n",
       "      <td>3</td>\n",
       "      <td>3</td>\n",
       "      <td>8</td>\n",
       "      <td>7</td>\n",
       "      <td>3</td>\n",
       "      <td>0</td>\n",
       "      <td>0</td>\n",
       "    </tr>\n",
       "    <tr>\n",
       "      <th>4</th>\n",
       "      <td>27</td>\n",
       "      <td>Travel_Rarely</td>\n",
       "      <td>Research &amp; Development</td>\n",
       "      <td>2</td>\n",
       "      <td>1</td>\n",
       "      <td>Medical</td>\n",
       "      <td>1</td>\n",
       "      <td>1</td>\n",
       "      <td>Male</td>\n",
       "      <td>3</td>\n",
       "      <td>1</td>\n",
       "      <td>Laboratory Technician</td>\n",
       "      <td>2</td>\n",
       "      <td>Married</td>\n",
       "      <td>3468</td>\n",
       "      <td>9</td>\n",
       "      <td>No</td>\n",
       "      <td>12</td>\n",
       "      <td>3</td>\n",
       "      <td>4</td>\n",
       "      <td>80</td>\n",
       "      <td>1</td>\n",
       "      <td>6</td>\n",
       "      <td>3</td>\n",
       "      <td>3</td>\n",
       "      <td>2</td>\n",
       "      <td>2</td>\n",
       "      <td>2</td>\n",
       "      <td>2</td>\n",
       "      <td>0</td>\n",
       "    </tr>\n",
       "    <tr>\n",
       "      <th>...</th>\n",
       "      <td>...</td>\n",
       "      <td>...</td>\n",
       "      <td>...</td>\n",
       "      <td>...</td>\n",
       "      <td>...</td>\n",
       "      <td>...</td>\n",
       "      <td>...</td>\n",
       "      <td>...</td>\n",
       "      <td>...</td>\n",
       "      <td>...</td>\n",
       "      <td>...</td>\n",
       "      <td>...</td>\n",
       "      <td>...</td>\n",
       "      <td>...</td>\n",
       "      <td>...</td>\n",
       "      <td>...</td>\n",
       "      <td>...</td>\n",
       "      <td>...</td>\n",
       "      <td>...</td>\n",
       "      <td>...</td>\n",
       "      <td>...</td>\n",
       "      <td>...</td>\n",
       "      <td>...</td>\n",
       "      <td>...</td>\n",
       "      <td>...</td>\n",
       "      <td>...</td>\n",
       "      <td>...</td>\n",
       "      <td>...</td>\n",
       "      <td>...</td>\n",
       "      <td>...</td>\n",
       "    </tr>\n",
       "    <tr>\n",
       "      <th>1465</th>\n",
       "      <td>36</td>\n",
       "      <td>Travel_Frequently</td>\n",
       "      <td>Research &amp; Development</td>\n",
       "      <td>23</td>\n",
       "      <td>2</td>\n",
       "      <td>Medical</td>\n",
       "      <td>1</td>\n",
       "      <td>3</td>\n",
       "      <td>Male</td>\n",
       "      <td>4</td>\n",
       "      <td>2</td>\n",
       "      <td>Laboratory Technician</td>\n",
       "      <td>4</td>\n",
       "      <td>Married</td>\n",
       "      <td>2571</td>\n",
       "      <td>4</td>\n",
       "      <td>No</td>\n",
       "      <td>17</td>\n",
       "      <td>3</td>\n",
       "      <td>3</td>\n",
       "      <td>80</td>\n",
       "      <td>1</td>\n",
       "      <td>17</td>\n",
       "      <td>3</td>\n",
       "      <td>3</td>\n",
       "      <td>5</td>\n",
       "      <td>2</td>\n",
       "      <td>0</td>\n",
       "      <td>3</td>\n",
       "      <td>0</td>\n",
       "    </tr>\n",
       "    <tr>\n",
       "      <th>1466</th>\n",
       "      <td>39</td>\n",
       "      <td>Travel_Rarely</td>\n",
       "      <td>Research &amp; Development</td>\n",
       "      <td>6</td>\n",
       "      <td>1</td>\n",
       "      <td>Medical</td>\n",
       "      <td>1</td>\n",
       "      <td>4</td>\n",
       "      <td>Male</td>\n",
       "      <td>2</td>\n",
       "      <td>3</td>\n",
       "      <td>Healthcare Representative</td>\n",
       "      <td>1</td>\n",
       "      <td>Married</td>\n",
       "      <td>9991</td>\n",
       "      <td>4</td>\n",
       "      <td>No</td>\n",
       "      <td>15</td>\n",
       "      <td>3</td>\n",
       "      <td>1</td>\n",
       "      <td>80</td>\n",
       "      <td>1</td>\n",
       "      <td>9</td>\n",
       "      <td>5</td>\n",
       "      <td>3</td>\n",
       "      <td>7</td>\n",
       "      <td>7</td>\n",
       "      <td>1</td>\n",
       "      <td>7</td>\n",
       "      <td>0</td>\n",
       "    </tr>\n",
       "    <tr>\n",
       "      <th>1467</th>\n",
       "      <td>27</td>\n",
       "      <td>Travel_Rarely</td>\n",
       "      <td>Research &amp; Development</td>\n",
       "      <td>4</td>\n",
       "      <td>3</td>\n",
       "      <td>Life Sciences</td>\n",
       "      <td>1</td>\n",
       "      <td>2</td>\n",
       "      <td>Male</td>\n",
       "      <td>4</td>\n",
       "      <td>2</td>\n",
       "      <td>Manufacturing Director</td>\n",
       "      <td>2</td>\n",
       "      <td>Married</td>\n",
       "      <td>6142</td>\n",
       "      <td>1</td>\n",
       "      <td>Yes</td>\n",
       "      <td>20</td>\n",
       "      <td>4</td>\n",
       "      <td>2</td>\n",
       "      <td>80</td>\n",
       "      <td>1</td>\n",
       "      <td>6</td>\n",
       "      <td>0</td>\n",
       "      <td>3</td>\n",
       "      <td>6</td>\n",
       "      <td>2</td>\n",
       "      <td>0</td>\n",
       "      <td>3</td>\n",
       "      <td>0</td>\n",
       "    </tr>\n",
       "    <tr>\n",
       "      <th>1468</th>\n",
       "      <td>49</td>\n",
       "      <td>Travel_Frequently</td>\n",
       "      <td>Sales</td>\n",
       "      <td>2</td>\n",
       "      <td>3</td>\n",
       "      <td>Medical</td>\n",
       "      <td>1</td>\n",
       "      <td>4</td>\n",
       "      <td>Male</td>\n",
       "      <td>2</td>\n",
       "      <td>2</td>\n",
       "      <td>Sales Executive</td>\n",
       "      <td>2</td>\n",
       "      <td>Married</td>\n",
       "      <td>5390</td>\n",
       "      <td>2</td>\n",
       "      <td>No</td>\n",
       "      <td>14</td>\n",
       "      <td>3</td>\n",
       "      <td>4</td>\n",
       "      <td>80</td>\n",
       "      <td>0</td>\n",
       "      <td>17</td>\n",
       "      <td>3</td>\n",
       "      <td>2</td>\n",
       "      <td>9</td>\n",
       "      <td>6</td>\n",
       "      <td>0</td>\n",
       "      <td>8</td>\n",
       "      <td>0</td>\n",
       "    </tr>\n",
       "    <tr>\n",
       "      <th>1469</th>\n",
       "      <td>34</td>\n",
       "      <td>Travel_Rarely</td>\n",
       "      <td>Research &amp; Development</td>\n",
       "      <td>8</td>\n",
       "      <td>3</td>\n",
       "      <td>Medical</td>\n",
       "      <td>1</td>\n",
       "      <td>2</td>\n",
       "      <td>Male</td>\n",
       "      <td>4</td>\n",
       "      <td>2</td>\n",
       "      <td>Laboratory Technician</td>\n",
       "      <td>3</td>\n",
       "      <td>Married</td>\n",
       "      <td>4404</td>\n",
       "      <td>2</td>\n",
       "      <td>No</td>\n",
       "      <td>12</td>\n",
       "      <td>3</td>\n",
       "      <td>1</td>\n",
       "      <td>80</td>\n",
       "      <td>0</td>\n",
       "      <td>6</td>\n",
       "      <td>3</td>\n",
       "      <td>4</td>\n",
       "      <td>4</td>\n",
       "      <td>3</td>\n",
       "      <td>1</td>\n",
       "      <td>2</td>\n",
       "      <td>0</td>\n",
       "    </tr>\n",
       "  </tbody>\n",
       "</table>\n",
       "<p>1470 rows × 30 columns</p>\n",
       "</div>"
      ],
      "text/plain": [
       "      Age     BusinessTravel              Department  DistanceFromHome  \\\n",
       "0     41   Travel_Rarely      Sales                   1                  \n",
       "1     49   Travel_Frequently  Research & Development  8                  \n",
       "2     37   Travel_Rarely      Research & Development  2                  \n",
       "3     33   Travel_Frequently  Research & Development  3                  \n",
       "4     27   Travel_Rarely      Research & Development  2                  \n",
       "...   ..             ...                         ... ..                  \n",
       "1465  36   Travel_Frequently  Research & Development  23                 \n",
       "1466  39   Travel_Rarely      Research & Development  6                  \n",
       "1467  27   Travel_Rarely      Research & Development  4                  \n",
       "1468  49   Travel_Frequently  Sales                   2                  \n",
       "1469  34   Travel_Rarely      Research & Development  8                  \n",
       "\n",
       "      Education EducationField  EmployeeCount  EnvironmentSatisfaction  \\\n",
       "0     2          Life Sciences  1              2                         \n",
       "1     1          Life Sciences  1              3                         \n",
       "2     2          Other          1              4                         \n",
       "3     4          Life Sciences  1              4                         \n",
       "4     1          Medical        1              1                         \n",
       "...  ..              ...       ..             ..                         \n",
       "1465  2          Medical        1              3                         \n",
       "1466  1          Medical        1              4                         \n",
       "1467  3          Life Sciences  1              2                         \n",
       "1468  3          Medical        1              4                         \n",
       "1469  3          Medical        1              2                         \n",
       "\n",
       "      Gender  JobInvolvement  JobLevel                    JobRole  \\\n",
       "0     Female  3               2         Sales Executive             \n",
       "1     Male    2               2         Research Scientist          \n",
       "2     Male    2               1         Laboratory Technician       \n",
       "3     Female  3               1         Research Scientist          \n",
       "4     Male    3               1         Laboratory Technician       \n",
       "...    ...   ..              ..                           ...       \n",
       "1465  Male    4               2         Laboratory Technician       \n",
       "1466  Male    2               3         Healthcare Representative   \n",
       "1467  Male    4               2         Manufacturing Director      \n",
       "1468  Male    2               2         Sales Executive             \n",
       "1469  Male    4               2         Laboratory Technician       \n",
       "\n",
       "      JobSatisfaction MaritalStatus  MonthlyIncome  NumCompaniesWorked  \\\n",
       "0     4                Single        5993           8                    \n",
       "1     2                Married       5130           1                    \n",
       "2     3                Single        2090           6                    \n",
       "3     3                Married       2909           1                    \n",
       "4     2                Married       3468           9                    \n",
       "...  ..                    ...        ...          ..                    \n",
       "1465  4                Married       2571           4                    \n",
       "1466  1                Married       9991           4                    \n",
       "1467  2                Married       6142           1                    \n",
       "1468  2                Married       5390           2                    \n",
       "1469  3                Married       4404           2                    \n",
       "\n",
       "     OverTime  PercentSalaryHike  PerformanceRating  RelationshipSatisfaction  \\\n",
       "0     Yes      11                 3                  1                          \n",
       "1     No       23                 4                  4                          \n",
       "2     Yes      15                 3                  2                          \n",
       "3     Yes      11                 3                  3                          \n",
       "4     No       12                 3                  4                          \n",
       "...   ..       ..                ..                 ..                          \n",
       "1465  No       17                 3                  3                          \n",
       "1466  No       15                 3                  1                          \n",
       "1467  Yes      20                 4                  2                          \n",
       "1468  No       14                 3                  4                          \n",
       "1469  No       12                 3                  1                          \n",
       "\n",
       "      StandardHours  StockOptionLevel  TotalWorkingYears  \\\n",
       "0     80             0                 8                   \n",
       "1     80             1                 10                  \n",
       "2     80             0                 7                   \n",
       "3     80             0                 8                   \n",
       "4     80             1                 6                   \n",
       "...   ..            ..                ..                   \n",
       "1465  80             1                 17                  \n",
       "1466  80             1                 9                   \n",
       "1467  80             1                 6                   \n",
       "1468  80             0                 17                  \n",
       "1469  80             0                 6                   \n",
       "\n",
       "      TrainingTimesLastYear  WorkLifeBalance  YearsAtCompany  \\\n",
       "0     0                      1                6                \n",
       "1     3                      3                10               \n",
       "2     3                      3                0                \n",
       "3     3                      3                8                \n",
       "4     3                      3                2                \n",
       "...  ..                     ..               ..                \n",
       "1465  3                      3                5                \n",
       "1466  5                      3                7                \n",
       "1467  0                      3                6                \n",
       "1468  3                      2                9                \n",
       "1469  3                      4                4                \n",
       "\n",
       "      YearsInCurrentRole  YearsSinceLastPromotion  YearsWithCurrManager  \\\n",
       "0     4                   0                        5                      \n",
       "1     7                   1                        7                      \n",
       "2     0                   0                        0                      \n",
       "3     7                   3                        0                      \n",
       "4     2                   2                        2                      \n",
       "...  ..                  ..                       ..                      \n",
       "1465  2                   0                        3                      \n",
       "1466  7                   1                        7                      \n",
       "1467  2                   0                        3                      \n",
       "1468  6                   0                        8                      \n",
       "1469  3                   1                        2                      \n",
       "\n",
       "      Attrition_ind  \n",
       "0     1              \n",
       "1     0              \n",
       "2     1              \n",
       "3     0              \n",
       "4     0              \n",
       "...  ..              \n",
       "1465  0              \n",
       "1466  0              \n",
       "1467  0              \n",
       "1468  0              \n",
       "1469  0              \n",
       "\n",
       "[1470 rows x 30 columns]"
      ]
     },
     "execution_count": 19,
     "metadata": {},
     "output_type": "execute_result"
    }
   ],
   "source": [
    "#Remover datos que no necesitamos ya\n",
    "ibm.drop([\"EmployeeNumber\"], axis = 1, inplace=True)\n",
    "ibm.drop([\"Attrition\"], axis = 1, inplace=True)\n",
    "ibm.drop([\"Over18\"], axis = 1, inplace=True)\n",
    "ibm.drop([\"HourlyRate\",\"DailyRate\", \"MonthlyRate\"], 1)"
   ]
  },
  {
   "cell_type": "code",
   "execution_count": 20,
   "metadata": {
    "execution": {
     "iopub.execute_input": "2021-03-23T01:59:13.010997Z",
     "iopub.status.busy": "2021-03-23T01:59:13.010183Z",
     "iopub.status.idle": "2021-03-23T01:59:13.013809Z",
     "shell.execute_reply": "2021-03-23T01:59:13.013384Z"
    },
    "papermill": {
     "duration": 0.045466,
     "end_time": "2021-03-23T01:59:13.013901",
     "exception": false,
     "start_time": "2021-03-23T01:59:12.968435",
     "status": "completed"
    },
    "tags": []
   },
   "outputs": [
    {
     "data": {
      "text/plain": [
       "['Age',\n",
       " 'DistanceFromHome',\n",
       " 'EnvironmentSatisfaction',\n",
       " 'JobInvolvement',\n",
       " 'JobLevel',\n",
       " 'JobSatisfaction',\n",
       " 'RelationshipSatisfaction',\n",
       " 'StockOptionLevel',\n",
       " 'TrainingTimesLastYear']"
      ]
     },
     "execution_count": 20,
     "metadata": {},
     "output_type": "execute_result"
    }
   ],
   "source": [
    "#Numerical data 4.\tCreate an array of all the numeric datatypes. Similarly, create an array of all categorical datatypes\n",
    "num_cols=['Age',\n",
    "          'DistanceFromHome',\n",
    "          'EnvironmentSatisfaction',\n",
    "          'JobInvolvement', \n",
    "          'JobLevel',\n",
    "          'JobSatisfaction',\n",
    "          'RelationshipSatisfaction',\n",
    "          'StockOptionLevel',\n",
    "          'TrainingTimesLastYear']\n",
    "num_cols"
   ]
  },
  {
   "cell_type": "code",
   "execution_count": 21,
   "metadata": {
    "execution": {
     "iopub.execute_input": "2021-03-23T01:59:13.094833Z",
     "iopub.status.busy": "2021-03-23T01:59:13.094052Z",
     "iopub.status.idle": "2021-03-23T01:59:13.097701Z",
     "shell.execute_reply": "2021-03-23T01:59:13.097261Z"
    },
    "papermill": {
     "duration": 0.046437,
     "end_time": "2021-03-23T01:59:13.097805",
     "exception": false,
     "start_time": "2021-03-23T01:59:13.051368",
     "status": "completed"
    },
    "tags": []
   },
   "outputs": [
    {
     "data": {
      "text/plain": [
       "['Attrition_ind',\n",
       " 'BusinessTravel',\n",
       " 'Department',\n",
       " 'EducationField',\n",
       " 'Gender',\n",
       " 'JobRole',\n",
       " 'MaritalStatus',\n",
       " 'OverTime']"
      ]
     },
     "execution_count": 21,
     "metadata": {},
     "output_type": "execute_result"
    }
   ],
   "source": [
    "#categorical data 4.\tCreate an array of all the numeric datatypes. Similarly, create an array of all categorical datatypes\n",
    "cat_cols = ['Attrition_ind',\n",
    "            'BusinessTravel',\n",
    "            'Department',\n",
    "            'EducationField',\n",
    "            'Gender',\n",
    "            'JobRole',\n",
    "            'MaritalStatus',\n",
    "            'OverTime']\n",
    "cat_cols"
   ]
  },
  {
   "cell_type": "code",
   "execution_count": 22,
   "metadata": {},
   "outputs": [
    {
     "name": "stdout",
     "output_type": "stream",
     "text": [
      "0    1233\n",
      "1    237 \n",
      "Name: Attrition_ind, dtype: int64\n",
      "Travel_Rarely        1043\n",
      "Travel_Frequently    277 \n",
      "Non-Travel           150 \n",
      "Name: BusinessTravel, dtype: int64\n",
      "Research & Development    961\n",
      "Sales                     446\n",
      "Human Resources           63 \n",
      "Name: Department, dtype: int64\n",
      "Life Sciences       606\n",
      "Medical             464\n",
      "Marketing           159\n",
      "Technical Degree    132\n",
      "Other               82 \n",
      "Human Resources     27 \n",
      "Name: EducationField, dtype: int64\n",
      "Male      882\n",
      "Female    588\n",
      "Name: Gender, dtype: int64\n",
      "Sales Executive              326\n",
      "Research Scientist           292\n",
      "Laboratory Technician        259\n",
      "Manufacturing Director       145\n",
      "Healthcare Representative    131\n",
      "Manager                      102\n",
      "Sales Representative         83 \n",
      "Research Director            80 \n",
      "Human Resources              52 \n",
      "Name: JobRole, dtype: int64\n",
      "Married     673\n",
      "Single      470\n",
      "Divorced    327\n",
      "Name: MaritalStatus, dtype: int64\n",
      "No     1054\n",
      "Yes    416 \n",
      "Name: OverTime, dtype: int64\n"
     ]
    }
   ],
   "source": [
    "#Ver categoricos\n",
    "for x in range(0,len(cat_cols)):\n",
    "    print (ibm[cat_cols[x]].value_counts())"
   ]
  },
  {
   "cell_type": "code",
   "execution_count": 23,
   "metadata": {},
   "outputs": [
    {
     "name": "stdout",
     "output_type": "stream",
     "text": [
      "0    1233\n",
      "1    237 \n",
      "Name: Attrition_ind, dtype: int64\n",
      "2    1043\n",
      "1    277 \n",
      "0    150 \n",
      "Name: BusinessTravel, dtype: int64\n",
      "1    961\n",
      "2    446\n",
      "0    63 \n",
      "Name: Department, dtype: int64\n",
      "1    606\n",
      "3    464\n",
      "2    159\n",
      "5    132\n",
      "4    82 \n",
      "0    27 \n",
      "Name: EducationField, dtype: int64\n",
      "1    882\n",
      "0    588\n",
      "Name: Gender, dtype: int64\n",
      "7    326\n",
      "6    292\n",
      "2    259\n",
      "4    145\n",
      "0    131\n",
      "3    102\n",
      "8    83 \n",
      "5    80 \n",
      "1    52 \n",
      "Name: JobRole, dtype: int64\n",
      "1    673\n",
      "2    470\n",
      "0    327\n",
      "Name: MaritalStatus, dtype: int64\n",
      "0    1054\n",
      "1    416 \n",
      "Name: OverTime, dtype: int64\n"
     ]
    }
   ],
   "source": [
    "for x in range(0,len(cat_cols)):\n",
    "    \n",
    "    ibm[cat_cols[x]]=ibm[cat_cols[x]].astype(\"category\")\n",
    "    ibm[cat_cols[x]]=ibm[cat_cols[x]].cat.codes\n",
    "    print (ibm[cat_cols[x]].value_counts())"
   ]
  },
  {
   "cell_type": "code",
   "execution_count": null,
   "metadata": {},
   "outputs": [],
   "source": [
    "ibm"
   ]
  },
  {
   "cell_type": "code",
   "execution_count": 24,
   "metadata": {},
   "outputs": [],
   "source": [
    "ibm[num_cols] = ibm[num_cols].applymap(np.float64)"
   ]
  },
  {
   "cell_type": "code",
   "execution_count": null,
   "metadata": {},
   "outputs": [],
   "source": [
    "#ibm[cat_cols] = ibm[cat_cols].astype(\"category\")"
   ]
  },
  {
   "cell_type": "code",
   "execution_count": 25,
   "metadata": {},
   "outputs": [
    {
     "data": {
      "text/plain": [
       "33"
      ]
     },
     "execution_count": 25,
     "metadata": {},
     "output_type": "execute_result"
    }
   ],
   "source": [
    "ibm.dtypes.count()"
   ]
  },
  {
   "cell_type": "markdown",
   "metadata": {},
   "source": [
    "## Correlacion\n",
    "***\n",
    "*Ahora se busca trazar una matriz de correlación, para encontrar una relación entre variables,y asi pueda decidir un modelo.*\n",
    "***"
   ]
  },
  {
   "cell_type": "code",
   "execution_count": 26,
   "metadata": {
    "scrolled": true
   },
   "outputs": [
    {
     "name": "stdout",
     "output_type": "stream",
     "text": [
      "33\n"
     ]
    },
    {
     "data": {
      "image/png": "[encoded data removed]",
      "text/plain": [
       "<Figure size 936x720 with 2 Axes>"
      ]
     },
     "metadata": {},
     "output_type": "display_data"
    }
   ],
   "source": [
    "# Subset todos los datos numericos del dataset\n",
    "numeric_hr = ibm.select_dtypes(include=[np.number])\n",
    "print(numeric_hr.dtypes.count())\n",
    "\n",
    "# Obtener matriz de correlacion\n",
    "corr = numeric_hr._get_numeric_data().corr()\n",
    "\n",
    "# Generate a mask for the upper triangle\n",
    "mask = np.zeros_like(corr, dtype=np.bool)\n",
    "mask[np.triu_indices_from(mask)] = True\n",
    "\n",
    "# Ajustar the matplotlib figure\n",
    "f, ax = plt.subplots(figsize=(13, 10))\n",
    "\n",
    "# Color\n",
    "cmap = sns.diverging_palette(230, 100, as_cmap=True)\n",
    "\n",
    "# Dibujar la matriz\n",
    "heatmap = sns.heatmap(corr, mask=mask, cmap=cmap, center=0.0,\n",
    "                      vmax = 1, square=True, linewidths=.5, ax=ax)\n",
    "\n",
    "plt.savefig('corr-heat.png')\n",
    "plt.show()"
   ]
  },
  {
   "cell_type": "code",
   "execution_count": 27,
   "metadata": {},
   "outputs": [
    {
     "data": {
      "image/png": "[encoded data removed]",
      "text/plain": [
       "<Figure size 1440x720 with 2 Axes>"
      ]
     },
     "metadata": {},
     "output_type": "display_data"
    }
   ],
   "source": [
    "# Subset todos los datos numericos del dataset\n",
    "numeric_hr = ibm.select_dtypes(include=[np.number])\n",
    "dfCorr = numeric_hr.corr()\n",
    "filteredDf = dfCorr[((dfCorr >= .5) | (dfCorr <= -.5)) & (dfCorr !=1.000)]\n",
    "plt.figure(figsize=(20,10))\n",
    "sns.heatmap(filteredDf, annot=True, cmap=\"Reds\")\n",
    "plt.show()"
   ]
  },
  {
   "cell_type": "code",
   "execution_count": null,
   "metadata": {},
   "outputs": [],
   "source": [
    "# Subset todos los datos numericos del dataset\n",
    "numeric_hr = ibm.select_dtypes(include=[np.number])\n",
    "corr = numeric_hr.corr()\n",
    "\n",
    "kot = corr[corr >= .7]\n",
    "plt.figure(figsize=(20,11))\n",
    "sns.heatmap(kot, cmap=\"Greens\")"
   ]
  },
  {
   "cell_type": "code",
   "execution_count": 60,
   "metadata": {},
   "outputs": [
    {
     "name": "stdout",
     "output_type": "stream",
     "text": [
      "Outliers: [59.0, 59.0, 59.0, 59.0, 59.0, 59.0, 18.0, 18.0, 60.0, 60.0, 18.0, 60.0, 18.0, 59.0, 59.0, 18.0, 60.0, 59.0, 59.0, 18.0, 18.0, 60.0, 18.0]\n"
     ]
    }
   ],
   "source": [
    "#buscando outliers\n",
    "numeric_hr = ibm.select_dtypes(include=[np.number])\n",
    "\n",
    "#train = pd.read_csv('../input/titanic/train.csv')\n",
    "out=[]\n",
    "def Winsorization_outliers(df):\n",
    "    q1 = np.percentile(df , 1)\n",
    "    q3 = np.percentile(df , 99)\n",
    "    for i in df:\n",
    "        if i > q3 or i < q1:\n",
    "            out.append(i)\n",
    "    print(\"Outliers:\",out)\n",
    "\n",
    "Winsorization_outliers(numeric_hr['Age'])\n",
    "\n",
    "#for x in numeric_hr:\n",
    " #   print ('Colunm Name : ', x , Winsorization_outliers(numeric_hr[x]))\n",
    "    \n",
    "    "
   ]
  },
  {
   "cell_type": "code",
   "execution_count": 65,
   "metadata": {},
   "outputs": [
    {
     "data": {
      "text/plain": [
       "<matplotlib.axes._subplots.AxesSubplot at 0x1c734b5e7c0>"
      ]
     },
     "execution_count": 65,
     "metadata": {},
     "output_type": "execute_result"
    },
    {
     "data": {
      "image/png": "[encoded data removed]",
      "text/plain": [
       "<Figure size 432x288 with 1 Axes>"
      ]
     },
     "metadata": {},
     "output_type": "display_data"
    }
   ],
   "source": [
    "import seaborn as sns\n",
    "sns.boxplot(data=numeric_hr,x=numeric_hr['Age'])"
   ]
  },
  {
   "cell_type": "code",
   "execution_count": 72,
   "metadata": {},
   "outputs": [
    {
     "ename": "ValueError",
     "evalue": "x and y must be the same size",
     "output_type": "error",
     "traceback": [
      "\u001b[1;31m---------------------------------------------------------------------------\u001b[0m",
      "\u001b[1;31mValueError\u001b[0m                                Traceback (most recent call last)",
      "\u001b[1;32m<ipython-input-72-bb64b5a15a14>\u001b[0m in \u001b[0;36m<module>\u001b[1;34m\u001b[0m\n\u001b[1;32m----> 1\u001b[1;33m numeric_hr.plot(\n\u001b[0m\u001b[0;32m      2\u001b[0m     \u001b[0mkind\u001b[0m\u001b[1;33m=\u001b[0m\u001b[1;34m'scatter'\u001b[0m\u001b[1;33m,\u001b[0m\u001b[1;33m\u001b[0m\u001b[1;33m\u001b[0m\u001b[0m\n\u001b[0;32m      3\u001b[0m     \u001b[0mx\u001b[0m\u001b[1;33m=\u001b[0m\u001b[1;34m'Age'\u001b[0m\u001b[1;33m,\u001b[0m\u001b[1;33m\u001b[0m\u001b[1;33m\u001b[0m\u001b[0m\n\u001b[0;32m      4\u001b[0m     y=[   'Age',\n\u001b[0;32m      5\u001b[0m           \u001b[1;34m'DistanceFromHome'\u001b[0m\u001b[1;33m,\u001b[0m\u001b[1;33m\u001b[0m\u001b[1;33m\u001b[0m\u001b[0m\n",
      "\u001b[1;32mC:\\ProgramData\\Anaconda3\\lib\\site-packages\\pandas\\plotting\\_core.py\u001b[0m in \u001b[0;36m__call__\u001b[1;34m(self, *args, **kwargs)\u001b[0m\n\u001b[0;32m    790\u001b[0m         \u001b[1;32mif\u001b[0m \u001b[0mkind\u001b[0m \u001b[1;32min\u001b[0m \u001b[0mself\u001b[0m\u001b[1;33m.\u001b[0m\u001b[0m_dataframe_kinds\u001b[0m\u001b[1;33m:\u001b[0m\u001b[1;33m\u001b[0m\u001b[1;33m\u001b[0m\u001b[0m\n\u001b[0;32m    791\u001b[0m             \u001b[1;32mif\u001b[0m \u001b[0misinstance\u001b[0m\u001b[1;33m(\u001b[0m\u001b[0mdata\u001b[0m\u001b[1;33m,\u001b[0m \u001b[0mABCDataFrame\u001b[0m\u001b[1;33m)\u001b[0m\u001b[1;33m:\u001b[0m\u001b[1;33m\u001b[0m\u001b[1;33m\u001b[0m\u001b[0m\n\u001b[1;32m--> 792\u001b[1;33m                 \u001b[1;32mreturn\u001b[0m \u001b[0mplot_backend\u001b[0m\u001b[1;33m.\u001b[0m\u001b[0mplot\u001b[0m\u001b[1;33m(\u001b[0m\u001b[0mdata\u001b[0m\u001b[1;33m,\u001b[0m \u001b[0mx\u001b[0m\u001b[1;33m=\u001b[0m\u001b[0mx\u001b[0m\u001b[1;33m,\u001b[0m \u001b[0my\u001b[0m\u001b[1;33m=\u001b[0m\u001b[0my\u001b[0m\u001b[1;33m,\u001b[0m \u001b[0mkind\u001b[0m\u001b[1;33m=\u001b[0m\u001b[0mkind\u001b[0m\u001b[1;33m,\u001b[0m \u001b[1;33m**\u001b[0m\u001b[0mkwargs\u001b[0m\u001b[1;33m)\u001b[0m\u001b[1;33m\u001b[0m\u001b[1;33m\u001b[0m\u001b[0m\n\u001b[0m\u001b[0;32m    793\u001b[0m             \u001b[1;32melse\u001b[0m\u001b[1;33m:\u001b[0m\u001b[1;33m\u001b[0m\u001b[1;33m\u001b[0m\u001b[0m\n\u001b[0;32m    794\u001b[0m                 \u001b[1;32mraise\u001b[0m \u001b[0mValueError\u001b[0m\u001b[1;33m(\u001b[0m\u001b[1;34mf\"plot kind {kind} can only be used for data frames\"\u001b[0m\u001b[1;33m)\u001b[0m\u001b[1;33m\u001b[0m\u001b[1;33m\u001b[0m\u001b[0m\n",
      "\u001b[1;32mC:\\ProgramData\\Anaconda3\\lib\\site-packages\\pandas\\plotting\\_matplotlib\\__init__.py\u001b[0m in \u001b[0;36mplot\u001b[1;34m(data, kind, **kwargs)\u001b[0m\n\u001b[0;32m     59\u001b[0m             \u001b[0mkwargs\u001b[0m\u001b[1;33m[\u001b[0m\u001b[1;34m\"ax\"\u001b[0m\u001b[1;33m]\u001b[0m \u001b[1;33m=\u001b[0m \u001b[0mgetattr\u001b[0m\u001b[1;33m(\u001b[0m\u001b[0max\u001b[0m\u001b[1;33m,\u001b[0m \u001b[1;34m\"left_ax\"\u001b[0m\u001b[1;33m,\u001b[0m \u001b[0max\u001b[0m\u001b[1;33m)\u001b[0m\u001b[1;33m\u001b[0m\u001b[1;33m\u001b[0m\u001b[0m\n\u001b[0;32m     60\u001b[0m     \u001b[0mplot_obj\u001b[0m \u001b[1;33m=\u001b[0m \u001b[0mPLOT_CLASSES\u001b[0m\u001b[1;33m[\u001b[0m\u001b[0mkind\u001b[0m\u001b[1;33m]\u001b[0m\u001b[1;33m(\u001b[0m\u001b[0mdata\u001b[0m\u001b[1;33m,\u001b[0m \u001b[1;33m**\u001b[0m\u001b[0mkwargs\u001b[0m\u001b[1;33m)\u001b[0m\u001b[1;33m\u001b[0m\u001b[1;33m\u001b[0m\u001b[0m\n\u001b[1;32m---> 61\u001b[1;33m     \u001b[0mplot_obj\u001b[0m\u001b[1;33m.\u001b[0m\u001b[0mgenerate\u001b[0m\u001b[1;33m(\u001b[0m\u001b[1;33m)\u001b[0m\u001b[1;33m\u001b[0m\u001b[1;33m\u001b[0m\u001b[0m\n\u001b[0m\u001b[0;32m     62\u001b[0m     \u001b[0mplot_obj\u001b[0m\u001b[1;33m.\u001b[0m\u001b[0mdraw\u001b[0m\u001b[1;33m(\u001b[0m\u001b[1;33m)\u001b[0m\u001b[1;33m\u001b[0m\u001b[1;33m\u001b[0m\u001b[0m\n\u001b[0;32m     63\u001b[0m     \u001b[1;32mreturn\u001b[0m \u001b[0mplot_obj\u001b[0m\u001b[1;33m.\u001b[0m\u001b[0mresult\u001b[0m\u001b[1;33m\u001b[0m\u001b[1;33m\u001b[0m\u001b[0m\n",
      "\u001b[1;32mC:\\ProgramData\\Anaconda3\\lib\\site-packages\\pandas\\plotting\\_matplotlib\\core.py\u001b[0m in \u001b[0;36mgenerate\u001b[1;34m(self)\u001b[0m\n\u001b[0;32m    261\u001b[0m         \u001b[0mself\u001b[0m\u001b[1;33m.\u001b[0m\u001b[0m_compute_plot_data\u001b[0m\u001b[1;33m(\u001b[0m\u001b[1;33m)\u001b[0m\u001b[1;33m\u001b[0m\u001b[1;33m\u001b[0m\u001b[0m\n\u001b[0;32m    262\u001b[0m         \u001b[0mself\u001b[0m\u001b[1;33m.\u001b[0m\u001b[0m_setup_subplots\u001b[0m\u001b[1;33m(\u001b[0m\u001b[1;33m)\u001b[0m\u001b[1;33m\u001b[0m\u001b[1;33m\u001b[0m\u001b[0m\n\u001b[1;32m--> 263\u001b[1;33m         \u001b[0mself\u001b[0m\u001b[1;33m.\u001b[0m\u001b[0m_make_plot\u001b[0m\u001b[1;33m(\u001b[0m\u001b[1;33m)\u001b[0m\u001b[1;33m\u001b[0m\u001b[1;33m\u001b[0m\u001b[0m\n\u001b[0m\u001b[0;32m    264\u001b[0m         \u001b[0mself\u001b[0m\u001b[1;33m.\u001b[0m\u001b[0m_add_table\u001b[0m\u001b[1;33m(\u001b[0m\u001b[1;33m)\u001b[0m\u001b[1;33m\u001b[0m\u001b[1;33m\u001b[0m\u001b[0m\n\u001b[0;32m    265\u001b[0m         \u001b[0mself\u001b[0m\u001b[1;33m.\u001b[0m\u001b[0m_make_legend\u001b[0m\u001b[1;33m(\u001b[0m\u001b[1;33m)\u001b[0m\u001b[1;33m\u001b[0m\u001b[1;33m\u001b[0m\u001b[0m\n",
      "\u001b[1;32mC:\\ProgramData\\Anaconda3\\lib\\site-packages\\pandas\\plotting\\_matplotlib\\core.py\u001b[0m in \u001b[0;36m_make_plot\u001b[1;34m(self)\u001b[0m\n\u001b[0;32m    967\u001b[0m         \u001b[1;32melse\u001b[0m\u001b[1;33m:\u001b[0m\u001b[1;33m\u001b[0m\u001b[1;33m\u001b[0m\u001b[0m\n\u001b[0;32m    968\u001b[0m             \u001b[0mlabel\u001b[0m \u001b[1;33m=\u001b[0m \u001b[1;32mNone\u001b[0m\u001b[1;33m\u001b[0m\u001b[1;33m\u001b[0m\u001b[0m\n\u001b[1;32m--> 969\u001b[1;33m         scatter = ax.scatter(\n\u001b[0m\u001b[0;32m    970\u001b[0m             \u001b[0mdata\u001b[0m\u001b[1;33m[\u001b[0m\u001b[0mx\u001b[0m\u001b[1;33m]\u001b[0m\u001b[1;33m.\u001b[0m\u001b[0mvalues\u001b[0m\u001b[1;33m,\u001b[0m\u001b[1;33m\u001b[0m\u001b[1;33m\u001b[0m\u001b[0m\n\u001b[0;32m    971\u001b[0m             \u001b[0mdata\u001b[0m\u001b[1;33m[\u001b[0m\u001b[0my\u001b[0m\u001b[1;33m]\u001b[0m\u001b[1;33m.\u001b[0m\u001b[0mvalues\u001b[0m\u001b[1;33m,\u001b[0m\u001b[1;33m\u001b[0m\u001b[1;33m\u001b[0m\u001b[0m\n",
      "\u001b[1;32mC:\\ProgramData\\Anaconda3\\lib\\site-packages\\matplotlib\\__init__.py\u001b[0m in \u001b[0;36minner\u001b[1;34m(ax, data, *args, **kwargs)\u001b[0m\n\u001b[0;32m   1563\u001b[0m     \u001b[1;32mdef\u001b[0m \u001b[0minner\u001b[0m\u001b[1;33m(\u001b[0m\u001b[0max\u001b[0m\u001b[1;33m,\u001b[0m \u001b[1;33m*\u001b[0m\u001b[0margs\u001b[0m\u001b[1;33m,\u001b[0m \u001b[0mdata\u001b[0m\u001b[1;33m=\u001b[0m\u001b[1;32mNone\u001b[0m\u001b[1;33m,\u001b[0m \u001b[1;33m**\u001b[0m\u001b[0mkwargs\u001b[0m\u001b[1;33m)\u001b[0m\u001b[1;33m:\u001b[0m\u001b[1;33m\u001b[0m\u001b[1;33m\u001b[0m\u001b[0m\n\u001b[0;32m   1564\u001b[0m         \u001b[1;32mif\u001b[0m \u001b[0mdata\u001b[0m \u001b[1;32mis\u001b[0m \u001b[1;32mNone\u001b[0m\u001b[1;33m:\u001b[0m\u001b[1;33m\u001b[0m\u001b[1;33m\u001b[0m\u001b[0m\n\u001b[1;32m-> 1565\u001b[1;33m             \u001b[1;32mreturn\u001b[0m \u001b[0mfunc\u001b[0m\u001b[1;33m(\u001b[0m\u001b[0max\u001b[0m\u001b[1;33m,\u001b[0m \u001b[1;33m*\u001b[0m\u001b[0mmap\u001b[0m\u001b[1;33m(\u001b[0m\u001b[0msanitize_sequence\u001b[0m\u001b[1;33m,\u001b[0m \u001b[0margs\u001b[0m\u001b[1;33m)\u001b[0m\u001b[1;33m,\u001b[0m \u001b[1;33m**\u001b[0m\u001b[0mkwargs\u001b[0m\u001b[1;33m)\u001b[0m\u001b[1;33m\u001b[0m\u001b[1;33m\u001b[0m\u001b[0m\n\u001b[0m\u001b[0;32m   1566\u001b[0m \u001b[1;33m\u001b[0m\u001b[0m\n\u001b[0;32m   1567\u001b[0m         \u001b[0mbound\u001b[0m \u001b[1;33m=\u001b[0m \u001b[0mnew_sig\u001b[0m\u001b[1;33m.\u001b[0m\u001b[0mbind\u001b[0m\u001b[1;33m(\u001b[0m\u001b[0max\u001b[0m\u001b[1;33m,\u001b[0m \u001b[1;33m*\u001b[0m\u001b[0margs\u001b[0m\u001b[1;33m,\u001b[0m \u001b[1;33m**\u001b[0m\u001b[0mkwargs\u001b[0m\u001b[1;33m)\u001b[0m\u001b[1;33m\u001b[0m\u001b[1;33m\u001b[0m\u001b[0m\n",
      "\u001b[1;32mC:\\ProgramData\\Anaconda3\\lib\\site-packages\\matplotlib\\cbook\\deprecation.py\u001b[0m in \u001b[0;36mwrapper\u001b[1;34m(*args, **kwargs)\u001b[0m\n\u001b[0;32m    356\u001b[0m                 \u001b[1;34mf\"%(removal)s.  If any parameter follows {name!r}, they \"\u001b[0m\u001b[1;33m\u001b[0m\u001b[1;33m\u001b[0m\u001b[0m\n\u001b[0;32m    357\u001b[0m                 f\"should be pass as keyword, not positionally.\")\n\u001b[1;32m--> 358\u001b[1;33m         \u001b[1;32mreturn\u001b[0m \u001b[0mfunc\u001b[0m\u001b[1;33m(\u001b[0m\u001b[1;33m*\u001b[0m\u001b[0margs\u001b[0m\u001b[1;33m,\u001b[0m \u001b[1;33m**\u001b[0m\u001b[0mkwargs\u001b[0m\u001b[1;33m)\u001b[0m\u001b[1;33m\u001b[0m\u001b[1;33m\u001b[0m\u001b[0m\n\u001b[0m\u001b[0;32m    359\u001b[0m \u001b[1;33m\u001b[0m\u001b[0m\n\u001b[0;32m    360\u001b[0m     \u001b[1;32mreturn\u001b[0m \u001b[0mwrapper\u001b[0m\u001b[1;33m\u001b[0m\u001b[1;33m\u001b[0m\u001b[0m\n",
      "\u001b[1;32mC:\\ProgramData\\Anaconda3\\lib\\site-packages\\matplotlib\\axes\\_axes.py\u001b[0m in \u001b[0;36mscatter\u001b[1;34m(self, x, y, s, c, marker, cmap, norm, vmin, vmax, alpha, linewidths, verts, edgecolors, plotnonfinite, **kwargs)\u001b[0m\n\u001b[0;32m   4389\u001b[0m         \u001b[0my\u001b[0m \u001b[1;33m=\u001b[0m \u001b[0mnp\u001b[0m\u001b[1;33m.\u001b[0m\u001b[0mma\u001b[0m\u001b[1;33m.\u001b[0m\u001b[0mravel\u001b[0m\u001b[1;33m(\u001b[0m\u001b[0my\u001b[0m\u001b[1;33m)\u001b[0m\u001b[1;33m\u001b[0m\u001b[1;33m\u001b[0m\u001b[0m\n\u001b[0;32m   4390\u001b[0m         \u001b[1;32mif\u001b[0m \u001b[0mx\u001b[0m\u001b[1;33m.\u001b[0m\u001b[0msize\u001b[0m \u001b[1;33m!=\u001b[0m \u001b[0my\u001b[0m\u001b[1;33m.\u001b[0m\u001b[0msize\u001b[0m\u001b[1;33m:\u001b[0m\u001b[1;33m\u001b[0m\u001b[1;33m\u001b[0m\u001b[0m\n\u001b[1;32m-> 4391\u001b[1;33m             \u001b[1;32mraise\u001b[0m \u001b[0mValueError\u001b[0m\u001b[1;33m(\u001b[0m\u001b[1;34m\"x and y must be the same size\"\u001b[0m\u001b[1;33m)\u001b[0m\u001b[1;33m\u001b[0m\u001b[1;33m\u001b[0m\u001b[0m\n\u001b[0m\u001b[0;32m   4392\u001b[0m \u001b[1;33m\u001b[0m\u001b[0m\n\u001b[0;32m   4393\u001b[0m         \u001b[1;32mif\u001b[0m \u001b[0ms\u001b[0m \u001b[1;32mis\u001b[0m \u001b[1;32mNone\u001b[0m\u001b[1;33m:\u001b[0m\u001b[1;33m\u001b[0m\u001b[1;33m\u001b[0m\u001b[0m\n",
      "\u001b[1;31mValueError\u001b[0m: x and y must be the same size"
     ]
    },
    {
     "data": {
      "image/png": "[encoded data removed]",
      "text/plain": [
       "<Figure size 432x288 with 1 Axes>"
      ]
     },
     "metadata": {},
     "output_type": "display_data"
    }
   ],
   "source": [
    "\n"
   ]
  },
  {
   "cell_type": "code",
   "execution_count": 47,
   "metadata": {},
   "outputs": [
    {
     "ename": "SyntaxError",
     "evalue": "invalid syntax (<ipython-input-47-55a21720ae39>, line 6)",
     "output_type": "error",
     "traceback": [
      "\u001b[1;36m  File \u001b[1;32m\"<ipython-input-47-55a21720ae39>\"\u001b[1;36m, line \u001b[1;32m6\u001b[0m\n\u001b[1;33m    z=np.abs(stats.zscore(numeric_hr.,x))\u001b[0m\n\u001b[1;37m                                     ^\u001b[0m\n\u001b[1;31mSyntaxError\u001b[0m\u001b[1;31m:\u001b[0m invalid syntax\n"
     ]
    }
   ],
   "source": [
    "from scipy import stats\n",
    "\n",
    "for x in numeric_hr:\n",
    "    #print ('Colunm Name : ', x , Winsorization_outliers(numeric_hr[x]))\n",
    "    print('Colunm Name : ', x)\n",
    "    z=np.abs(stats.zscore(numeric_hr.))\n",
    "\n",
    "threshold=3\n",
    "\n",
    "print(np.where(z>3))"
   ]
  },
  {
   "cell_type": "code",
   "execution_count": 56,
   "metadata": {},
   "outputs": [
    {
     "data": {
      "text/plain": [
       "0       2\n",
       "1       1\n",
       "2       2\n",
       "3       1\n",
       "4       1\n",
       "       ..\n",
       "1465    1\n",
       "1466    1\n",
       "1467    1\n",
       "1468    1\n",
       "1469    1\n",
       "Name: MaritalStatus, Length: 1470, dtype: int8"
      ]
     },
     "execution_count": 56,
     "metadata": {},
     "output_type": "execute_result"
    }
   ],
   "source": [
    "numeric_hr['MaritalStatus']"
   ]
  },
  {
   "cell_type": "code",
   "execution_count": 37,
   "metadata": {},
   "outputs": [
    {
     "name": "stdout",
     "output_type": "stream",
     "text": [
      "Colunm Name :  Age\n",
      "Column Contents :  [41. 49. 37. ... 27. 49. 34.]\n",
      "Colunm Name :  BusinessTravel\n",
      "Column Contents :  [2 1 2 ... 2 1 2]\n",
      "Colunm Name :  DailyRate\n",
      "Column Contents :  [1102  279 1373 ...  155 1023  628]\n",
      "Colunm Name :  Department\n",
      "Column Contents :  [2 1 1 ... 1 2 1]\n",
      "Colunm Name :  DistanceFromHome\n",
      "Column Contents :  [1. 8. 2. ... 4. 2. 8.]\n",
      "Colunm Name :  Education\n",
      "Column Contents :  [2 1 2 ... 3 3 3]\n",
      "Colunm Name :  EducationField\n",
      "Column Contents :  [1 1 4 ... 1 3 3]\n",
      "Colunm Name :  EmployeeCount\n",
      "Column Contents :  [1 1 1 ... 1 1 1]\n",
      "Colunm Name :  EnvironmentSatisfaction\n",
      "Column Contents :  [2. 3. 4. ... 2. 4. 2.]\n",
      "Colunm Name :  Gender\n",
      "Column Contents :  [0 1 1 ... 1 1 1]\n",
      "Colunm Name :  HourlyRate\n",
      "Column Contents :  [94 61 92 ... 87 63 82]\n",
      "Colunm Name :  JobInvolvement\n",
      "Column Contents :  [3. 2. 2. ... 4. 2. 4.]\n",
      "Colunm Name :  JobLevel\n",
      "Column Contents :  [2. 2. 1. ... 2. 2. 2.]\n",
      "Colunm Name :  JobRole\n",
      "Column Contents :  [7 6 2 ... 4 7 2]\n",
      "Colunm Name :  JobSatisfaction\n",
      "Column Contents :  [4. 2. 3. ... 2. 2. 3.]\n",
      "Colunm Name :  MaritalStatus\n",
      "Column Contents :  [2 1 2 ... 1 1 1]\n",
      "Colunm Name :  MonthlyIncome\n",
      "Column Contents :  [5993 5130 2090 ... 6142 5390 4404]\n",
      "Colunm Name :  MonthlyRate\n",
      "Column Contents :  [19479 24907  2396 ...  5174 13243 10228]\n",
      "Colunm Name :  NumCompaniesWorked\n",
      "Column Contents :  [8 1 6 ... 1 2 2]\n",
      "Colunm Name :  OverTime\n",
      "Column Contents :  [1 0 1 ... 1 0 0]\n",
      "Colunm Name :  PercentSalaryHike\n",
      "Column Contents :  [11 23 15 ... 20 14 12]\n",
      "Colunm Name :  PerformanceRating\n",
      "Column Contents :  [3 4 3 ... 4 3 3]\n",
      "Colunm Name :  RelationshipSatisfaction\n",
      "Column Contents :  [1. 4. 2. ... 2. 4. 1.]\n",
      "Colunm Name :  StandardHours\n",
      "Column Contents :  [80 80 80 ... 80 80 80]\n",
      "Colunm Name :  StockOptionLevel\n",
      "Column Contents :  [0. 1. 0. ... 1. 0. 0.]\n",
      "Colunm Name :  TotalWorkingYears\n",
      "Column Contents :  [ 8 10  7 ...  6 17  6]\n",
      "Colunm Name :  TrainingTimesLastYear\n",
      "Column Contents :  [0. 3. 3. ... 0. 3. 3.]\n",
      "Colunm Name :  WorkLifeBalance\n",
      "Column Contents :  [1 3 3 ... 3 2 4]\n",
      "Colunm Name :  YearsAtCompany\n",
      "Column Contents :  [ 6 10  0 ...  6  9  4]\n",
      "Colunm Name :  YearsInCurrentRole\n",
      "Column Contents :  [4 7 0 ... 2 6 3]\n",
      "Colunm Name :  YearsSinceLastPromotion\n",
      "Column Contents :  [0 1 0 ... 0 0 1]\n",
      "Colunm Name :  YearsWithCurrManager\n",
      "Column Contents :  [5 7 0 ... 3 8 2]\n",
      "Colunm Name :  Attrition_ind\n",
      "Column Contents :  [1 0 1 ... 0 0 0]\n"
     ]
    }
   ],
   "source": [
    "for column in numeric_hr:\n",
    "   # Select column contents by column name using [] operator\n",
    "   columnSeriesObj = numeric_hr[column]\n",
    "   print('Colunm Name : ', column)\n",
    "   print('Column Contents : ', columnSeriesObj.values)"
   ]
  },
  {
   "cell_type": "markdown",
   "metadata": {},
   "source": [
    "***\n",
    "#### Observaciones: \n",
    "\n",
    "- TotalWorkingYears tiene fuerte correlación con Job Level( es decir, cuanto más trabajas, más alto nivel de trabajo alcanzas)\n",
    "- HourlyRate, DailyRate y MonthlyRate no están correlacionados entre sí, lo que no tiene sentido. \n",
    "- MonthlyIncome está altamente correlacionado con el nivel de trabajo.\n",
    "- La edad está correlacionada con el nivel de trabajo y la educación (es decir, cuanto mayor es, más educado y exitoso es)\n",
    "- El equilibrio entre la vida laboral y personal se correlaciona prácticamente con ninguno de los valores numéricos\n",
    "- La cantidad de empresas en las que ha trabajado tiene una correlación débil con el tiempo que ha pasado en la empresa (podría indicar que es probable que se vaya)\n",
    "- Si tu calificación de desempeño es alta, obtendrás un aumento mayor\n",
    "***\n"
   ]
  },
  {
   "cell_type": "code",
   "execution_count": null,
   "metadata": {},
   "outputs": [],
   "source": [
    "numeric_hr.describe()"
   ]
  },
  {
   "cell_type": "markdown",
   "metadata": {},
   "source": [
    "#### Ahora podemos encontrar la siguiente informacion.\n",
    "\n",
    "     La edad media de los empleados de es 37.\n",
    "     La mayoría de las personas obtienen una promoción en 2-5 años.\n",
    "     El tiempo promedio empleado en es de 7 años.\n",
    "     Nadie tiene una calificación de desempeño inferior a 3.\n",
    "     Muchos entrenamientos: parece que la mayoría de la gente recibe entrenamiento 2-3 veces al año.\n",
    "    "
   ]
  },
  {
   "cell_type": "markdown",
   "metadata": {},
   "source": [
    " ### Conclusion:\n",
    " ***\n",
    " \n",
    " Así que todo el mundo se está desempeñando bien, se está capacitando y permanece en su trabajo durante bastante tiempo. \n",
    " \n",
    " ***\n",
    " ### Problema a resolver:\n",
    " \n",
    " ¿Cual modelo debemos usar?  \n",
    " ¿Predecir quienes van a renunciar y que factores lo determinan?\n",
    " todos los datos sean numericos\n",
    " mas estadisticas\n",
    " podria ser de regresion\n",
    " datos atipicos\n",
    " \n",
    " ***"
   ]
  },
  {
   "cell_type": "code",
   "execution_count": null,
   "metadata": {
    "execution": {
     "iopub.execute_input": "2021-03-23T01:59:13.761555Z",
     "iopub.status.busy": "2021-03-23T01:59:13.760859Z",
     "iopub.status.idle": "2021-03-23T01:59:13.763976Z",
     "shell.execute_reply": "2021-03-23T01:59:13.764354Z"
    },
    "papermill": {
     "duration": 0.052495,
     "end_time": "2021-03-23T01:59:13.764467",
     "exception": false,
     "start_time": "2021-03-23T01:59:13.711972",
     "status": "completed"
    },
    "tags": []
   },
   "outputs": [],
   "source": [
    "#6.\tNow, Create X and y from the original data-frame\n",
    "#Variable principal\n",
    "y=ibm.loc[:, \"Attrition_ind\"]\n",
    "y"
   ]
  },
  {
   "cell_type": "code",
   "execution_count": null,
   "metadata": {
    "execution": {
     "iopub.execute_input": "2021-03-23T01:59:13.865238Z",
     "iopub.status.busy": "2021-03-23T01:59:13.864376Z",
     "iopub.status.idle": "2021-03-23T01:59:13.890875Z",
     "shell.execute_reply": "2021-03-23T01:59:13.891333Z"
    },
    "papermill": {
     "duration": 0.086159,
     "end_time": "2021-03-23T01:59:13.891445",
     "exception": false,
     "start_time": "2021-03-23T01:59:13.805286",
     "status": "completed"
    },
    "tags": []
   },
   "outputs": [],
   "source": [
    "#6.\tNow, Create X and y from the original data-frame\n",
    "#Resto de los datos\n",
    "X= ibm.loc[:,ibm.columns!='Attrition_ind']\n",
    "X"
   ]
  },
  {
   "cell_type": "code",
   "execution_count": null,
   "metadata": {
    "execution": {
     "iopub.execute_input": "2021-03-23T01:59:13.983307Z",
     "iopub.status.busy": "2021-03-23T01:59:13.982495Z",
     "iopub.status.idle": "2021-03-23T01:59:13.985525Z",
     "shell.execute_reply": "2021-03-23T01:59:13.985101Z"
    },
    "papermill": {
     "duration": 0.052056,
     "end_time": "2021-03-23T01:59:13.985617",
     "exception": false,
     "start_time": "2021-03-23T01:59:13.933561",
     "status": "completed"
    },
    "tags": []
   },
   "outputs": [],
   "source": [
    "from sklearn.model_selection import train_test_split\n",
    "import pandas as pd\n",
    "import numpy as np\n",
    "import matplotlib.pyplot as plt\n",
    "%matplotlib inline"
   ]
  },
  {
   "cell_type": "code",
   "execution_count": null,
   "metadata": {
    "execution": {
     "iopub.execute_input": "2021-03-23T01:59:14.076451Z",
     "iopub.status.busy": "2021-03-23T01:59:14.075629Z",
     "iopub.status.idle": "2021-03-23T01:59:14.078492Z",
     "shell.execute_reply": "2021-03-23T01:59:14.078077Z"
    },
    "papermill": {
     "duration": 0.051048,
     "end_time": "2021-03-23T01:59:14.078583",
     "exception": false,
     "start_time": "2021-03-23T01:59:14.027535",
     "status": "completed"
    },
    "tags": []
   },
   "outputs": [],
   "source": [
    "#7.\tApply train-test split (preferably 80:20).\n",
    "X_train, X_test, y_train, y_test = train_test_split(X, y, test_size = 0.2, random_state = 122)"
   ]
  },
  {
   "cell_type": "code",
   "execution_count": null,
   "metadata": {
    "execution": {
     "iopub.execute_input": "2021-03-23T01:59:14.168800Z",
     "iopub.status.busy": "2021-03-23T01:59:14.168075Z",
     "iopub.status.idle": "2021-03-23T01:59:14.171213Z",
     "shell.execute_reply": "2021-03-23T01:59:14.171588Z"
    },
    "papermill": {
     "duration": 0.051245,
     "end_time": "2021-03-23T01:59:14.171696",
     "exception": false,
     "start_time": "2021-03-23T01:59:14.120451",
     "status": "completed"
    },
    "tags": []
   },
   "outputs": [],
   "source": [
    "ibm['Attrition'].value_counts()"
   ]
  },
  {
   "cell_type": "code",
   "execution_count": null,
   "metadata": {
    "execution": {
     "iopub.execute_input": "2021-03-23T01:59:14.262823Z",
     "iopub.status.busy": "2021-03-23T01:59:14.262104Z",
     "iopub.status.idle": "2021-03-23T01:59:14.265140Z",
     "shell.execute_reply": "2021-03-23T01:59:14.265548Z"
    },
    "papermill": {
     "duration": 0.052238,
     "end_time": "2021-03-23T01:59:14.265661",
     "exception": false,
     "start_time": "2021-03-23T01:59:14.213423",
     "status": "completed"
    },
    "tags": []
   },
   "outputs": [],
   "source": [
    "#8.\tObserve the target variable proportion of the target.\n",
    "ibm['Attrition'].value_counts()/len(ibm)*100"
   ]
  },
  {
   "cell_type": "code",
   "execution_count": null,
   "metadata": {
    "execution": {
     "iopub.execute_input": "2021-03-23T01:59:14.356894Z",
     "iopub.status.busy": "2021-03-23T01:59:14.356078Z",
     "iopub.status.idle": "2021-03-23T01:59:14.359903Z",
     "shell.execute_reply": "2021-03-23T01:59:14.360511Z"
    },
    "papermill": {
     "duration": 0.052601,
     "end_time": "2021-03-23T01:59:14.360663",
     "exception": false,
     "start_time": "2021-03-23T01:59:14.308062",
     "status": "completed"
    },
    "tags": []
   },
   "outputs": [],
   "source": [
    "#Observe the target variable proportion of the target.\n",
    "print(X_train.shape)\n",
    "print(X_test.shape)\n",
    "print(y_train.shape)\n",
    "print(y_test.shape)"
   ]
  },
  {
   "cell_type": "code",
   "execution_count": null,
   "metadata": {
    "execution": {
     "iopub.execute_input": "2021-03-23T01:59:14.451930Z",
     "iopub.status.busy": "2021-03-23T01:59:14.451116Z",
     "iopub.status.idle": "2021-03-23T01:59:14.456991Z",
     "shell.execute_reply": "2021-03-23T01:59:14.456536Z"
    },
    "papermill": {
     "duration": 0.052195,
     "end_time": "2021-03-23T01:59:14.457077",
     "exception": false,
     "start_time": "2021-03-23T01:59:14.404882",
     "status": "completed"
    },
    "tags": []
   },
   "outputs": [],
   "source": [
    "X_train.shape[1]"
   ]
  },
  {
   "cell_type": "code",
   "execution_count": null,
   "metadata": {
    "execution": {
     "iopub.execute_input": "2021-03-23T01:59:14.554460Z",
     "iopub.status.busy": "2021-03-23T01:59:14.553676Z",
     "iopub.status.idle": "2021-03-23T01:59:14.557501Z",
     "shell.execute_reply": "2021-03-23T01:59:14.557018Z"
    },
    "papermill": {
     "duration": 0.05601,
     "end_time": "2021-03-23T01:59:14.557595",
     "exception": false,
     "start_time": "2021-03-23T01:59:14.501585",
     "status": "completed"
    },
    "tags": []
   },
   "outputs": [],
   "source": [
    "y_train.value_counts()"
   ]
  },
  {
   "cell_type": "code",
   "execution_count": null,
   "metadata": {
    "execution": {
     "iopub.execute_input": "2021-03-23T01:59:14.659231Z",
     "iopub.status.busy": "2021-03-23T01:59:14.658440Z",
     "iopub.status.idle": "2021-03-23T01:59:14.662131Z",
     "shell.execute_reply": "2021-03-23T01:59:14.661665Z"
    },
    "papermill": {
     "duration": 0.057383,
     "end_time": "2021-03-23T01:59:14.662231",
     "exception": false,
     "start_time": "2021-03-23T01:59:14.604848",
     "status": "completed"
    },
    "tags": []
   },
   "outputs": [],
   "source": [
    "#similar for above code\n",
    "ibm['Attrition'].value_counts() / ibm.shape[0] * 100"
   ]
  },
  {
   "cell_type": "code",
   "execution_count": null,
   "metadata": {
    "execution": {
     "iopub.execute_input": "2021-03-23T01:59:14.810040Z",
     "iopub.status.busy": "2021-03-23T01:59:14.808477Z",
     "iopub.status.idle": "2021-03-23T01:59:14.816365Z",
     "shell.execute_reply": "2021-03-23T01:59:14.817612Z"
    },
    "papermill": {
     "duration": 0.101148,
     "end_time": "2021-03-23T01:59:14.817882",
     "exception": false,
     "start_time": "2021-03-23T01:59:14.716734",
     "status": "completed"
    },
    "tags": []
   },
   "outputs": [],
   "source": [
    "print(y_train.value_counts()/X_train.shape[0])"
   ]
  },
  {
   "cell_type": "code",
   "execution_count": null,
   "metadata": {
    "execution": {
     "iopub.execute_input": "2021-03-23T01:59:14.971646Z",
     "iopub.status.busy": "2021-03-23T01:59:14.970814Z",
     "iopub.status.idle": "2021-03-23T01:59:14.976966Z",
     "shell.execute_reply": "2021-03-23T01:59:14.977610Z"
    },
    "papermill": {
     "duration": 0.085192,
     "end_time": "2021-03-23T01:59:14.977782",
     "exception": false,
     "start_time": "2021-03-23T01:59:14.892590",
     "status": "completed"
    },
    "tags": []
   },
   "outputs": [],
   "source": [
    "print(y_test.value_counts()/X_test.shape[0])"
   ]
  },
  {
   "cell_type": "code",
   "execution_count": null,
   "metadata": {
    "execution": {
     "iopub.execute_input": "2021-03-23T01:59:15.134312Z",
     "iopub.status.busy": "2021-03-23T01:59:15.132860Z",
     "iopub.status.idle": "2021-03-23T01:59:15.136371Z",
     "shell.execute_reply": "2021-03-23T01:59:15.133568Z"
    },
    "papermill": {
     "duration": 0.084439,
     "end_time": "2021-03-23T01:59:15.136500",
     "exception": false,
     "start_time": "2021-03-23T01:59:15.052061",
     "status": "completed"
    },
    "tags": []
   },
   "outputs": [],
   "source": [
    "len(ibm)"
   ]
  },
  {
   "cell_type": "code",
   "execution_count": null,
   "metadata": {
    "execution": {
     "iopub.execute_input": "2021-03-23T01:59:15.292934Z",
     "iopub.status.busy": "2021-03-23T01:59:15.292031Z",
     "iopub.status.idle": "2021-03-23T01:59:15.294326Z",
     "shell.execute_reply": "2021-03-23T01:59:15.293661Z"
    },
    "papermill": {
     "duration": 0.086758,
     "end_time": "2021-03-23T01:59:15.294447",
     "exception": false,
     "start_time": "2021-03-23T01:59:15.207689",
     "status": "completed"
    },
    "tags": []
   },
   "outputs": [],
   "source": [
    "# 9.Now, check the null values in train and test. See if all of them are Categorical or from Numeric datatypes."
   ]
  },
  {
   "cell_type": "code",
   "execution_count": null,
   "metadata": {
    "execution": {
     "iopub.execute_input": "2021-03-23T01:59:15.457694Z",
     "iopub.status.busy": "2021-03-23T01:59:15.456921Z",
     "iopub.status.idle": "2021-03-23T01:59:15.463300Z",
     "shell.execute_reply": "2021-03-23T01:59:15.464282Z"
    },
    "papermill": {
     "duration": 0.094329,
     "end_time": "2021-03-23T01:59:15.464435",
     "exception": false,
     "start_time": "2021-03-23T01:59:15.370106",
     "status": "completed"
    },
    "tags": []
   },
   "outputs": [],
   "source": [
    "ibm.isnull().sum()"
   ]
  },
  {
   "cell_type": "code",
   "execution_count": null,
   "metadata": {
    "execution": {
     "iopub.execute_input": "2021-03-23T01:59:15.626689Z",
     "iopub.status.busy": "2021-03-23T01:59:15.625815Z",
     "iopub.status.idle": "2021-03-23T01:59:15.629335Z",
     "shell.execute_reply": "2021-03-23T01:59:15.627416Z"
    },
    "papermill": {
     "duration": 0.087743,
     "end_time": "2021-03-23T01:59:15.629456",
     "exception": false,
     "start_time": "2021-03-23T01:59:15.541713",
     "status": "completed"
    },
    "tags": []
   },
   "outputs": [],
   "source": [
    "#10.On the train, Separate the dataframe into numeric and categorical separately.\n",
    "num_cols"
   ]
  },
  {
   "cell_type": "code",
   "execution_count": null,
   "metadata": {
    "execution": {
     "iopub.execute_input": "2021-03-23T01:59:15.792882Z",
     "iopub.status.busy": "2021-03-23T01:59:15.791990Z",
     "iopub.status.idle": "2021-03-23T01:59:15.795511Z",
     "shell.execute_reply": "2021-03-23T01:59:15.793598Z"
    },
    "papermill": {
     "duration": 0.08935,
     "end_time": "2021-03-23T01:59:15.795630",
     "exception": false,
     "start_time": "2021-03-23T01:59:15.706280",
     "status": "completed"
    },
    "tags": []
   },
   "outputs": [],
   "source": [
    "cat_cols"
   ]
  },
  {
   "cell_type": "code",
   "execution_count": null,
   "metadata": {
    "execution": {
     "iopub.execute_input": "2021-03-23T01:59:15.997068Z",
     "iopub.status.busy": "2021-03-23T01:59:15.996023Z",
     "iopub.status.idle": "2021-03-23T01:59:16.000035Z",
     "shell.execute_reply": "2021-03-23T01:59:15.997876Z"
    },
    "papermill": {
     "duration": 0.100007,
     "end_time": "2021-03-23T01:59:16.000178",
     "exception": false,
     "start_time": "2021-03-23T01:59:15.900171",
     "status": "completed"
    },
    "tags": []
   },
   "outputs": [],
   "source": [
    "ibm.columns"
   ]
  },
  {
   "cell_type": "code",
   "execution_count": null,
   "metadata": {
    "execution": {
     "iopub.execute_input": "2021-03-23T01:59:16.167483Z",
     "iopub.status.busy": "2021-03-23T01:59:16.166480Z",
     "iopub.status.idle": "2021-03-23T01:59:16.168945Z",
     "shell.execute_reply": "2021-03-23T01:59:16.168249Z"
    },
    "papermill": {
     "duration": 0.086195,
     "end_time": "2021-03-23T01:59:16.169073",
     "exception": false,
     "start_time": "2021-03-23T01:59:16.082878",
     "status": "completed"
    },
    "tags": []
   },
   "outputs": [],
   "source": [
    "#11.Use Imputer function from sklearn to impute all the null values. (Seperately for Numeric and Categorical datatypes)."
   ]
  },
  {
   "cell_type": "code",
   "execution_count": null,
   "metadata": {
    "execution": {
     "iopub.execute_input": "2021-03-23T01:59:16.340856Z",
     "iopub.status.busy": "2021-03-23T01:59:16.340045Z",
     "iopub.status.idle": "2021-03-23T01:59:16.435032Z",
     "shell.execute_reply": "2021-03-23T01:59:16.436278Z"
    },
    "papermill": {
     "duration": 0.190409,
     "end_time": "2021-03-23T01:59:16.436461",
     "exception": false,
     "start_time": "2021-03-23T01:59:16.246052",
     "status": "completed"
    },
    "tags": []
   },
   "outputs": [],
   "source": [
    "ibm.describe()"
   ]
  },
  {
   "cell_type": "code",
   "execution_count": null,
   "metadata": {
    "execution": {
     "iopub.execute_input": "2021-03-23T01:59:16.610165Z",
     "iopub.status.busy": "2021-03-23T01:59:16.609313Z",
     "iopub.status.idle": "2021-03-23T01:59:16.611618Z",
     "shell.execute_reply": "2021-03-23T01:59:16.610965Z"
    },
    "papermill": {
     "duration": 0.084355,
     "end_time": "2021-03-23T01:59:16.611727",
     "exception": false,
     "start_time": "2021-03-23T01:59:16.527372",
     "status": "completed"
    },
    "tags": []
   },
   "outputs": [],
   "source": [
    "import warnings\n",
    "warnings.filterwarnings(\"ignore\")"
   ]
  },
  {
   "cell_type": "code",
   "execution_count": null,
   "metadata": {
    "execution": {
     "iopub.execute_input": "2021-03-23T01:59:16.764591Z",
     "iopub.status.busy": "2021-03-23T01:59:16.763724Z",
     "iopub.status.idle": "2021-03-23T01:59:16.766707Z",
     "shell.execute_reply": "2021-03-23T01:59:16.765988Z"
    },
    "papermill": {
     "duration": 0.082638,
     "end_time": "2021-03-23T01:59:16.766829",
     "exception": false,
     "start_time": "2021-03-23T01:59:16.684191",
     "status": "completed"
    },
    "tags": []
   },
   "outputs": [],
   "source": [
    "linear_svm = SVC(kernel='linear', C=1, random_state=0)"
   ]
  },
  {
   "cell_type": "code",
   "execution_count": null,
   "metadata": {
    "execution": {
     "iopub.execute_input": "2021-03-23T01:59:16.917341Z",
     "iopub.status.busy": "2021-03-23T01:59:16.916627Z",
     "iopub.status.idle": "2021-03-23T01:59:16.927675Z",
     "shell.execute_reply": "2021-03-23T01:59:16.928613Z"
    },
    "papermill": {
     "duration": 0.096648,
     "end_time": "2021-03-23T01:59:16.928756",
     "exception": false,
     "start_time": "2021-03-23T01:59:16.832108",
     "status": "completed"
    },
    "tags": []
   },
   "outputs": [],
   "source": [
    "cat_cols = pd.get_dummies(cat_cols)\n",
    "cat_cols.head()"
   ]
  },
  {
   "cell_type": "code",
   "execution_count": null,
   "metadata": {
    "execution": {
     "iopub.execute_input": "2021-03-23T01:59:17.110744Z",
     "iopub.status.busy": "2021-03-23T01:59:17.109798Z",
     "iopub.status.idle": "2021-03-23T01:59:17.137230Z",
     "shell.execute_reply": "2021-03-23T01:59:17.137645Z"
    },
    "papermill": {
     "duration": 0.126514,
     "end_time": "2021-03-23T01:59:17.137798",
     "exception": false,
     "start_time": "2021-03-23T01:59:17.011284",
     "status": "completed"
    },
    "tags": []
   },
   "outputs": [],
   "source": [
    "ibm.head()"
   ]
  },
  {
   "cell_type": "code",
   "execution_count": null,
   "metadata": {
    "execution": {
     "iopub.execute_input": "2021-03-23T01:59:17.250857Z",
     "iopub.status.busy": "2021-03-23T01:59:17.249569Z",
     "iopub.status.idle": "2021-03-23T01:59:17.317952Z",
     "shell.execute_reply": "2021-03-23T01:59:17.318388Z"
    },
    "papermill": {
     "duration": 0.128188,
     "end_time": "2021-03-23T01:59:17.318505",
     "exception": false,
     "start_time": "2021-03-23T01:59:17.190317",
     "status": "completed"
    },
    "tags": []
   },
   "outputs": [],
   "source": [
    "ibm.describe()"
   ]
  },
  {
   "cell_type": "code",
   "execution_count": null,
   "metadata": {
    "execution": {
     "iopub.execute_input": "2021-03-23T01:59:17.430475Z",
     "iopub.status.busy": "2021-03-23T01:59:17.429607Z",
     "iopub.status.idle": "2021-03-23T01:59:17.432971Z",
     "shell.execute_reply": "2021-03-23T01:59:17.433428Z"
    },
    "papermill": {
     "duration": 0.06045,
     "end_time": "2021-03-23T01:59:17.433533",
     "exception": false,
     "start_time": "2021-03-23T01:59:17.373083",
     "status": "completed"
    },
    "tags": []
   },
   "outputs": [],
   "source": [
    "ibm.columns"
   ]
  },
  {
   "cell_type": "code",
   "execution_count": null,
   "metadata": {
    "execution": {
     "iopub.execute_input": "2021-03-23T01:59:17.558812Z",
     "iopub.status.busy": "2021-03-23T01:59:17.557868Z",
     "iopub.status.idle": "2021-03-23T01:59:17.561408Z",
     "shell.execute_reply": "2021-03-23T01:59:17.561802Z"
    },
    "papermill": {
     "duration": 0.075812,
     "end_time": "2021-03-23T01:59:17.561929",
     "exception": false,
     "start_time": "2021-03-23T01:59:17.486117",
     "status": "completed"
    },
    "tags": []
   },
   "outputs": [],
   "source": [
    "ibm.head()"
   ]
  },
  {
   "cell_type": "code",
   "execution_count": null,
   "metadata": {},
   "outputs": [],
   "source": [
    "#Caracterizticas"
   ]
  },
  {
   "cell_type": "code",
   "execution_count": null,
   "metadata": {
    "execution": {
     "iopub.execute_input": "2021-03-23T01:59:17.676533Z",
     "iopub.status.busy": "2021-03-23T01:59:17.675715Z",
     "iopub.status.idle": "2021-03-23T01:59:17.689492Z",
     "shell.execute_reply": "2021-03-23T01:59:17.689946Z"
    },
    "papermill": {
     "duration": 0.075052,
     "end_time": "2021-03-23T01:59:17.690083",
     "exception": false,
     "start_time": "2021-03-23T01:59:17.615031",
     "status": "completed"
    },
    "tags": []
   },
   "outputs": [],
   "source": [
    "# One Hot Encoding\n",
    "#La función get_dummies permite eliminar la primera de las columnas generadas \n",
    "#para cada característica codificada para evitar la denominada colinealidad \n",
    "#(que una de las características sea una combinación lineal de las otras), \n",
    "#lo que dificulta el correcto funcionamiento de los algoritmos. \n",
    "#Para ello disponemos del argumento drop_first.\n",
    "ibm = pd.get_dummies(ibm)\n",
    "ibm.columns"
   ]
  },
  {
   "cell_type": "code",
   "execution_count": null,
   "metadata": {
    "execution": {
     "iopub.execute_input": "2021-03-23T01:59:17.805617Z",
     "iopub.status.busy": "2021-03-23T01:59:17.804600Z",
     "iopub.status.idle": "2021-03-23T01:59:17.821709Z",
     "shell.execute_reply": "2021-03-23T01:59:17.822153Z"
    },
    "papermill": {
     "duration": 0.077817,
     "end_time": "2021-03-23T01:59:17.822267",
     "exception": false,
     "start_time": "2021-03-23T01:59:17.744450",
     "status": "completed"
    },
    "tags": []
   },
   "outputs": [],
   "source": [
    "data_main=ibm.drop(['EmployeeCount','Over18_Y','StandardHours','Attrition_No', 'Attrition_Yes'],axis=1)\n",
    "data_main.head()"
   ]
  },
  {
   "cell_type": "code",
   "execution_count": null,
   "metadata": {
    "execution": {
     "iopub.execute_input": "2021-03-23T01:59:17.939701Z",
     "iopub.status.busy": "2021-03-23T01:59:17.938860Z",
     "iopub.status.idle": "2021-03-23T01:59:17.942115Z",
     "shell.execute_reply": "2021-03-23T01:59:17.942528Z"
    },
    "papermill": {
     "duration": 0.064725,
     "end_time": "2021-03-23T01:59:17.942636",
     "exception": false,
     "start_time": "2021-03-23T01:59:17.877911",
     "status": "completed"
    },
    "tags": []
   },
   "outputs": [],
   "source": [
    "data_main.columns"
   ]
  },
  {
   "cell_type": "code",
   "execution_count": null,
   "metadata": {
    "execution": {
     "iopub.execute_input": "2021-03-23T01:59:18.061241Z",
     "iopub.status.busy": "2021-03-23T01:59:18.060367Z",
     "iopub.status.idle": "2021-03-23T01:59:18.075272Z",
     "shell.execute_reply": "2021-03-23T01:59:18.074865Z"
    },
    "papermill": {
     "duration": 0.076413,
     "end_time": "2021-03-23T01:59:18.075372",
     "exception": false,
     "start_time": "2021-03-23T01:59:17.998959",
     "status": "completed"
    },
    "tags": []
   },
   "outputs": [],
   "source": [
    "data_main['Attrition']=data_main['Attrition_ind']\n",
    "data_main.head()"
   ]
  },
  {
   "cell_type": "code",
   "execution_count": null,
   "metadata": {
    "execution": {
     "iopub.execute_input": "2021-03-23T01:59:18.193504Z",
     "iopub.status.busy": "2021-03-23T01:59:18.192573Z",
     "iopub.status.idle": "2021-03-23T01:59:18.199277Z",
     "shell.execute_reply": "2021-03-23T01:59:18.198739Z"
    },
    "papermill": {
     "duration": 0.06793,
     "end_time": "2021-03-23T01:59:18.199385",
     "exception": false,
     "start_time": "2021-03-23T01:59:18.131455",
     "status": "completed"
    },
    "tags": []
   },
   "outputs": [],
   "source": [
    "data_main=data_main.drop(['Attrition_ind'],axis=1)\n",
    "data_main.columns"
   ]
  },
  {
   "cell_type": "code",
   "execution_count": null,
   "metadata": {
    "execution": {
     "iopub.execute_input": "2021-03-23T01:59:18.321035Z",
     "iopub.status.busy": "2021-03-23T01:59:18.319290Z",
     "iopub.status.idle": "2021-03-23T01:59:18.321732Z",
     "shell.execute_reply": "2021-03-23T01:59:18.322153Z"
    },
    "papermill": {
     "duration": 0.066099,
     "end_time": "2021-03-23T01:59:18.322259",
     "exception": false,
     "start_time": "2021-03-23T01:59:18.256160",
     "status": "completed"
    },
    "tags": []
   },
   "outputs": [],
   "source": [
    "X=data_main.drop('Attrition',axis=1)\n",
    "y=data_main.Attrition\n",
    "y"
   ]
  },
  {
   "cell_type": "code",
   "execution_count": null,
   "metadata": {
    "execution": {
     "iopub.execute_input": "2021-03-23T01:59:18.442141Z",
     "iopub.status.busy": "2021-03-23T01:59:18.441354Z",
     "iopub.status.idle": "2021-03-23T01:59:18.444120Z",
     "shell.execute_reply": "2021-03-23T01:59:18.443635Z"
    },
    "papermill": {
     "duration": 0.063468,
     "end_time": "2021-03-23T01:59:18.444211",
     "exception": false,
     "start_time": "2021-03-23T01:59:18.380743",
     "status": "completed"
    },
    "tags": []
   },
   "outputs": [],
   "source": [
    "features_label = data_main.columns[:-1]\n",
    "features_label"
   ]
  },
  {
   "cell_type": "code",
   "execution_count": null,
   "metadata": {
    "execution": {
     "iopub.execute_input": "2021-03-23T01:59:18.563726Z",
     "iopub.status.busy": "2021-03-23T01:59:18.562947Z",
     "iopub.status.idle": "2021-03-23T01:59:19.436378Z",
     "shell.execute_reply": "2021-03-23T01:59:19.435620Z"
    },
    "papermill": {
     "duration": 0.935021,
     "end_time": "2021-03-23T01:59:19.436515",
     "exception": false,
     "start_time": "2021-03-23T01:59:18.501494",
     "status": "completed"
    },
    "tags": []
   },
   "outputs": [],
   "source": [
    "#Fitting Random Forest Classification to the Training set\n",
    "from sklearn.ensemble import RandomForestClassifier\n",
    "classifier = RandomForestClassifier(n_estimators = 200, criterion = 'entropy', random_state = 0)\n",
    "classifier.fit(X, y)\n",
    "importances = classifier.feature_importances_\n",
    "indices = np. argsort(importances)[::-1]\n",
    "for i in range(X.shape[1]):\n",
    "    print (\"%2d) %-*s %f\" % (i + 1, 30, features_label[i],importances[indices[i]]))"
   ]
  },
  {
   "cell_type": "code",
   "execution_count": null,
   "metadata": {
    "execution": {
     "iopub.execute_input": "2021-03-23T01:59:19.567725Z",
     "iopub.status.busy": "2021-03-23T01:59:19.566168Z",
     "iopub.status.idle": "2021-03-23T01:59:19.570810Z",
     "shell.execute_reply": "2021-03-23T01:59:19.570304Z"
    },
    "papermill": {
     "duration": 0.071523,
     "end_time": "2021-03-23T01:59:19.570919",
     "exception": false,
     "start_time": "2021-03-23T01:59:19.499396",
     "status": "completed"
    },
    "tags": []
   },
   "outputs": [],
   "source": [
    "# Splitting into Train and Test Set\n",
    "from sklearn.model_selection import train_test_split\n",
    "X_train, X_test, y_train, y_test = train_test_split(X,y,\n",
    "                                                    test_size = 0.2,\n",
    "                                                    random_state = 0)"
   ]
  },
  {
   "cell_type": "code",
   "execution_count": null,
   "metadata": {
    "execution": {
     "iopub.execute_input": "2021-03-23T01:59:19.700835Z",
     "iopub.status.busy": "2021-03-23T01:59:19.699924Z",
     "iopub.status.idle": "2021-03-23T01:59:19.709731Z",
     "shell.execute_reply": "2021-03-23T01:59:19.709289Z"
    },
    "papermill": {
     "duration": 0.078851,
     "end_time": "2021-03-23T01:59:19.709841",
     "exception": false,
     "start_time": "2021-03-23T01:59:19.630990",
     "status": "completed"
    },
    "tags": []
   },
   "outputs": [],
   "source": [
    "# Feature Scaling\n",
    "from sklearn.preprocessing import StandardScaler\n",
    "sc = StandardScaler()\n",
    "X_train2 = pd.DataFrame(sc.fit_transform(X_train))\n",
    "X_test2 = pd.DataFrame(sc.transform(X_test))\n",
    "X_train2.columns = X_train.columns.values\n",
    "X_test2.columns = X_test.columns.values\n",
    "X_train2.index = X_train.index.values\n",
    "X_test2.index = X_test.index.values\n",
    "X_train = X_train2\n",
    "X_test = X_test2"
   ]
  },
  {
   "cell_type": "code",
   "execution_count": null,
   "metadata": {
    "execution": {
     "iopub.execute_input": "2021-03-23T01:59:19.840784Z",
     "iopub.status.busy": "2021-03-23T01:59:19.839980Z",
     "iopub.status.idle": "2021-03-23T01:59:19.864835Z",
     "shell.execute_reply": "2021-03-23T01:59:19.865535Z"
    },
    "papermill": {
     "duration": 0.09455,
     "end_time": "2021-03-23T01:59:19.865661",
     "exception": false,
     "start_time": "2021-03-23T01:59:19.771111",
     "status": "completed"
    },
    "tags": []
   },
   "outputs": [],
   "source": [
    "## DecisionTree\n",
    "from sklearn.tree import DecisionTreeClassifier\n",
    "from sklearn.metrics import confusion_matrix, accuracy_score, f1_score, precision_score, recall_score\n",
    "classifier = DecisionTreeClassifier(criterion=\"gini\", max_depth=5,min_samples_split=2,  min_samples_leaf=1,random_state=42) \n",
    "classifier.fit(X_train, y_train)\n",
    "\n",
    "# Predicting Test Set\n",
    "y_pred = classifier.predict(X_test)\n",
    "acc = accuracy_score(y_test, y_pred)\n",
    "prec = precision_score(y_test, y_pred)\n",
    "rec = recall_score(y_test, y_pred)\n",
    "f1 = f1_score(y_test, y_pred)\n",
    "results = pd.DataFrame([['DecisionTree', acc, prec, rec, f1]],\n",
    "               columns = ['Model', 'Accuracy', 'Precision', 'Recall', 'F1 Score'])\n",
    "\n",
    "results"
   ]
  }
 ],
 "metadata": {
  "kernelspec": {
   "display_name": "Python 3",
   "language": "python",
   "name": "python3"
  },
  "language_info": {
   "codemirror_mode": {
    "name": "ipython",
    "version": 3
   },
   "file_extension": ".py",
   "mimetype": "text/x-python",
   "name": "python",
   "nbconvert_exporter": "python",
   "pygments_lexer": "ipython3",
   "version": "3.8.3"
  },
  "papermill": {
   "duration": 13.405815,
   "end_time": "2021-03-23T01:59:20.032831",
   "environment_variables": {},
   "exception": null,
   "input_path": "__notebook__.ipynb",
   "output_path": "__notebook__.ipynb",
   "parameters": {},
   "start_time": "2021-03-23T01:59:06.627016",
   "version": "2.1.0"
  }
 },
 "nbformat": 4,
 "nbformat_minor": 4
}
